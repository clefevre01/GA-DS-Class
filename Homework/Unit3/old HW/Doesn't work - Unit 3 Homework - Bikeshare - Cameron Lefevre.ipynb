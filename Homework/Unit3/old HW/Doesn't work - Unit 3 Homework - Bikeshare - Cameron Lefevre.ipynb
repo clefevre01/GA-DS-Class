{
 "cells": [
  {
   "cell_type": "markdown",
   "metadata": {},
   "source": [
    "### TO DO\n",
    "\n",
    "Use Jonathans Utils function\n",
    "Or at least change my function so it only looks at validation and test scores, not training and validation scores"
   ]
  },
  {
   "cell_type": "markdown",
   "metadata": {},
   "source": [
    "### Import libraries"
   ]
  },
  {
   "cell_type": "code",
   "execution_count": 1,
   "metadata": {},
   "outputs": [],
   "source": [
    "import warnings\n",
    "warnings.simplefilter(action='ignore', category=FutureWarning)\n",
    "\n",
    "import pandas as pd\n",
    "import numpy as np\n",
    "import category_encoders as ce\n",
    "from sklearn.ensemble import GradientBoostingRegressor\n",
    "from datetime import datetime, timedelta\n",
    "from sklearn.pipeline import make_pipeline\n",
    "from sklearn.model_selection import TimeSeriesSplit, cross_val_score, train_test_split\n",
    "import plotly.express as px\n",
    "\n",
    "# I had my own get_val_scores-type function but yours is better so I'm using it :)\n",
    "from utils import extract_dates, get_val_scores"
   ]
  },
  {
   "cell_type": "markdown",
   "metadata": {},
   "source": [
    "### Define Functions\n",
    "\n",
    "__denote_null_values__ - Same function from class\n"
   ]
  },
  {
   "cell_type": "code",
   "execution_count": 2,
   "metadata": {},
   "outputs": [],
   "source": [
    "def denote_null_values(df):\n",
    "    #Denotes whether or not there are null values or not\n",
    "    empty_cols_query = df.isnull().sum() > 0\n",
    "    empty_df_cols = df.loc[:, empty_cols_query].columns.tolist()\n",
    "    for col in empty_df_cols:\n",
    "        col_name = f\"{col}_missing\"\n",
    "        df[col_name] = pd.isnull(df[col])\n",
    "    return df\n"
   ]
  },
  {
   "cell_type": "markdown",
   "metadata": {},
   "source": [
    "### Import Data\n",
    "\n",
    "Import data and see what we're working with"
   ]
  },
  {
   "cell_type": "code",
   "execution_count": 3,
   "metadata": {},
   "outputs": [
    {
     "data": {
      "text/html": [
       "<div>\n",
       "<style scoped>\n",
       "    .dataframe tbody tr th:only-of-type {\n",
       "        vertical-align: middle;\n",
       "    }\n",
       "\n",
       "    .dataframe tbody tr th {\n",
       "        vertical-align: top;\n",
       "    }\n",
       "\n",
       "    .dataframe thead th {\n",
       "        text-align: right;\n",
       "    }\n",
       "</style>\n",
       "<table border=\"1\" class=\"dataframe\">\n",
       "  <thead>\n",
       "    <tr style=\"text-align: right;\">\n",
       "      <th></th>\n",
       "      <th>datetime</th>\n",
       "      <th>season</th>\n",
       "      <th>holiday</th>\n",
       "      <th>workingday</th>\n",
       "      <th>weather</th>\n",
       "      <th>temp</th>\n",
       "      <th>atemp</th>\n",
       "      <th>humidity</th>\n",
       "      <th>windspeed</th>\n",
       "      <th>count</th>\n",
       "    </tr>\n",
       "  </thead>\n",
       "  <tbody>\n",
       "    <tr>\n",
       "      <th>0</th>\n",
       "      <td>2011-01-01 00:00:00</td>\n",
       "      <td>Spring</td>\n",
       "      <td>0</td>\n",
       "      <td>0</td>\n",
       "      <td>Clear Skies</td>\n",
       "      <td>9.84</td>\n",
       "      <td>14.395</td>\n",
       "      <td>81</td>\n",
       "      <td>0.0</td>\n",
       "      <td>16</td>\n",
       "    </tr>\n",
       "    <tr>\n",
       "      <th>1</th>\n",
       "      <td>2011-01-01 01:00:00</td>\n",
       "      <td>Spring</td>\n",
       "      <td>0</td>\n",
       "      <td>0</td>\n",
       "      <td>Clear Skies</td>\n",
       "      <td>9.02</td>\n",
       "      <td>13.635</td>\n",
       "      <td>80</td>\n",
       "      <td>0.0</td>\n",
       "      <td>40</td>\n",
       "    </tr>\n",
       "    <tr>\n",
       "      <th>2</th>\n",
       "      <td>2011-01-01 02:00:00</td>\n",
       "      <td>Spring</td>\n",
       "      <td>0</td>\n",
       "      <td>0</td>\n",
       "      <td>Clear Skies</td>\n",
       "      <td>9.02</td>\n",
       "      <td>13.635</td>\n",
       "      <td>80</td>\n",
       "      <td>0.0</td>\n",
       "      <td>32</td>\n",
       "    </tr>\n",
       "    <tr>\n",
       "      <th>3</th>\n",
       "      <td>2011-01-01 03:00:00</td>\n",
       "      <td>Spring</td>\n",
       "      <td>0</td>\n",
       "      <td>0</td>\n",
       "      <td>Clear Skies</td>\n",
       "      <td>9.84</td>\n",
       "      <td>14.395</td>\n",
       "      <td>75</td>\n",
       "      <td>0.0</td>\n",
       "      <td>13</td>\n",
       "    </tr>\n",
       "    <tr>\n",
       "      <th>4</th>\n",
       "      <td>2011-01-01 04:00:00</td>\n",
       "      <td>Spring</td>\n",
       "      <td>0</td>\n",
       "      <td>0</td>\n",
       "      <td>Clear Skies</td>\n",
       "      <td>9.84</td>\n",
       "      <td>14.395</td>\n",
       "      <td>75</td>\n",
       "      <td>0.0</td>\n",
       "      <td>1</td>\n",
       "    </tr>\n",
       "  </tbody>\n",
       "</table>\n",
       "</div>"
      ],
      "text/plain": [
       "              datetime  season  holiday  workingday      weather  temp  \\\n",
       "0  2011-01-01 00:00:00  Spring        0           0  Clear Skies  9.84   \n",
       "1  2011-01-01 01:00:00  Spring        0           0  Clear Skies  9.02   \n",
       "2  2011-01-01 02:00:00  Spring        0           0  Clear Skies  9.02   \n",
       "3  2011-01-01 03:00:00  Spring        0           0  Clear Skies  9.84   \n",
       "4  2011-01-01 04:00:00  Spring        0           0  Clear Skies  9.84   \n",
       "\n",
       "    atemp  humidity  windspeed  count  \n",
       "0  14.395        81        0.0     16  \n",
       "1  13.635        80        0.0     40  \n",
       "2  13.635        80        0.0     32  \n",
       "3  14.395        75        0.0     13  \n",
       "4  14.395        75        0.0      1  "
      ]
     },
     "execution_count": 3,
     "metadata": {},
     "output_type": "execute_result"
    }
   ],
   "source": [
    "df = pd.read_csv('/Users/cameronlefevre/Data Science/coding/GA-DS-Class/Homework/Unit3/data/bikeshare.csv')\n",
    "\n",
    "df.head()"
   ]
  },
  {
   "cell_type": "code",
   "execution_count": 4,
   "metadata": {},
   "outputs": [
    {
     "data": {
      "text/html": [
       "<div>\n",
       "<style scoped>\n",
       "    .dataframe tbody tr th:only-of-type {\n",
       "        vertical-align: middle;\n",
       "    }\n",
       "\n",
       "    .dataframe tbody tr th {\n",
       "        vertical-align: top;\n",
       "    }\n",
       "\n",
       "    .dataframe thead th {\n",
       "        text-align: right;\n",
       "    }\n",
       "</style>\n",
       "<table border=\"1\" class=\"dataframe\">\n",
       "  <thead>\n",
       "    <tr style=\"text-align: right;\">\n",
       "      <th></th>\n",
       "      <th>holiday</th>\n",
       "      <th>workingday</th>\n",
       "      <th>temp</th>\n",
       "      <th>atemp</th>\n",
       "      <th>humidity</th>\n",
       "      <th>windspeed</th>\n",
       "      <th>count</th>\n",
       "    </tr>\n",
       "  </thead>\n",
       "  <tbody>\n",
       "    <tr>\n",
       "      <th>count</th>\n",
       "      <td>10886.000000</td>\n",
       "      <td>10886.000000</td>\n",
       "      <td>10886.00000</td>\n",
       "      <td>10886.000000</td>\n",
       "      <td>10886.000000</td>\n",
       "      <td>10886.000000</td>\n",
       "      <td>10886.000000</td>\n",
       "    </tr>\n",
       "    <tr>\n",
       "      <th>mean</th>\n",
       "      <td>0.028569</td>\n",
       "      <td>0.680875</td>\n",
       "      <td>20.23086</td>\n",
       "      <td>23.655084</td>\n",
       "      <td>61.886460</td>\n",
       "      <td>12.799395</td>\n",
       "      <td>191.574132</td>\n",
       "    </tr>\n",
       "    <tr>\n",
       "      <th>std</th>\n",
       "      <td>0.166599</td>\n",
       "      <td>0.466159</td>\n",
       "      <td>7.79159</td>\n",
       "      <td>8.474601</td>\n",
       "      <td>19.245033</td>\n",
       "      <td>8.164537</td>\n",
       "      <td>181.144454</td>\n",
       "    </tr>\n",
       "    <tr>\n",
       "      <th>min</th>\n",
       "      <td>0.000000</td>\n",
       "      <td>0.000000</td>\n",
       "      <td>0.82000</td>\n",
       "      <td>0.760000</td>\n",
       "      <td>0.000000</td>\n",
       "      <td>0.000000</td>\n",
       "      <td>1.000000</td>\n",
       "    </tr>\n",
       "    <tr>\n",
       "      <th>25%</th>\n",
       "      <td>0.000000</td>\n",
       "      <td>0.000000</td>\n",
       "      <td>13.94000</td>\n",
       "      <td>16.665000</td>\n",
       "      <td>47.000000</td>\n",
       "      <td>7.001500</td>\n",
       "      <td>42.000000</td>\n",
       "    </tr>\n",
       "    <tr>\n",
       "      <th>50%</th>\n",
       "      <td>0.000000</td>\n",
       "      <td>1.000000</td>\n",
       "      <td>20.50000</td>\n",
       "      <td>24.240000</td>\n",
       "      <td>62.000000</td>\n",
       "      <td>12.998000</td>\n",
       "      <td>145.000000</td>\n",
       "    </tr>\n",
       "    <tr>\n",
       "      <th>75%</th>\n",
       "      <td>0.000000</td>\n",
       "      <td>1.000000</td>\n",
       "      <td>26.24000</td>\n",
       "      <td>31.060000</td>\n",
       "      <td>77.000000</td>\n",
       "      <td>16.997900</td>\n",
       "      <td>284.000000</td>\n",
       "    </tr>\n",
       "    <tr>\n",
       "      <th>max</th>\n",
       "      <td>1.000000</td>\n",
       "      <td>1.000000</td>\n",
       "      <td>41.00000</td>\n",
       "      <td>45.455000</td>\n",
       "      <td>100.000000</td>\n",
       "      <td>56.996900</td>\n",
       "      <td>977.000000</td>\n",
       "    </tr>\n",
       "  </tbody>\n",
       "</table>\n",
       "</div>"
      ],
      "text/plain": [
       "            holiday    workingday         temp         atemp      humidity  \\\n",
       "count  10886.000000  10886.000000  10886.00000  10886.000000  10886.000000   \n",
       "mean       0.028569      0.680875     20.23086     23.655084     61.886460   \n",
       "std        0.166599      0.466159      7.79159      8.474601     19.245033   \n",
       "min        0.000000      0.000000      0.82000      0.760000      0.000000   \n",
       "25%        0.000000      0.000000     13.94000     16.665000     47.000000   \n",
       "50%        0.000000      1.000000     20.50000     24.240000     62.000000   \n",
       "75%        0.000000      1.000000     26.24000     31.060000     77.000000   \n",
       "max        1.000000      1.000000     41.00000     45.455000    100.000000   \n",
       "\n",
       "          windspeed         count  \n",
       "count  10886.000000  10886.000000  \n",
       "mean      12.799395    191.574132  \n",
       "std        8.164537    181.144454  \n",
       "min        0.000000      1.000000  \n",
       "25%        7.001500     42.000000  \n",
       "50%       12.998000    145.000000  \n",
       "75%       16.997900    284.000000  \n",
       "max       56.996900    977.000000  "
      ]
     },
     "execution_count": 4,
     "metadata": {},
     "output_type": "execute_result"
    }
   ],
   "source": [
    "df.describe()"
   ]
  },
  {
   "cell_type": "code",
   "execution_count": 5,
   "metadata": {},
   "outputs": [
    {
     "data": {
      "text/plain": [
       "datetime      0\n",
       "season        0\n",
       "holiday       0\n",
       "workingday    0\n",
       "weather       0\n",
       "temp          0\n",
       "atemp         0\n",
       "humidity      0\n",
       "windspeed     0\n",
       "count         0\n",
       "dtype: int64"
      ]
     },
     "execution_count": 5,
     "metadata": {},
     "output_type": "execute_result"
    }
   ],
   "source": [
    "df.isnull().sum()"
   ]
  },
  {
   "cell_type": "code",
   "execution_count": 6,
   "metadata": {},
   "outputs": [
    {
     "data": {
      "text/plain": [
       "array(['Spring', 'Summer', 'Fall', 'Winter'], dtype=object)"
      ]
     },
     "execution_count": 6,
     "metadata": {},
     "output_type": "execute_result"
    }
   ],
   "source": [
    "df['season'].unique()"
   ]
  },
  {
   "cell_type": "code",
   "execution_count": 7,
   "metadata": {},
   "outputs": [
    {
     "data": {
      "text/plain": [
       "array(['Clear Skies', 'Partly Cloudy', 'Light Storms/Rain',\n",
       "       'Heavy Storms/Rain'], dtype=object)"
      ]
     },
     "execution_count": 7,
     "metadata": {},
     "output_type": "execute_result"
    }
   ],
   "source": [
    "df['weather'].unique()"
   ]
  },
  {
   "cell_type": "code",
   "execution_count": 8,
   "metadata": {},
   "outputs": [
    {
     "data": {
      "text/plain": [
       "array([0, 1])"
      ]
     },
     "execution_count": 8,
     "metadata": {},
     "output_type": "execute_result"
    }
   ],
   "source": [
    "df['workingday'].unique()"
   ]
  },
  {
   "cell_type": "code",
   "execution_count": 9,
   "metadata": {},
   "outputs": [],
   "source": [
    "# Re-import data with better data types and sort by 'datetime'\n",
    "\n",
    "dtypes = {\n",
    "    'season': 'category',\n",
    "    'holiday': np.int8,\n",
    "    'workingday': np.int8,\n",
    "    'weather': 'category',\n",
    "    'temp': np.float32,\n",
    "    'atemp': np.float32,\n",
    "    'humidity': np.int8,\n",
    "    'windspeed': np.float32,\n",
    "    'count': np.int16\n",
    "}\n",
    "\n",
    "df = pd.read_csv('/Users/cameronlefevre/Data Science/coding/GA-DS-Class/Homework/Unit3/data/bikeshare.csv', dtype=dtypes, parse_dates=['datetime'])\n",
    "\n",
    "df.sort_values(by=['datetime'], ascending=True, inplace=True)\n",
    "df.reset_index(drop=True, inplace=True)"
   ]
  },
  {
   "cell_type": "markdown",
   "metadata": {},
   "source": [
    "Do we have missing data that we'll need to work around?\n",
    "\n",
    "Yes. In addition to only have data for the first 19 days of each month, many days are missing a couple of entries."
   ]
  },
  {
   "cell_type": "code",
   "execution_count": 10,
   "metadata": {
    "scrolled": true
   },
   "outputs": [
    {
     "name": "stdout",
     "output_type": "stream",
     "text": [
      "datetime  datetime  datetime\n",
      "2011      1         1           24\n",
      "                    2           23\n",
      "                    3           22\n",
      "                    4           23\n",
      "                    5           23\n",
      "                    6           23\n",
      "                    7           23\n",
      "                    8           24\n",
      "                    9           24\n",
      "                    10          24\n",
      "                    11          22\n",
      "                    12          22\n",
      "                    13          24\n",
      "                    14          23\n",
      "                    15          24\n",
      "                    16          24\n",
      "                    17          24\n",
      "                    18          12\n",
      "                    19          23\n",
      "          2         1           23\n",
      "                    2           24\n",
      "                    3           23\n",
      "                    4           23\n",
      "                    5           24\n",
      "                    6           24\n",
      "                    7           24\n",
      "                    8           24\n",
      "                    9           23\n",
      "                    10          23\n",
      "                    11          22\n",
      "                    12          24\n",
      "                    13          23\n",
      "                    14          24\n",
      "                    15          23\n",
      "                    16          23\n",
      "                    17          24\n",
      "                    18          24\n",
      "                    19          24\n",
      "          3         1           24\n",
      "                    2           24\n",
      "                    3           24\n",
      "                    4           24\n",
      "                    5           24\n",
      "                    6           23\n",
      "                    7           23\n",
      "                    8           24\n",
      "                    9           24\n",
      "                    10          22\n",
      "                    11          23\n",
      "                    12          24\n",
      "                    13          23\n",
      "                    14          23\n",
      "                    15          23\n",
      "                    16          23\n",
      "                    17          24\n",
      "                    18          23\n",
      "                    19          24\n",
      "          4         1           24\n",
      "                    2           24\n",
      "                    3           24\n",
      "                    4           24\n",
      "                    5           24\n",
      "                    6           24\n",
      "                    7           24\n",
      "                    8           24\n",
      "                    9           24\n",
      "                    10          24\n",
      "                    11          23\n",
      "                    12          24\n",
      "                    13          24\n",
      "                    14          24\n",
      "                    15          24\n",
      "                    16          24\n",
      "                    17          24\n",
      "                    18          24\n",
      "                    19          24\n",
      "          5         1           24\n",
      "                    2           24\n",
      "                    3           24\n",
      "                    4           24\n",
      "                    5           24\n",
      "                    6           24\n",
      "                    7           24\n",
      "                    8           24\n",
      "                    9           24\n",
      "                    10          24\n",
      "                    11          24\n",
      "                    12          24\n",
      "                    13          24\n",
      "                    14          24\n",
      "                    15          24\n",
      "                    16          24\n",
      "                    17          24\n",
      "                    18          24\n",
      "                    19          24\n",
      "          6         1           24\n",
      "                    2           24\n",
      "                    3           24\n",
      "                    4           24\n",
      "                    5           24\n",
      "                    6           24\n",
      "                    7           24\n",
      "                    8           24\n",
      "                    9           24\n",
      "                    10          24\n",
      "                    11          24\n",
      "                    12          24\n",
      "                    13          24\n",
      "                    14          24\n",
      "                    15          24\n",
      "                    16          24\n",
      "                    17          24\n",
      "                    18          24\n",
      "                    19          24\n",
      "          7         1           24\n",
      "                    2           24\n",
      "                    3           24\n",
      "                    4           24\n",
      "                    5           24\n",
      "                    6           24\n",
      "                    7           24\n",
      "                    8           24\n",
      "                    9           24\n",
      "                    10          24\n",
      "                    11          24\n",
      "                    12          24\n",
      "                    13          24\n",
      "                    14          24\n",
      "                    15          24\n",
      "                    16          24\n",
      "                    17          24\n",
      "                    18          24\n",
      "                    19          24\n",
      "          8         1           24\n",
      "                    2           24\n",
      "                    3           24\n",
      "                    4           24\n",
      "                    5           24\n",
      "                    6           24\n",
      "                    7           24\n",
      "                    8           24\n",
      "                    9           24\n",
      "                    10          24\n",
      "                    11          24\n",
      "                    12          24\n",
      "                    13          24\n",
      "                    14          24\n",
      "                    15          24\n",
      "                    16          24\n",
      "                    17          24\n",
      "                    18          24\n",
      "                    19          24\n",
      "          9         1           24\n",
      "                    2           24\n",
      "                    3           24\n",
      "                    4           24\n",
      "                    5           24\n",
      "                    6           23\n",
      "                    7           24\n",
      "                    8           23\n",
      "                    9           24\n",
      "                    10          24\n",
      "                    11          24\n",
      "                    12          23\n",
      "                    13          24\n",
      "                    14          24\n",
      "                    15          24\n",
      "                    16          24\n",
      "                    17          24\n",
      "                    18          24\n",
      "                    19          24\n",
      "          10        1           24\n",
      "                    2           24\n",
      "                    3           24\n",
      "                    4           24\n",
      "                    5           24\n",
      "                    6           24\n",
      "                    7           24\n",
      "                    8           24\n",
      "                    9           24\n",
      "                    10          24\n",
      "                    11          24\n",
      "                    12          24\n",
      "                    13          24\n",
      "                    14          24\n",
      "                    15          24\n",
      "                    16          24\n",
      "                    17          24\n",
      "                    18          24\n",
      "                    19          23\n",
      "          11        1           24\n",
      "                    2           24\n",
      "                    3           24\n",
      "                    4           24\n",
      "                    5           24\n",
      "                    6           24\n",
      "                    7           24\n",
      "                    8           24\n",
      "                    9           24\n",
      "                    10          24\n",
      "                    11          24\n",
      "                    12          24\n",
      "                    13          24\n",
      "                    14          24\n",
      "                    15          24\n",
      "                    16          24\n",
      "                    17          24\n",
      "                    18          24\n",
      "                    19          24\n",
      "          12        1           24\n",
      "                    2           24\n",
      "                    3           24\n",
      "                    4           24\n",
      "                    5           24\n",
      "                    6           24\n",
      "                    7           24\n",
      "                    8           24\n",
      "                    9           24\n",
      "                    10          24\n",
      "                    11          24\n",
      "                    12          24\n",
      "                    13          24\n",
      "                    14          24\n",
      "                    15          24\n",
      "                    16          24\n",
      "                    17          24\n",
      "                    18          24\n",
      "                    19          24\n",
      "2012      1         1           24\n",
      "                    2           23\n",
      "                    3           24\n",
      "                    4           24\n",
      "                    5           24\n",
      "                    6           24\n",
      "                    7           24\n",
      "                    8           24\n",
      "                    9           24\n",
      "                    10          23\n",
      "                    11          24\n",
      "                    12          24\n",
      "                    13          24\n",
      "                    14          24\n",
      "                    15          24\n",
      "                    16          24\n",
      "                    17          23\n",
      "                    18          24\n",
      "                    19          24\n",
      "          2         1           24\n",
      "                    2           24\n",
      "                    3           24\n",
      "                    4           24\n",
      "                    5           24\n",
      "                    6           23\n",
      "                    7           24\n",
      "                    8           24\n",
      "                    9           24\n",
      "                    10          24\n",
      "                    11          24\n",
      "                    12          24\n",
      "                    13          24\n",
      "                    14          24\n",
      "                    15          24\n",
      "                    16          24\n",
      "                    17          24\n",
      "                    18          24\n",
      "                    19          24\n",
      "          3         1           24\n",
      "                    2           24\n",
      "                    3           24\n",
      "                    4           24\n",
      "                    5           24\n",
      "                    6           24\n",
      "                    7           24\n",
      "                    8           24\n",
      "                    9           24\n",
      "                    10          24\n",
      "                    11          23\n",
      "                    12          24\n",
      "                    13          24\n",
      "                    14          24\n",
      "                    15          24\n",
      "                    16          24\n",
      "                    17          24\n",
      "                    18          24\n",
      "                    19          24\n",
      "          4         1           24\n",
      "                    2           23\n",
      "                    3           24\n",
      "                    4           24\n",
      "                    5           24\n",
      "                    6           24\n",
      "                    7           24\n",
      "                    8           24\n",
      "                    9           24\n",
      "                    10          24\n",
      "                    11          23\n",
      "                    12          24\n",
      "                    13          24\n",
      "                    14          24\n",
      "                    15          24\n",
      "                    16          24\n",
      "                    17          24\n",
      "                    18          24\n",
      "                    19          24\n",
      "          5         1           24\n",
      "                    2           24\n",
      "                    3           24\n",
      "                    4           24\n",
      "                    5           24\n",
      "                    6           24\n",
      "                    7           24\n",
      "                    8           24\n",
      "                    9           24\n",
      "                    10          24\n",
      "                    11          24\n",
      "                    12          24\n",
      "                    13          24\n",
      "                    14          24\n",
      "                    15          24\n",
      "                    16          24\n",
      "                    17          24\n",
      "                    18          24\n",
      "                    19          24\n",
      "          6         1           24\n",
      "                    2           24\n",
      "                    3           24\n",
      "                    4           24\n",
      "                    5           24\n",
      "                    6           24\n",
      "                    7           24\n",
      "                    8           24\n",
      "                    9           24\n",
      "                    10          24\n",
      "                    11          24\n",
      "                    12          24\n",
      "                    13          24\n",
      "                    14          24\n",
      "                    15          24\n",
      "                    16          24\n",
      "                    17          24\n",
      "                    18          24\n",
      "                    19          24\n",
      "          7         1           24\n",
      "                    2           24\n",
      "                    3           24\n",
      "                    4           24\n",
      "                    5           24\n",
      "                    6           24\n",
      "                    7           24\n",
      "                    8           24\n",
      "                    9           24\n",
      "                    10          24\n",
      "                    11          24\n",
      "                    12          24\n",
      "                    13          24\n",
      "                    14          24\n",
      "                    15          24\n",
      "                    16          24\n",
      "                    17          24\n",
      "                    18          24\n",
      "                    19          24\n",
      "          8         1           24\n",
      "                    2           24\n",
      "                    3           24\n",
      "                    4           24\n",
      "                    5           24\n",
      "                    6           24\n",
      "                    7           24\n",
      "                    8           24\n",
      "                    9           24\n",
      "                    10          24\n",
      "                    11          24\n",
      "                    12          24\n",
      "                    13          24\n",
      "                    14          24\n",
      "                    15          24\n",
      "                    16          24\n",
      "                    17          24\n",
      "                    18          24\n",
      "                    19          24\n",
      "          9         1           24\n",
      "                    2           24\n",
      "                    3           24\n",
      "                    4           24\n",
      "                    5           24\n",
      "                    6           24\n",
      "                    7           24\n",
      "                    8           24\n",
      "                    9           24\n",
      "                    10          24\n",
      "                    11          24\n",
      "                    12          24\n",
      "                    13          24\n",
      "                    14          24\n",
      "                    15          24\n",
      "                    16          24\n",
      "                    17          24\n",
      "                    18          24\n",
      "                    19          24\n",
      "          10        1           24\n",
      "                    2           24\n",
      "                    3           24\n",
      "                    4           24\n",
      "                    5           24\n",
      "                    6           24\n",
      "                    7           24\n",
      "                    8           24\n",
      "                    9           24\n",
      "                    10          24\n",
      "                    11          24\n",
      "                    12          24\n",
      "                    13          24\n",
      "                    14          24\n",
      "                    15          24\n",
      "                    16          24\n",
      "                    17          24\n",
      "                    18          24\n",
      "                    19          24\n",
      "          11        1           24\n",
      "                    2           24\n",
      "                    3           24\n",
      "                    4           24\n",
      "                    5           24\n",
      "                    6           24\n",
      "                    7           24\n",
      "                    8           23\n",
      "                    9           24\n",
      "                    10          24\n",
      "                    11          24\n",
      "                    12          24\n",
      "                    13          24\n",
      "                    14          24\n",
      "                    15          24\n",
      "                    16          24\n",
      "                    17          24\n",
      "                    18          24\n",
      "                    19          24\n",
      "          12        1           24\n",
      "                    2           24\n",
      "                    3           24\n",
      "                    4           24\n",
      "                    5           24\n",
      "                    6           24\n",
      "                    7           24\n",
      "                    8           24\n",
      "                    9           24\n",
      "                    10          24\n",
      "                    11          24\n",
      "                    12          24\n",
      "                    13          24\n",
      "                    14          24\n",
      "                    15          24\n",
      "                    16          24\n",
      "                    17          24\n",
      "                    18          24\n",
      "                    19          24\n",
      "Name: count, dtype: int64\n"
     ]
    }
   ],
   "source": [
    "count_by_day = df.groupby([df['datetime'].dt.year, df['datetime'].dt.month, df['datetime'].dt.day])['count'].count()\n",
    "\n",
    "with pd.option_context('display.max_rows', None, 'display.max_columns', None):\n",
    "    print(count_by_day)"
   ]
  },
  {
   "cell_type": "markdown",
   "metadata": {},
   "source": [
    "### Initial model to see where we're starting from"
   ]
  },
  {
   "cell_type": "code",
   "execution_count": 11,
   "metadata": {},
   "outputs": [
    {
     "data": {
      "text/plain": [
       "{'validation_score': 0.9993924836633843, 'test_score': 0.9998530661906342}"
      ]
     },
     "execution_count": 11,
     "metadata": {},
     "output_type": "execute_result"
    }
   ],
   "source": [
    "# initial model fitting to see where we're starting\n",
    "\n",
    "pipe = make_pipeline(ce.TargetEncoder(), GradientBoostingRegressor())\n",
    "\n",
    "X = df.drop(['datetime'], axis=1)\n",
    "y = df['count']\n",
    "\n",
    "scores = get_val_scores(pipe, X, y, return_test_score=True, randomize=False, test_size=0.1, val_size=0.1, use_kfold=False)\n",
    "\n",
    "scores"
   ]
  },
  {
   "cell_type": "markdown",
   "metadata": {},
   "source": [
    "### Feature Engineering"
   ]
  },
  {
   "cell_type": "markdown",
   "metadata": {},
   "source": [
    "First, convert the 'datetime' column into more usable columns"
   ]
  },
  {
   "cell_type": "code",
   "execution_count": 17,
   "metadata": {},
   "outputs": [
    {
     "name": "stdout",
     "output_type": "stream",
     "text": [
      "Validation Set Score: 0.7752723581777791\n"
     ]
    }
   ],
   "source": [
    "# Add column for hour of day\n",
    "df['hour_of_day'] = df['datetime'].dt.hour\n",
    "\n",
    "# Add column for day of week\n",
    "df['day_of_week'] = df['datetime'].dt.dayofweek\n",
    "\n",
    "# Add column for day of month\n",
    "df['day_of_month'] = df['datetime'].dt.day\n",
    "\n",
    "# Add column for month\n",
    "df['month'] = df['datetime'].dt.month\n",
    "\n",
    "# Let's see how that impacted the score\n",
    "fit_and_score(df)"
   ]
  },
  {
   "cell_type": "markdown",
   "metadata": {},
   "source": [
    "How are bike rentals impacted by the hour of the day and day of the week?"
   ]
  },
  {
   "cell_type": "code",
   "execution_count": 106,
   "metadata": {
    "scrolled": false
   },
   "outputs": [
    {
     "data": {
      "application/vnd.plotly.v1+json": {
       "config": {
        "plotlyServerURL": "https://plot.ly"
       },
       "data": [
        {
         "hovertemplate": "day=Friday<br>hour_of_day=%{x}<br>count=%{y}<extra></extra>",
         "legendgroup": "Friday",
         "line": {
          "color": "#636efa",
          "dash": "solid"
         },
         "mode": "lines",
         "name": "Friday",
         "orientation": "v",
         "showlegend": true,
         "type": "scatter",
         "x": [
          0,
          1,
          2,
          3,
          4,
          5,
          6,
          7,
          8,
          9,
          10,
          11,
          12,
          13,
          14,
          15,
          16,
          17,
          18,
          19,
          20,
          21,
          22,
          23
         ],
         "xaxis": "x",
         "y": [
          53.234375,
          24.453125,
          12.53125,
          6.32258064516129,
          5.932203389830509,
          23.375,
          91.359375,
          254.109375,
          470.203125,
          262.40625,
          156.8125,
          186.828125,
          236.359375,
          243.28125,
          227.0625,
          248.453125,
          331.5,
          502.015625,
          427.59375,
          303.5625,
          216.796875,
          170.921875,
          152.625,
          119.546875
         ],
         "yaxis": "y"
        },
        {
         "hovertemplate": "day=Monday<br>hour_of_day=%{x}<br>count=%{y}<extra></extra>",
         "legendgroup": "Monday",
         "line": {
          "color": "#EF553B",
          "dash": "solid"
         },
         "mode": "lines",
         "name": "Monday",
         "orientation": "v",
         "showlegend": true,
         "type": "scatter",
         "x": [
          0,
          1,
          2,
          3,
          4,
          5,
          6,
          7,
          8,
          9,
          10,
          11,
          12,
          13,
          14,
          15,
          16,
          17,
          18,
          19,
          20,
          21,
          22,
          23
         ],
         "xaxis": "x",
         "y": [
          35.49230769230769,
          18.076923076923077,
          10.666666666666666,
          5.677966101694915,
          6.140625,
          22.415384615384614,
          89.24615384615385,
          260.4,
          428.10769230769233,
          226.35384615384615,
          140.98461538461538,
          171.33846153846153,
          214.58461538461538,
          213.3846153846154,
          199.56923076923076,
          210.15384615384616,
          295.04615384615386,
          521.3846153846154,
          499.5692307692308,
          359.9384615384615,
          249.6769230769231,
          178.95384615384614,
          120.03076923076924,
          66.76923076923077
         ],
         "yaxis": "y"
        },
        {
         "hovertemplate": "day=Saturday<br>hour_of_day=%{x}<br>count=%{y}<extra></extra>",
         "legendgroup": "Saturday",
         "line": {
          "color": "#00cc96",
          "dash": "solid"
         },
         "mode": "lines",
         "name": "Saturday",
         "orientation": "v",
         "showlegend": true,
         "type": "scatter",
         "x": [
          0,
          1,
          2,
          3,
          4,
          5,
          6,
          7,
          8,
          9,
          10,
          11,
          12,
          13,
          14,
          15,
          16,
          17,
          18,
          19,
          20,
          21,
          22,
          23
         ],
         "xaxis": "x",
         "y": [
          98.21212121212122,
          70.01515151515152,
          50.34848484848485,
          23.060606060606062,
          7.666666666666667,
          8.515151515151516,
          21.12121212121212,
          47.24242424242424,
          117.56060606060606,
          190.6060606060606,
          269.530303030303,
          339.4848484848485,
          388.8636363636364,
          402.8939393939394,
          398.40909090909093,
          398.8333333333333,
          380.1666666666667,
          346.27272727272725,
          300.72727272727275,
          249.96969696969697,
          188.06060606060606,
          159.0151515151515,
          143.36363636363637,
          120.03030303030303
         ],
         "yaxis": "y"
        },
        {
         "hovertemplate": "day=Sunday<br>hour_of_day=%{x}<br>count=%{y}<extra></extra>",
         "legendgroup": "Sunday",
         "line": {
          "color": "#ab63fa",
          "dash": "solid"
         },
         "mode": "lines",
         "name": "Sunday",
         "orientation": "v",
         "showlegend": true,
         "type": "scatter",
         "x": [
          0,
          1,
          2,
          3,
          4,
          5,
          6,
          7,
          8,
          9,
          10,
          11,
          12,
          13,
          14,
          15,
          16,
          17,
          18,
          19,
          20,
          21,
          22,
          23
         ],
         "xaxis": "x",
         "y": [
          96.22727272727273,
          79.45454545454545,
          62.484375,
          30.393939393939394,
          9.651515151515152,
          9.476190476190476,
          15.136363636363637,
          34.74242424242424,
          83.95454545454545,
          158.66666666666666,
          264.6363636363636,
          321.24242424242425,
          381.3181818181818,
          384.8484848484849,
          370.40909090909093,
          364.5151515151515,
          365.530303030303,
          326.2878787878788,
          273.469696969697,
          227.25757575757575,
          172.5909090909091,
          131.93939393939394,
          99.78787878787878,
          64.75757575757575
         ],
         "yaxis": "y"
        },
        {
         "hovertemplate": "day=Thursday<br>hour_of_day=%{x}<br>count=%{y}<extra></extra>",
         "legendgroup": "Thursday",
         "line": {
          "color": "#FFA15A",
          "dash": "solid"
         },
         "mode": "lines",
         "name": "Thursday",
         "orientation": "v",
         "showlegend": true,
         "type": "scatter",
         "x": [
          0,
          1,
          2,
          3,
          4,
          5,
          6,
          7,
          8,
          9,
          10,
          11,
          12,
          13,
          14,
          15,
          16,
          17,
          18,
          19,
          20,
          21,
          22,
          23
         ],
         "xaxis": "x",
         "y": [
          37.47692307692308,
          15.415384615384616,
          8.421875,
          4.868852459016393,
          5.301587301587301,
          25.50769230769231,
          108.23076923076923,
          307.6923076923077,
          496.55384615384617,
          241.8153846153846,
          128.3230769230769,
          156.23076923076923,
          198.92307692307693,
          195.30769230769232,
          174.66153846153847,
          193.46153846153845,
          288.32307692307694,
          536.5538461538462,
          506.81538461538463,
          364.04615384615386,
          272.32307692307694,
          199.7076923076923,
          148.86153846153846,
          99.63076923076923
         ],
         "yaxis": "y"
        },
        {
         "hovertemplate": "day=Tuesday<br>hour_of_day=%{x}<br>count=%{y}<extra></extra>",
         "legendgroup": "Tuesday",
         "line": {
          "color": "#19d3f3",
          "dash": "solid"
         },
         "mode": "lines",
         "name": "Tuesday",
         "orientation": "v",
         "showlegend": true,
         "type": "scatter",
         "x": [
          0,
          1,
          2,
          3,
          4,
          5,
          6,
          7,
          8,
          9,
          10,
          11,
          12,
          13,
          14,
          15,
          16,
          17,
          18,
          19,
          20,
          21,
          22,
          23
         ],
         "xaxis": "x",
         "y": [
          27.328125,
          11.904761904761905,
          6.203125,
          4.0344827586206895,
          5.241935483870968,
          24.015625,
          105.375,
          297.609375,
          469.171875,
          236.140625,
          129.1875,
          145.609375,
          181.03076923076924,
          181.84615384615384,
          162.47692307692307,
          181.07692307692307,
          284.10769230769233,
          544.1692307692308,
          522.8153846153846,
          356.12307692307695,
          249.90769230769232,
          183.2153846153846,
          130.63076923076923,
          76.06153846153846
         ],
         "yaxis": "y"
        },
        {
         "hovertemplate": "day=Wednesday<br>hour_of_day=%{x}<br>count=%{y}<extra></extra>",
         "legendgroup": "Wednesday",
         "line": {
          "color": "#FF6692",
          "dash": "solid"
         },
         "mode": "lines",
         "name": "Wednesday",
         "orientation": "v",
         "showlegend": true,
         "type": "scatter",
         "x": [
          0,
          1,
          2,
          3,
          4,
          5,
          6,
          7,
          8,
          9,
          10,
          11,
          12,
          13,
          14,
          15,
          16,
          17,
          18,
          19,
          20,
          21,
          22,
          23
         ],
         "xaxis": "x",
         "y": [
          36.246153846153845,
          15.615384615384615,
          8.365079365079366,
          5,
          4.629032258064516,
          25.046153846153846,
          105.81538461538462,
          297.24615384615385,
          485.18461538461537,
          238.76923076923077,
          132.35384615384615,
          148.93846153846152,
          190.2153846153846,
          178.53846153846155,
          166.92307692307693,
          179.58461538461538,
          268.4307692307692,
          509.26153846153846,
          489.4,
          348.2307692307692,
          251.56923076923076,
          190.66153846153847,
          140.4,
          80.13846153846154
         ],
         "yaxis": "y"
        }
       ],
       "layout": {
        "legend": {
         "title": {
          "text": "day"
         },
         "tracegroupgap": 0
        },
        "template": {
         "data": {
          "bar": [
           {
            "error_x": {
             "color": "#2a3f5f"
            },
            "error_y": {
             "color": "#2a3f5f"
            },
            "marker": {
             "line": {
              "color": "#E5ECF6",
              "width": 0.5
             }
            },
            "type": "bar"
           }
          ],
          "barpolar": [
           {
            "marker": {
             "line": {
              "color": "#E5ECF6",
              "width": 0.5
             }
            },
            "type": "barpolar"
           }
          ],
          "carpet": [
           {
            "aaxis": {
             "endlinecolor": "#2a3f5f",
             "gridcolor": "white",
             "linecolor": "white",
             "minorgridcolor": "white",
             "startlinecolor": "#2a3f5f"
            },
            "baxis": {
             "endlinecolor": "#2a3f5f",
             "gridcolor": "white",
             "linecolor": "white",
             "minorgridcolor": "white",
             "startlinecolor": "#2a3f5f"
            },
            "type": "carpet"
           }
          ],
          "choropleth": [
           {
            "colorbar": {
             "outlinewidth": 0,
             "ticks": ""
            },
            "type": "choropleth"
           }
          ],
          "contour": [
           {
            "colorbar": {
             "outlinewidth": 0,
             "ticks": ""
            },
            "colorscale": [
             [
              0,
              "#0d0887"
             ],
             [
              0.1111111111111111,
              "#46039f"
             ],
             [
              0.2222222222222222,
              "#7201a8"
             ],
             [
              0.3333333333333333,
              "#9c179e"
             ],
             [
              0.4444444444444444,
              "#bd3786"
             ],
             [
              0.5555555555555556,
              "#d8576b"
             ],
             [
              0.6666666666666666,
              "#ed7953"
             ],
             [
              0.7777777777777778,
              "#fb9f3a"
             ],
             [
              0.8888888888888888,
              "#fdca26"
             ],
             [
              1,
              "#f0f921"
             ]
            ],
            "type": "contour"
           }
          ],
          "contourcarpet": [
           {
            "colorbar": {
             "outlinewidth": 0,
             "ticks": ""
            },
            "type": "contourcarpet"
           }
          ],
          "heatmap": [
           {
            "colorbar": {
             "outlinewidth": 0,
             "ticks": ""
            },
            "colorscale": [
             [
              0,
              "#0d0887"
             ],
             [
              0.1111111111111111,
              "#46039f"
             ],
             [
              0.2222222222222222,
              "#7201a8"
             ],
             [
              0.3333333333333333,
              "#9c179e"
             ],
             [
              0.4444444444444444,
              "#bd3786"
             ],
             [
              0.5555555555555556,
              "#d8576b"
             ],
             [
              0.6666666666666666,
              "#ed7953"
             ],
             [
              0.7777777777777778,
              "#fb9f3a"
             ],
             [
              0.8888888888888888,
              "#fdca26"
             ],
             [
              1,
              "#f0f921"
             ]
            ],
            "type": "heatmap"
           }
          ],
          "heatmapgl": [
           {
            "colorbar": {
             "outlinewidth": 0,
             "ticks": ""
            },
            "colorscale": [
             [
              0,
              "#0d0887"
             ],
             [
              0.1111111111111111,
              "#46039f"
             ],
             [
              0.2222222222222222,
              "#7201a8"
             ],
             [
              0.3333333333333333,
              "#9c179e"
             ],
             [
              0.4444444444444444,
              "#bd3786"
             ],
             [
              0.5555555555555556,
              "#d8576b"
             ],
             [
              0.6666666666666666,
              "#ed7953"
             ],
             [
              0.7777777777777778,
              "#fb9f3a"
             ],
             [
              0.8888888888888888,
              "#fdca26"
             ],
             [
              1,
              "#f0f921"
             ]
            ],
            "type": "heatmapgl"
           }
          ],
          "histogram": [
           {
            "marker": {
             "colorbar": {
              "outlinewidth": 0,
              "ticks": ""
             }
            },
            "type": "histogram"
           }
          ],
          "histogram2d": [
           {
            "colorbar": {
             "outlinewidth": 0,
             "ticks": ""
            },
            "colorscale": [
             [
              0,
              "#0d0887"
             ],
             [
              0.1111111111111111,
              "#46039f"
             ],
             [
              0.2222222222222222,
              "#7201a8"
             ],
             [
              0.3333333333333333,
              "#9c179e"
             ],
             [
              0.4444444444444444,
              "#bd3786"
             ],
             [
              0.5555555555555556,
              "#d8576b"
             ],
             [
              0.6666666666666666,
              "#ed7953"
             ],
             [
              0.7777777777777778,
              "#fb9f3a"
             ],
             [
              0.8888888888888888,
              "#fdca26"
             ],
             [
              1,
              "#f0f921"
             ]
            ],
            "type": "histogram2d"
           }
          ],
          "histogram2dcontour": [
           {
            "colorbar": {
             "outlinewidth": 0,
             "ticks": ""
            },
            "colorscale": [
             [
              0,
              "#0d0887"
             ],
             [
              0.1111111111111111,
              "#46039f"
             ],
             [
              0.2222222222222222,
              "#7201a8"
             ],
             [
              0.3333333333333333,
              "#9c179e"
             ],
             [
              0.4444444444444444,
              "#bd3786"
             ],
             [
              0.5555555555555556,
              "#d8576b"
             ],
             [
              0.6666666666666666,
              "#ed7953"
             ],
             [
              0.7777777777777778,
              "#fb9f3a"
             ],
             [
              0.8888888888888888,
              "#fdca26"
             ],
             [
              1,
              "#f0f921"
             ]
            ],
            "type": "histogram2dcontour"
           }
          ],
          "mesh3d": [
           {
            "colorbar": {
             "outlinewidth": 0,
             "ticks": ""
            },
            "type": "mesh3d"
           }
          ],
          "parcoords": [
           {
            "line": {
             "colorbar": {
              "outlinewidth": 0,
              "ticks": ""
             }
            },
            "type": "parcoords"
           }
          ],
          "pie": [
           {
            "automargin": true,
            "type": "pie"
           }
          ],
          "scatter": [
           {
            "marker": {
             "colorbar": {
              "outlinewidth": 0,
              "ticks": ""
             }
            },
            "type": "scatter"
           }
          ],
          "scatter3d": [
           {
            "line": {
             "colorbar": {
              "outlinewidth": 0,
              "ticks": ""
             }
            },
            "marker": {
             "colorbar": {
              "outlinewidth": 0,
              "ticks": ""
             }
            },
            "type": "scatter3d"
           }
          ],
          "scattercarpet": [
           {
            "marker": {
             "colorbar": {
              "outlinewidth": 0,
              "ticks": ""
             }
            },
            "type": "scattercarpet"
           }
          ],
          "scattergeo": [
           {
            "marker": {
             "colorbar": {
              "outlinewidth": 0,
              "ticks": ""
             }
            },
            "type": "scattergeo"
           }
          ],
          "scattergl": [
           {
            "marker": {
             "colorbar": {
              "outlinewidth": 0,
              "ticks": ""
             }
            },
            "type": "scattergl"
           }
          ],
          "scattermapbox": [
           {
            "marker": {
             "colorbar": {
              "outlinewidth": 0,
              "ticks": ""
             }
            },
            "type": "scattermapbox"
           }
          ],
          "scatterpolar": [
           {
            "marker": {
             "colorbar": {
              "outlinewidth": 0,
              "ticks": ""
             }
            },
            "type": "scatterpolar"
           }
          ],
          "scatterpolargl": [
           {
            "marker": {
             "colorbar": {
              "outlinewidth": 0,
              "ticks": ""
             }
            },
            "type": "scatterpolargl"
           }
          ],
          "scatterternary": [
           {
            "marker": {
             "colorbar": {
              "outlinewidth": 0,
              "ticks": ""
             }
            },
            "type": "scatterternary"
           }
          ],
          "surface": [
           {
            "colorbar": {
             "outlinewidth": 0,
             "ticks": ""
            },
            "colorscale": [
             [
              0,
              "#0d0887"
             ],
             [
              0.1111111111111111,
              "#46039f"
             ],
             [
              0.2222222222222222,
              "#7201a8"
             ],
             [
              0.3333333333333333,
              "#9c179e"
             ],
             [
              0.4444444444444444,
              "#bd3786"
             ],
             [
              0.5555555555555556,
              "#d8576b"
             ],
             [
              0.6666666666666666,
              "#ed7953"
             ],
             [
              0.7777777777777778,
              "#fb9f3a"
             ],
             [
              0.8888888888888888,
              "#fdca26"
             ],
             [
              1,
              "#f0f921"
             ]
            ],
            "type": "surface"
           }
          ],
          "table": [
           {
            "cells": {
             "fill": {
              "color": "#EBF0F8"
             },
             "line": {
              "color": "white"
             }
            },
            "header": {
             "fill": {
              "color": "#C8D4E3"
             },
             "line": {
              "color": "white"
             }
            },
            "type": "table"
           }
          ]
         },
         "layout": {
          "annotationdefaults": {
           "arrowcolor": "#2a3f5f",
           "arrowhead": 0,
           "arrowwidth": 1
          },
          "autotypenumbers": "strict",
          "coloraxis": {
           "colorbar": {
            "outlinewidth": 0,
            "ticks": ""
           }
          },
          "colorscale": {
           "diverging": [
            [
             0,
             "#8e0152"
            ],
            [
             0.1,
             "#c51b7d"
            ],
            [
             0.2,
             "#de77ae"
            ],
            [
             0.3,
             "#f1b6da"
            ],
            [
             0.4,
             "#fde0ef"
            ],
            [
             0.5,
             "#f7f7f7"
            ],
            [
             0.6,
             "#e6f5d0"
            ],
            [
             0.7,
             "#b8e186"
            ],
            [
             0.8,
             "#7fbc41"
            ],
            [
             0.9,
             "#4d9221"
            ],
            [
             1,
             "#276419"
            ]
           ],
           "sequential": [
            [
             0,
             "#0d0887"
            ],
            [
             0.1111111111111111,
             "#46039f"
            ],
            [
             0.2222222222222222,
             "#7201a8"
            ],
            [
             0.3333333333333333,
             "#9c179e"
            ],
            [
             0.4444444444444444,
             "#bd3786"
            ],
            [
             0.5555555555555556,
             "#d8576b"
            ],
            [
             0.6666666666666666,
             "#ed7953"
            ],
            [
             0.7777777777777778,
             "#fb9f3a"
            ],
            [
             0.8888888888888888,
             "#fdca26"
            ],
            [
             1,
             "#f0f921"
            ]
           ],
           "sequentialminus": [
            [
             0,
             "#0d0887"
            ],
            [
             0.1111111111111111,
             "#46039f"
            ],
            [
             0.2222222222222222,
             "#7201a8"
            ],
            [
             0.3333333333333333,
             "#9c179e"
            ],
            [
             0.4444444444444444,
             "#bd3786"
            ],
            [
             0.5555555555555556,
             "#d8576b"
            ],
            [
             0.6666666666666666,
             "#ed7953"
            ],
            [
             0.7777777777777778,
             "#fb9f3a"
            ],
            [
             0.8888888888888888,
             "#fdca26"
            ],
            [
             1,
             "#f0f921"
            ]
           ]
          },
          "colorway": [
           "#636efa",
           "#EF553B",
           "#00cc96",
           "#ab63fa",
           "#FFA15A",
           "#19d3f3",
           "#FF6692",
           "#B6E880",
           "#FF97FF",
           "#FECB52"
          ],
          "font": {
           "color": "#2a3f5f"
          },
          "geo": {
           "bgcolor": "white",
           "lakecolor": "white",
           "landcolor": "#E5ECF6",
           "showlakes": true,
           "showland": true,
           "subunitcolor": "white"
          },
          "hoverlabel": {
           "align": "left"
          },
          "hovermode": "closest",
          "mapbox": {
           "style": "light"
          },
          "paper_bgcolor": "white",
          "plot_bgcolor": "#E5ECF6",
          "polar": {
           "angularaxis": {
            "gridcolor": "white",
            "linecolor": "white",
            "ticks": ""
           },
           "bgcolor": "#E5ECF6",
           "radialaxis": {
            "gridcolor": "white",
            "linecolor": "white",
            "ticks": ""
           }
          },
          "scene": {
           "xaxis": {
            "backgroundcolor": "#E5ECF6",
            "gridcolor": "white",
            "gridwidth": 2,
            "linecolor": "white",
            "showbackground": true,
            "ticks": "",
            "zerolinecolor": "white"
           },
           "yaxis": {
            "backgroundcolor": "#E5ECF6",
            "gridcolor": "white",
            "gridwidth": 2,
            "linecolor": "white",
            "showbackground": true,
            "ticks": "",
            "zerolinecolor": "white"
           },
           "zaxis": {
            "backgroundcolor": "#E5ECF6",
            "gridcolor": "white",
            "gridwidth": 2,
            "linecolor": "white",
            "showbackground": true,
            "ticks": "",
            "zerolinecolor": "white"
           }
          },
          "shapedefaults": {
           "line": {
            "color": "#2a3f5f"
           }
          },
          "ternary": {
           "aaxis": {
            "gridcolor": "white",
            "linecolor": "white",
            "ticks": ""
           },
           "baxis": {
            "gridcolor": "white",
            "linecolor": "white",
            "ticks": ""
           },
           "bgcolor": "#E5ECF6",
           "caxis": {
            "gridcolor": "white",
            "linecolor": "white",
            "ticks": ""
           }
          },
          "title": {
           "x": 0.05
          },
          "xaxis": {
           "automargin": true,
           "gridcolor": "white",
           "linecolor": "white",
           "ticks": "",
           "title": {
            "standoff": 15
           },
           "zerolinecolor": "white",
           "zerolinewidth": 2
          },
          "yaxis": {
           "automargin": true,
           "gridcolor": "white",
           "linecolor": "white",
           "ticks": "",
           "title": {
            "standoff": 15
           },
           "zerolinecolor": "white",
           "zerolinewidth": 2
          }
         }
        },
        "title": {
         "text": "Bike Rentals by Hour by Day of Week"
        },
        "xaxis": {
         "anchor": "y",
         "domain": [
          0,
          1
         ],
         "nticks": 24,
         "title": {
          "text": "hour_of_day"
         }
        },
        "yaxis": {
         "anchor": "x",
         "domain": [
          0,
          1
         ],
         "title": {
          "text": "count"
         }
        }
       }
      },
      "text/html": [
       "<div>                            <div id=\"0b1f7e22-5224-40f2-a5db-7ba07e0bdaaf\" class=\"plotly-graph-div\" style=\"height:525px; width:100%;\"></div>            <script type=\"text/javascript\">                require([\"plotly\"], function(Plotly) {                    window.PLOTLYENV=window.PLOTLYENV || {};                                    if (document.getElementById(\"0b1f7e22-5224-40f2-a5db-7ba07e0bdaaf\")) {                    Plotly.newPlot(                        \"0b1f7e22-5224-40f2-a5db-7ba07e0bdaaf\",                        [{\"hovertemplate\": \"day=Friday<br>hour_of_day=%{x}<br>count=%{y}<extra></extra>\", \"legendgroup\": \"Friday\", \"line\": {\"color\": \"#636efa\", \"dash\": \"solid\"}, \"mode\": \"lines\", \"name\": \"Friday\", \"orientation\": \"v\", \"showlegend\": true, \"type\": \"scatter\", \"x\": [0, 1, 2, 3, 4, 5, 6, 7, 8, 9, 10, 11, 12, 13, 14, 15, 16, 17, 18, 19, 20, 21, 22, 23], \"xaxis\": \"x\", \"y\": [53.234375, 24.453125, 12.53125, 6.32258064516129, 5.932203389830509, 23.375, 91.359375, 254.109375, 470.203125, 262.40625, 156.8125, 186.828125, 236.359375, 243.28125, 227.0625, 248.453125, 331.5, 502.015625, 427.59375, 303.5625, 216.796875, 170.921875, 152.625, 119.546875], \"yaxis\": \"y\"}, {\"hovertemplate\": \"day=Monday<br>hour_of_day=%{x}<br>count=%{y}<extra></extra>\", \"legendgroup\": \"Monday\", \"line\": {\"color\": \"#EF553B\", \"dash\": \"solid\"}, \"mode\": \"lines\", \"name\": \"Monday\", \"orientation\": \"v\", \"showlegend\": true, \"type\": \"scatter\", \"x\": [0, 1, 2, 3, 4, 5, 6, 7, 8, 9, 10, 11, 12, 13, 14, 15, 16, 17, 18, 19, 20, 21, 22, 23], \"xaxis\": \"x\", \"y\": [35.49230769230769, 18.076923076923077, 10.666666666666666, 5.677966101694915, 6.140625, 22.415384615384614, 89.24615384615385, 260.4, 428.10769230769233, 226.35384615384615, 140.98461538461538, 171.33846153846153, 214.58461538461538, 213.3846153846154, 199.56923076923076, 210.15384615384616, 295.04615384615386, 521.3846153846154, 499.5692307692308, 359.9384615384615, 249.6769230769231, 178.95384615384614, 120.03076923076924, 66.76923076923077], \"yaxis\": \"y\"}, {\"hovertemplate\": \"day=Saturday<br>hour_of_day=%{x}<br>count=%{y}<extra></extra>\", \"legendgroup\": \"Saturday\", \"line\": {\"color\": \"#00cc96\", \"dash\": \"solid\"}, \"mode\": \"lines\", \"name\": \"Saturday\", \"orientation\": \"v\", \"showlegend\": true, \"type\": \"scatter\", \"x\": [0, 1, 2, 3, 4, 5, 6, 7, 8, 9, 10, 11, 12, 13, 14, 15, 16, 17, 18, 19, 20, 21, 22, 23], \"xaxis\": \"x\", \"y\": [98.21212121212122, 70.01515151515152, 50.34848484848485, 23.060606060606062, 7.666666666666667, 8.515151515151516, 21.12121212121212, 47.24242424242424, 117.56060606060606, 190.6060606060606, 269.530303030303, 339.4848484848485, 388.8636363636364, 402.8939393939394, 398.40909090909093, 398.8333333333333, 380.1666666666667, 346.27272727272725, 300.72727272727275, 249.96969696969697, 188.06060606060606, 159.0151515151515, 143.36363636363637, 120.03030303030303], \"yaxis\": \"y\"}, {\"hovertemplate\": \"day=Sunday<br>hour_of_day=%{x}<br>count=%{y}<extra></extra>\", \"legendgroup\": \"Sunday\", \"line\": {\"color\": \"#ab63fa\", \"dash\": \"solid\"}, \"mode\": \"lines\", \"name\": \"Sunday\", \"orientation\": \"v\", \"showlegend\": true, \"type\": \"scatter\", \"x\": [0, 1, 2, 3, 4, 5, 6, 7, 8, 9, 10, 11, 12, 13, 14, 15, 16, 17, 18, 19, 20, 21, 22, 23], \"xaxis\": \"x\", \"y\": [96.22727272727273, 79.45454545454545, 62.484375, 30.393939393939394, 9.651515151515152, 9.476190476190476, 15.136363636363637, 34.74242424242424, 83.95454545454545, 158.66666666666666, 264.6363636363636, 321.24242424242425, 381.3181818181818, 384.8484848484849, 370.40909090909093, 364.5151515151515, 365.530303030303, 326.2878787878788, 273.469696969697, 227.25757575757575, 172.5909090909091, 131.93939393939394, 99.78787878787878, 64.75757575757575], \"yaxis\": \"y\"}, {\"hovertemplate\": \"day=Thursday<br>hour_of_day=%{x}<br>count=%{y}<extra></extra>\", \"legendgroup\": \"Thursday\", \"line\": {\"color\": \"#FFA15A\", \"dash\": \"solid\"}, \"mode\": \"lines\", \"name\": \"Thursday\", \"orientation\": \"v\", \"showlegend\": true, \"type\": \"scatter\", \"x\": [0, 1, 2, 3, 4, 5, 6, 7, 8, 9, 10, 11, 12, 13, 14, 15, 16, 17, 18, 19, 20, 21, 22, 23], \"xaxis\": \"x\", \"y\": [37.47692307692308, 15.415384615384616, 8.421875, 4.868852459016393, 5.301587301587301, 25.50769230769231, 108.23076923076923, 307.6923076923077, 496.55384615384617, 241.8153846153846, 128.3230769230769, 156.23076923076923, 198.92307692307693, 195.30769230769232, 174.66153846153847, 193.46153846153845, 288.32307692307694, 536.5538461538462, 506.81538461538463, 364.04615384615386, 272.32307692307694, 199.7076923076923, 148.86153846153846, 99.63076923076923], \"yaxis\": \"y\"}, {\"hovertemplate\": \"day=Tuesday<br>hour_of_day=%{x}<br>count=%{y}<extra></extra>\", \"legendgroup\": \"Tuesday\", \"line\": {\"color\": \"#19d3f3\", \"dash\": \"solid\"}, \"mode\": \"lines\", \"name\": \"Tuesday\", \"orientation\": \"v\", \"showlegend\": true, \"type\": \"scatter\", \"x\": [0, 1, 2, 3, 4, 5, 6, 7, 8, 9, 10, 11, 12, 13, 14, 15, 16, 17, 18, 19, 20, 21, 22, 23], \"xaxis\": \"x\", \"y\": [27.328125, 11.904761904761905, 6.203125, 4.0344827586206895, 5.241935483870968, 24.015625, 105.375, 297.609375, 469.171875, 236.140625, 129.1875, 145.609375, 181.03076923076924, 181.84615384615384, 162.47692307692307, 181.07692307692307, 284.10769230769233, 544.1692307692308, 522.8153846153846, 356.12307692307695, 249.90769230769232, 183.2153846153846, 130.63076923076923, 76.06153846153846], \"yaxis\": \"y\"}, {\"hovertemplate\": \"day=Wednesday<br>hour_of_day=%{x}<br>count=%{y}<extra></extra>\", \"legendgroup\": \"Wednesday\", \"line\": {\"color\": \"#FF6692\", \"dash\": \"solid\"}, \"mode\": \"lines\", \"name\": \"Wednesday\", \"orientation\": \"v\", \"showlegend\": true, \"type\": \"scatter\", \"x\": [0, 1, 2, 3, 4, 5, 6, 7, 8, 9, 10, 11, 12, 13, 14, 15, 16, 17, 18, 19, 20, 21, 22, 23], \"xaxis\": \"x\", \"y\": [36.246153846153845, 15.615384615384615, 8.365079365079366, 5.0, 4.629032258064516, 25.046153846153846, 105.81538461538462, 297.24615384615385, 485.18461538461537, 238.76923076923077, 132.35384615384615, 148.93846153846152, 190.2153846153846, 178.53846153846155, 166.92307692307693, 179.58461538461538, 268.4307692307692, 509.26153846153846, 489.4, 348.2307692307692, 251.56923076923076, 190.66153846153847, 140.4, 80.13846153846154], \"yaxis\": \"y\"}],                        {\"legend\": {\"title\": {\"text\": \"day\"}, \"tracegroupgap\": 0}, \"template\": {\"data\": {\"bar\": [{\"error_x\": {\"color\": \"#2a3f5f\"}, \"error_y\": {\"color\": \"#2a3f5f\"}, \"marker\": {\"line\": {\"color\": \"#E5ECF6\", \"width\": 0.5}}, \"type\": \"bar\"}], \"barpolar\": [{\"marker\": {\"line\": {\"color\": \"#E5ECF6\", \"width\": 0.5}}, \"type\": \"barpolar\"}], \"carpet\": [{\"aaxis\": {\"endlinecolor\": \"#2a3f5f\", \"gridcolor\": \"white\", \"linecolor\": \"white\", \"minorgridcolor\": \"white\", \"startlinecolor\": \"#2a3f5f\"}, \"baxis\": {\"endlinecolor\": \"#2a3f5f\", \"gridcolor\": \"white\", \"linecolor\": \"white\", \"minorgridcolor\": \"white\", \"startlinecolor\": \"#2a3f5f\"}, \"type\": \"carpet\"}], \"choropleth\": [{\"colorbar\": {\"outlinewidth\": 0, \"ticks\": \"\"}, \"type\": \"choropleth\"}], \"contour\": [{\"colorbar\": {\"outlinewidth\": 0, \"ticks\": \"\"}, \"colorscale\": [[0.0, \"#0d0887\"], [0.1111111111111111, \"#46039f\"], [0.2222222222222222, \"#7201a8\"], [0.3333333333333333, \"#9c179e\"], [0.4444444444444444, \"#bd3786\"], [0.5555555555555556, \"#d8576b\"], [0.6666666666666666, \"#ed7953\"], [0.7777777777777778, \"#fb9f3a\"], [0.8888888888888888, \"#fdca26\"], [1.0, \"#f0f921\"]], \"type\": \"contour\"}], \"contourcarpet\": [{\"colorbar\": {\"outlinewidth\": 0, \"ticks\": \"\"}, \"type\": \"contourcarpet\"}], \"heatmap\": [{\"colorbar\": {\"outlinewidth\": 0, \"ticks\": \"\"}, \"colorscale\": [[0.0, \"#0d0887\"], [0.1111111111111111, \"#46039f\"], [0.2222222222222222, \"#7201a8\"], [0.3333333333333333, \"#9c179e\"], [0.4444444444444444, \"#bd3786\"], [0.5555555555555556, \"#d8576b\"], [0.6666666666666666, \"#ed7953\"], [0.7777777777777778, \"#fb9f3a\"], [0.8888888888888888, \"#fdca26\"], [1.0, \"#f0f921\"]], \"type\": \"heatmap\"}], \"heatmapgl\": [{\"colorbar\": {\"outlinewidth\": 0, \"ticks\": \"\"}, \"colorscale\": [[0.0, \"#0d0887\"], [0.1111111111111111, \"#46039f\"], [0.2222222222222222, \"#7201a8\"], [0.3333333333333333, \"#9c179e\"], [0.4444444444444444, \"#bd3786\"], [0.5555555555555556, \"#d8576b\"], [0.6666666666666666, \"#ed7953\"], [0.7777777777777778, \"#fb9f3a\"], [0.8888888888888888, \"#fdca26\"], [1.0, \"#f0f921\"]], \"type\": \"heatmapgl\"}], \"histogram\": [{\"marker\": {\"colorbar\": {\"outlinewidth\": 0, \"ticks\": \"\"}}, \"type\": \"histogram\"}], \"histogram2d\": [{\"colorbar\": {\"outlinewidth\": 0, \"ticks\": \"\"}, \"colorscale\": [[0.0, \"#0d0887\"], [0.1111111111111111, \"#46039f\"], [0.2222222222222222, \"#7201a8\"], [0.3333333333333333, \"#9c179e\"], [0.4444444444444444, \"#bd3786\"], [0.5555555555555556, \"#d8576b\"], [0.6666666666666666, \"#ed7953\"], [0.7777777777777778, \"#fb9f3a\"], [0.8888888888888888, \"#fdca26\"], [1.0, \"#f0f921\"]], \"type\": \"histogram2d\"}], \"histogram2dcontour\": [{\"colorbar\": {\"outlinewidth\": 0, \"ticks\": \"\"}, \"colorscale\": [[0.0, \"#0d0887\"], [0.1111111111111111, \"#46039f\"], [0.2222222222222222, \"#7201a8\"], [0.3333333333333333, \"#9c179e\"], [0.4444444444444444, \"#bd3786\"], [0.5555555555555556, \"#d8576b\"], [0.6666666666666666, \"#ed7953\"], [0.7777777777777778, \"#fb9f3a\"], [0.8888888888888888, \"#fdca26\"], [1.0, \"#f0f921\"]], \"type\": \"histogram2dcontour\"}], \"mesh3d\": [{\"colorbar\": {\"outlinewidth\": 0, \"ticks\": \"\"}, \"type\": \"mesh3d\"}], \"parcoords\": [{\"line\": {\"colorbar\": {\"outlinewidth\": 0, \"ticks\": \"\"}}, \"type\": \"parcoords\"}], \"pie\": [{\"automargin\": true, \"type\": \"pie\"}], \"scatter\": [{\"marker\": {\"colorbar\": {\"outlinewidth\": 0, \"ticks\": \"\"}}, \"type\": \"scatter\"}], \"scatter3d\": [{\"line\": {\"colorbar\": {\"outlinewidth\": 0, \"ticks\": \"\"}}, \"marker\": {\"colorbar\": {\"outlinewidth\": 0, \"ticks\": \"\"}}, \"type\": \"scatter3d\"}], \"scattercarpet\": [{\"marker\": {\"colorbar\": {\"outlinewidth\": 0, \"ticks\": \"\"}}, \"type\": \"scattercarpet\"}], \"scattergeo\": [{\"marker\": {\"colorbar\": {\"outlinewidth\": 0, \"ticks\": \"\"}}, \"type\": \"scattergeo\"}], \"scattergl\": [{\"marker\": {\"colorbar\": {\"outlinewidth\": 0, \"ticks\": \"\"}}, \"type\": \"scattergl\"}], \"scattermapbox\": [{\"marker\": {\"colorbar\": {\"outlinewidth\": 0, \"ticks\": \"\"}}, \"type\": \"scattermapbox\"}], \"scatterpolar\": [{\"marker\": {\"colorbar\": {\"outlinewidth\": 0, \"ticks\": \"\"}}, \"type\": \"scatterpolar\"}], \"scatterpolargl\": [{\"marker\": {\"colorbar\": {\"outlinewidth\": 0, \"ticks\": \"\"}}, \"type\": \"scatterpolargl\"}], \"scatterternary\": [{\"marker\": {\"colorbar\": {\"outlinewidth\": 0, \"ticks\": \"\"}}, \"type\": \"scatterternary\"}], \"surface\": [{\"colorbar\": {\"outlinewidth\": 0, \"ticks\": \"\"}, \"colorscale\": [[0.0, \"#0d0887\"], [0.1111111111111111, \"#46039f\"], [0.2222222222222222, \"#7201a8\"], [0.3333333333333333, \"#9c179e\"], [0.4444444444444444, \"#bd3786\"], [0.5555555555555556, \"#d8576b\"], [0.6666666666666666, \"#ed7953\"], [0.7777777777777778, \"#fb9f3a\"], [0.8888888888888888, \"#fdca26\"], [1.0, \"#f0f921\"]], \"type\": \"surface\"}], \"table\": [{\"cells\": {\"fill\": {\"color\": \"#EBF0F8\"}, \"line\": {\"color\": \"white\"}}, \"header\": {\"fill\": {\"color\": \"#C8D4E3\"}, \"line\": {\"color\": \"white\"}}, \"type\": \"table\"}]}, \"layout\": {\"annotationdefaults\": {\"arrowcolor\": \"#2a3f5f\", \"arrowhead\": 0, \"arrowwidth\": 1}, \"autotypenumbers\": \"strict\", \"coloraxis\": {\"colorbar\": {\"outlinewidth\": 0, \"ticks\": \"\"}}, \"colorscale\": {\"diverging\": [[0, \"#8e0152\"], [0.1, \"#c51b7d\"], [0.2, \"#de77ae\"], [0.3, \"#f1b6da\"], [0.4, \"#fde0ef\"], [0.5, \"#f7f7f7\"], [0.6, \"#e6f5d0\"], [0.7, \"#b8e186\"], [0.8, \"#7fbc41\"], [0.9, \"#4d9221\"], [1, \"#276419\"]], \"sequential\": [[0.0, \"#0d0887\"], [0.1111111111111111, \"#46039f\"], [0.2222222222222222, \"#7201a8\"], [0.3333333333333333, \"#9c179e\"], [0.4444444444444444, \"#bd3786\"], [0.5555555555555556, \"#d8576b\"], [0.6666666666666666, \"#ed7953\"], [0.7777777777777778, \"#fb9f3a\"], [0.8888888888888888, \"#fdca26\"], [1.0, \"#f0f921\"]], \"sequentialminus\": [[0.0, \"#0d0887\"], [0.1111111111111111, \"#46039f\"], [0.2222222222222222, \"#7201a8\"], [0.3333333333333333, \"#9c179e\"], [0.4444444444444444, \"#bd3786\"], [0.5555555555555556, \"#d8576b\"], [0.6666666666666666, \"#ed7953\"], [0.7777777777777778, \"#fb9f3a\"], [0.8888888888888888, \"#fdca26\"], [1.0, \"#f0f921\"]]}, \"colorway\": [\"#636efa\", \"#EF553B\", \"#00cc96\", \"#ab63fa\", \"#FFA15A\", \"#19d3f3\", \"#FF6692\", \"#B6E880\", \"#FF97FF\", \"#FECB52\"], \"font\": {\"color\": \"#2a3f5f\"}, \"geo\": {\"bgcolor\": \"white\", \"lakecolor\": \"white\", \"landcolor\": \"#E5ECF6\", \"showlakes\": true, \"showland\": true, \"subunitcolor\": \"white\"}, \"hoverlabel\": {\"align\": \"left\"}, \"hovermode\": \"closest\", \"mapbox\": {\"style\": \"light\"}, \"paper_bgcolor\": \"white\", \"plot_bgcolor\": \"#E5ECF6\", \"polar\": {\"angularaxis\": {\"gridcolor\": \"white\", \"linecolor\": \"white\", \"ticks\": \"\"}, \"bgcolor\": \"#E5ECF6\", \"radialaxis\": {\"gridcolor\": \"white\", \"linecolor\": \"white\", \"ticks\": \"\"}}, \"scene\": {\"xaxis\": {\"backgroundcolor\": \"#E5ECF6\", \"gridcolor\": \"white\", \"gridwidth\": 2, \"linecolor\": \"white\", \"showbackground\": true, \"ticks\": \"\", \"zerolinecolor\": \"white\"}, \"yaxis\": {\"backgroundcolor\": \"#E5ECF6\", \"gridcolor\": \"white\", \"gridwidth\": 2, \"linecolor\": \"white\", \"showbackground\": true, \"ticks\": \"\", \"zerolinecolor\": \"white\"}, \"zaxis\": {\"backgroundcolor\": \"#E5ECF6\", \"gridcolor\": \"white\", \"gridwidth\": 2, \"linecolor\": \"white\", \"showbackground\": true, \"ticks\": \"\", \"zerolinecolor\": \"white\"}}, \"shapedefaults\": {\"line\": {\"color\": \"#2a3f5f\"}}, \"ternary\": {\"aaxis\": {\"gridcolor\": \"white\", \"linecolor\": \"white\", \"ticks\": \"\"}, \"baxis\": {\"gridcolor\": \"white\", \"linecolor\": \"white\", \"ticks\": \"\"}, \"bgcolor\": \"#E5ECF6\", \"caxis\": {\"gridcolor\": \"white\", \"linecolor\": \"white\", \"ticks\": \"\"}}, \"title\": {\"x\": 0.05}, \"xaxis\": {\"automargin\": true, \"gridcolor\": \"white\", \"linecolor\": \"white\", \"ticks\": \"\", \"title\": {\"standoff\": 15}, \"zerolinecolor\": \"white\", \"zerolinewidth\": 2}, \"yaxis\": {\"automargin\": true, \"gridcolor\": \"white\", \"linecolor\": \"white\", \"ticks\": \"\", \"title\": {\"standoff\": 15}, \"zerolinecolor\": \"white\", \"zerolinewidth\": 2}}}, \"title\": {\"text\": \"Bike Rentals by Hour by Day of Week\"}, \"xaxis\": {\"anchor\": \"y\", \"domain\": [0.0, 1.0], \"nticks\": 24, \"title\": {\"text\": \"hour_of_day\"}}, \"yaxis\": {\"anchor\": \"x\", \"domain\": [0.0, 1.0], \"title\": {\"text\": \"count\"}}},                        {\"responsive\": true}                    ).then(function(){\n",
       "                            \n",
       "var gd = document.getElementById('0b1f7e22-5224-40f2-a5db-7ba07e0bdaaf');\n",
       "var x = new MutationObserver(function (mutations, observer) {{\n",
       "        var display = window.getComputedStyle(gd).display;\n",
       "        if (!display || display === 'none') {{\n",
       "            console.log([gd, 'removed!']);\n",
       "            Plotly.purge(gd);\n",
       "            observer.disconnect();\n",
       "        }}\n",
       "}});\n",
       "\n",
       "// Listen for the removal of the full notebook cells\n",
       "var notebookContainer = gd.closest('#notebook-container');\n",
       "if (notebookContainer) {{\n",
       "    x.observe(notebookContainer, {childList: true});\n",
       "}}\n",
       "\n",
       "// Listen for the clearing of the current output cell\n",
       "var outputEl = gd.closest('.output');\n",
       "if (outputEl) {{\n",
       "    x.observe(outputEl, {childList: true});\n",
       "}}\n",
       "\n",
       "                        })                };                });            </script>        </div>"
      ]
     },
     "metadata": {},
     "output_type": "display_data"
    }
   ],
   "source": [
    "df['day'] = df['datetime'].dt.day_name()\n",
    "\n",
    "data = df.groupby(['hour_of_day', 'day'])['count'].mean().reset_index()\n",
    "fig = px.line(data, x='hour_of_day', y='count', color='day', title='Bike Rentals by Hour by Day of Week')\n",
    "fig.update_xaxes(nticks=24)\n",
    "fig.show()\n",
    "\n",
    "df.drop(['day'], axis=1, inplace=True)"
   ]
  },
  {
   "cell_type": "markdown",
   "metadata": {},
   "source": [
    "Looks like rush hour is a big driver in bike rentals so let's add that as a column in case it helps."
   ]
  },
  {
   "cell_type": "code",
   "execution_count": 107,
   "metadata": {},
   "outputs": [
    {
     "name": "stdout",
     "output_type": "stream",
     "text": [
      "Validation Set Score: 0.8166997464723182\n"
     ]
    }
   ],
   "source": [
    "# Looks like rush hour is relevant so we'll add a column for that\n",
    "df['rush_hour'] = 0\n",
    "\n",
    "df.loc[(df['hour_of_day'] >= 7) & (df['hour_of_day'] <= 9) & (df['workingday'] == 1), 'rush_hour'] = 1\n",
    "df.loc[(df['hour_of_day'] >= 17) & (df['hour_of_day'] <= 19) & (df['workingday'] == 1), 'rush_hour'] = 1\n",
    "\n",
    "# Let's see how that impacted the score\n",
    "fit_and_score(df)"
   ]
  },
  {
   "cell_type": "markdown",
   "metadata": {},
   "source": [
    "How are bike rentals impacted by month?"
   ]
  },
  {
   "cell_type": "code",
   "execution_count": 108,
   "metadata": {},
   "outputs": [
    {
     "data": {
      "application/vnd.plotly.v1+json": {
       "config": {
        "plotlyServerURL": "https://plot.ly"
       },
       "data": [
        {
         "hovertemplate": "month=%{x}<br>count=%{y}<extra></extra>",
         "legendgroup": "",
         "line": {
          "color": "#636efa",
          "dash": "solid"
         },
         "mode": "lines",
         "name": "",
         "orientation": "v",
         "showlegend": false,
         "type": "scatter",
         "x": [
          1,
          2,
          3,
          4,
          5,
          6,
          7,
          8,
          9,
          10,
          11,
          12
         ],
         "xaxis": "x",
         "y": [
          90.36651583710407,
          110.0033296337403,
          148.16981132075472,
          184.16061606160616,
          219.4594298245614,
          242.03179824561403,
          235.32565789473685,
          234.1184210526316,
          233.8052805280528,
          227.6992316136114,
          193.67727771679472,
          175.6140350877193
         ],
         "yaxis": "y"
        }
       ],
       "layout": {
        "legend": {
         "tracegroupgap": 0
        },
        "template": {
         "data": {
          "bar": [
           {
            "error_x": {
             "color": "#2a3f5f"
            },
            "error_y": {
             "color": "#2a3f5f"
            },
            "marker": {
             "line": {
              "color": "#E5ECF6",
              "width": 0.5
             }
            },
            "type": "bar"
           }
          ],
          "barpolar": [
           {
            "marker": {
             "line": {
              "color": "#E5ECF6",
              "width": 0.5
             }
            },
            "type": "barpolar"
           }
          ],
          "carpet": [
           {
            "aaxis": {
             "endlinecolor": "#2a3f5f",
             "gridcolor": "white",
             "linecolor": "white",
             "minorgridcolor": "white",
             "startlinecolor": "#2a3f5f"
            },
            "baxis": {
             "endlinecolor": "#2a3f5f",
             "gridcolor": "white",
             "linecolor": "white",
             "minorgridcolor": "white",
             "startlinecolor": "#2a3f5f"
            },
            "type": "carpet"
           }
          ],
          "choropleth": [
           {
            "colorbar": {
             "outlinewidth": 0,
             "ticks": ""
            },
            "type": "choropleth"
           }
          ],
          "contour": [
           {
            "colorbar": {
             "outlinewidth": 0,
             "ticks": ""
            },
            "colorscale": [
             [
              0,
              "#0d0887"
             ],
             [
              0.1111111111111111,
              "#46039f"
             ],
             [
              0.2222222222222222,
              "#7201a8"
             ],
             [
              0.3333333333333333,
              "#9c179e"
             ],
             [
              0.4444444444444444,
              "#bd3786"
             ],
             [
              0.5555555555555556,
              "#d8576b"
             ],
             [
              0.6666666666666666,
              "#ed7953"
             ],
             [
              0.7777777777777778,
              "#fb9f3a"
             ],
             [
              0.8888888888888888,
              "#fdca26"
             ],
             [
              1,
              "#f0f921"
             ]
            ],
            "type": "contour"
           }
          ],
          "contourcarpet": [
           {
            "colorbar": {
             "outlinewidth": 0,
             "ticks": ""
            },
            "type": "contourcarpet"
           }
          ],
          "heatmap": [
           {
            "colorbar": {
             "outlinewidth": 0,
             "ticks": ""
            },
            "colorscale": [
             [
              0,
              "#0d0887"
             ],
             [
              0.1111111111111111,
              "#46039f"
             ],
             [
              0.2222222222222222,
              "#7201a8"
             ],
             [
              0.3333333333333333,
              "#9c179e"
             ],
             [
              0.4444444444444444,
              "#bd3786"
             ],
             [
              0.5555555555555556,
              "#d8576b"
             ],
             [
              0.6666666666666666,
              "#ed7953"
             ],
             [
              0.7777777777777778,
              "#fb9f3a"
             ],
             [
              0.8888888888888888,
              "#fdca26"
             ],
             [
              1,
              "#f0f921"
             ]
            ],
            "type": "heatmap"
           }
          ],
          "heatmapgl": [
           {
            "colorbar": {
             "outlinewidth": 0,
             "ticks": ""
            },
            "colorscale": [
             [
              0,
              "#0d0887"
             ],
             [
              0.1111111111111111,
              "#46039f"
             ],
             [
              0.2222222222222222,
              "#7201a8"
             ],
             [
              0.3333333333333333,
              "#9c179e"
             ],
             [
              0.4444444444444444,
              "#bd3786"
             ],
             [
              0.5555555555555556,
              "#d8576b"
             ],
             [
              0.6666666666666666,
              "#ed7953"
             ],
             [
              0.7777777777777778,
              "#fb9f3a"
             ],
             [
              0.8888888888888888,
              "#fdca26"
             ],
             [
              1,
              "#f0f921"
             ]
            ],
            "type": "heatmapgl"
           }
          ],
          "histogram": [
           {
            "marker": {
             "colorbar": {
              "outlinewidth": 0,
              "ticks": ""
             }
            },
            "type": "histogram"
           }
          ],
          "histogram2d": [
           {
            "colorbar": {
             "outlinewidth": 0,
             "ticks": ""
            },
            "colorscale": [
             [
              0,
              "#0d0887"
             ],
             [
              0.1111111111111111,
              "#46039f"
             ],
             [
              0.2222222222222222,
              "#7201a8"
             ],
             [
              0.3333333333333333,
              "#9c179e"
             ],
             [
              0.4444444444444444,
              "#bd3786"
             ],
             [
              0.5555555555555556,
              "#d8576b"
             ],
             [
              0.6666666666666666,
              "#ed7953"
             ],
             [
              0.7777777777777778,
              "#fb9f3a"
             ],
             [
              0.8888888888888888,
              "#fdca26"
             ],
             [
              1,
              "#f0f921"
             ]
            ],
            "type": "histogram2d"
           }
          ],
          "histogram2dcontour": [
           {
            "colorbar": {
             "outlinewidth": 0,
             "ticks": ""
            },
            "colorscale": [
             [
              0,
              "#0d0887"
             ],
             [
              0.1111111111111111,
              "#46039f"
             ],
             [
              0.2222222222222222,
              "#7201a8"
             ],
             [
              0.3333333333333333,
              "#9c179e"
             ],
             [
              0.4444444444444444,
              "#bd3786"
             ],
             [
              0.5555555555555556,
              "#d8576b"
             ],
             [
              0.6666666666666666,
              "#ed7953"
             ],
             [
              0.7777777777777778,
              "#fb9f3a"
             ],
             [
              0.8888888888888888,
              "#fdca26"
             ],
             [
              1,
              "#f0f921"
             ]
            ],
            "type": "histogram2dcontour"
           }
          ],
          "mesh3d": [
           {
            "colorbar": {
             "outlinewidth": 0,
             "ticks": ""
            },
            "type": "mesh3d"
           }
          ],
          "parcoords": [
           {
            "line": {
             "colorbar": {
              "outlinewidth": 0,
              "ticks": ""
             }
            },
            "type": "parcoords"
           }
          ],
          "pie": [
           {
            "automargin": true,
            "type": "pie"
           }
          ],
          "scatter": [
           {
            "marker": {
             "colorbar": {
              "outlinewidth": 0,
              "ticks": ""
             }
            },
            "type": "scatter"
           }
          ],
          "scatter3d": [
           {
            "line": {
             "colorbar": {
              "outlinewidth": 0,
              "ticks": ""
             }
            },
            "marker": {
             "colorbar": {
              "outlinewidth": 0,
              "ticks": ""
             }
            },
            "type": "scatter3d"
           }
          ],
          "scattercarpet": [
           {
            "marker": {
             "colorbar": {
              "outlinewidth": 0,
              "ticks": ""
             }
            },
            "type": "scattercarpet"
           }
          ],
          "scattergeo": [
           {
            "marker": {
             "colorbar": {
              "outlinewidth": 0,
              "ticks": ""
             }
            },
            "type": "scattergeo"
           }
          ],
          "scattergl": [
           {
            "marker": {
             "colorbar": {
              "outlinewidth": 0,
              "ticks": ""
             }
            },
            "type": "scattergl"
           }
          ],
          "scattermapbox": [
           {
            "marker": {
             "colorbar": {
              "outlinewidth": 0,
              "ticks": ""
             }
            },
            "type": "scattermapbox"
           }
          ],
          "scatterpolar": [
           {
            "marker": {
             "colorbar": {
              "outlinewidth": 0,
              "ticks": ""
             }
            },
            "type": "scatterpolar"
           }
          ],
          "scatterpolargl": [
           {
            "marker": {
             "colorbar": {
              "outlinewidth": 0,
              "ticks": ""
             }
            },
            "type": "scatterpolargl"
           }
          ],
          "scatterternary": [
           {
            "marker": {
             "colorbar": {
              "outlinewidth": 0,
              "ticks": ""
             }
            },
            "type": "scatterternary"
           }
          ],
          "surface": [
           {
            "colorbar": {
             "outlinewidth": 0,
             "ticks": ""
            },
            "colorscale": [
             [
              0,
              "#0d0887"
             ],
             [
              0.1111111111111111,
              "#46039f"
             ],
             [
              0.2222222222222222,
              "#7201a8"
             ],
             [
              0.3333333333333333,
              "#9c179e"
             ],
             [
              0.4444444444444444,
              "#bd3786"
             ],
             [
              0.5555555555555556,
              "#d8576b"
             ],
             [
              0.6666666666666666,
              "#ed7953"
             ],
             [
              0.7777777777777778,
              "#fb9f3a"
             ],
             [
              0.8888888888888888,
              "#fdca26"
             ],
             [
              1,
              "#f0f921"
             ]
            ],
            "type": "surface"
           }
          ],
          "table": [
           {
            "cells": {
             "fill": {
              "color": "#EBF0F8"
             },
             "line": {
              "color": "white"
             }
            },
            "header": {
             "fill": {
              "color": "#C8D4E3"
             },
             "line": {
              "color": "white"
             }
            },
            "type": "table"
           }
          ]
         },
         "layout": {
          "annotationdefaults": {
           "arrowcolor": "#2a3f5f",
           "arrowhead": 0,
           "arrowwidth": 1
          },
          "autotypenumbers": "strict",
          "coloraxis": {
           "colorbar": {
            "outlinewidth": 0,
            "ticks": ""
           }
          },
          "colorscale": {
           "diverging": [
            [
             0,
             "#8e0152"
            ],
            [
             0.1,
             "#c51b7d"
            ],
            [
             0.2,
             "#de77ae"
            ],
            [
             0.3,
             "#f1b6da"
            ],
            [
             0.4,
             "#fde0ef"
            ],
            [
             0.5,
             "#f7f7f7"
            ],
            [
             0.6,
             "#e6f5d0"
            ],
            [
             0.7,
             "#b8e186"
            ],
            [
             0.8,
             "#7fbc41"
            ],
            [
             0.9,
             "#4d9221"
            ],
            [
             1,
             "#276419"
            ]
           ],
           "sequential": [
            [
             0,
             "#0d0887"
            ],
            [
             0.1111111111111111,
             "#46039f"
            ],
            [
             0.2222222222222222,
             "#7201a8"
            ],
            [
             0.3333333333333333,
             "#9c179e"
            ],
            [
             0.4444444444444444,
             "#bd3786"
            ],
            [
             0.5555555555555556,
             "#d8576b"
            ],
            [
             0.6666666666666666,
             "#ed7953"
            ],
            [
             0.7777777777777778,
             "#fb9f3a"
            ],
            [
             0.8888888888888888,
             "#fdca26"
            ],
            [
             1,
             "#f0f921"
            ]
           ],
           "sequentialminus": [
            [
             0,
             "#0d0887"
            ],
            [
             0.1111111111111111,
             "#46039f"
            ],
            [
             0.2222222222222222,
             "#7201a8"
            ],
            [
             0.3333333333333333,
             "#9c179e"
            ],
            [
             0.4444444444444444,
             "#bd3786"
            ],
            [
             0.5555555555555556,
             "#d8576b"
            ],
            [
             0.6666666666666666,
             "#ed7953"
            ],
            [
             0.7777777777777778,
             "#fb9f3a"
            ],
            [
             0.8888888888888888,
             "#fdca26"
            ],
            [
             1,
             "#f0f921"
            ]
           ]
          },
          "colorway": [
           "#636efa",
           "#EF553B",
           "#00cc96",
           "#ab63fa",
           "#FFA15A",
           "#19d3f3",
           "#FF6692",
           "#B6E880",
           "#FF97FF",
           "#FECB52"
          ],
          "font": {
           "color": "#2a3f5f"
          },
          "geo": {
           "bgcolor": "white",
           "lakecolor": "white",
           "landcolor": "#E5ECF6",
           "showlakes": true,
           "showland": true,
           "subunitcolor": "white"
          },
          "hoverlabel": {
           "align": "left"
          },
          "hovermode": "closest",
          "mapbox": {
           "style": "light"
          },
          "paper_bgcolor": "white",
          "plot_bgcolor": "#E5ECF6",
          "polar": {
           "angularaxis": {
            "gridcolor": "white",
            "linecolor": "white",
            "ticks": ""
           },
           "bgcolor": "#E5ECF6",
           "radialaxis": {
            "gridcolor": "white",
            "linecolor": "white",
            "ticks": ""
           }
          },
          "scene": {
           "xaxis": {
            "backgroundcolor": "#E5ECF6",
            "gridcolor": "white",
            "gridwidth": 2,
            "linecolor": "white",
            "showbackground": true,
            "ticks": "",
            "zerolinecolor": "white"
           },
           "yaxis": {
            "backgroundcolor": "#E5ECF6",
            "gridcolor": "white",
            "gridwidth": 2,
            "linecolor": "white",
            "showbackground": true,
            "ticks": "",
            "zerolinecolor": "white"
           },
           "zaxis": {
            "backgroundcolor": "#E5ECF6",
            "gridcolor": "white",
            "gridwidth": 2,
            "linecolor": "white",
            "showbackground": true,
            "ticks": "",
            "zerolinecolor": "white"
           }
          },
          "shapedefaults": {
           "line": {
            "color": "#2a3f5f"
           }
          },
          "ternary": {
           "aaxis": {
            "gridcolor": "white",
            "linecolor": "white",
            "ticks": ""
           },
           "baxis": {
            "gridcolor": "white",
            "linecolor": "white",
            "ticks": ""
           },
           "bgcolor": "#E5ECF6",
           "caxis": {
            "gridcolor": "white",
            "linecolor": "white",
            "ticks": ""
           }
          },
          "title": {
           "x": 0.05
          },
          "xaxis": {
           "automargin": true,
           "gridcolor": "white",
           "linecolor": "white",
           "ticks": "",
           "title": {
            "standoff": 15
           },
           "zerolinecolor": "white",
           "zerolinewidth": 2
          },
          "yaxis": {
           "automargin": true,
           "gridcolor": "white",
           "linecolor": "white",
           "ticks": "",
           "title": {
            "standoff": 15
           },
           "zerolinecolor": "white",
           "zerolinewidth": 2
          }
         }
        },
        "title": {
         "text": "Bike Rentals by Month"
        },
        "xaxis": {
         "anchor": "y",
         "domain": [
          0,
          1
         ],
         "nticks": 12,
         "title": {
          "text": "month"
         }
        },
        "yaxis": {
         "anchor": "x",
         "domain": [
          0,
          1
         ],
         "title": {
          "text": "count"
         }
        }
       }
      },
      "text/html": [
       "<div>                            <div id=\"18d42ad1-95f0-4345-93a6-6539781871e8\" class=\"plotly-graph-div\" style=\"height:525px; width:100%;\"></div>            <script type=\"text/javascript\">                require([\"plotly\"], function(Plotly) {                    window.PLOTLYENV=window.PLOTLYENV || {};                                    if (document.getElementById(\"18d42ad1-95f0-4345-93a6-6539781871e8\")) {                    Plotly.newPlot(                        \"18d42ad1-95f0-4345-93a6-6539781871e8\",                        [{\"hovertemplate\": \"month=%{x}<br>count=%{y}<extra></extra>\", \"legendgroup\": \"\", \"line\": {\"color\": \"#636efa\", \"dash\": \"solid\"}, \"mode\": \"lines\", \"name\": \"\", \"orientation\": \"v\", \"showlegend\": false, \"type\": \"scatter\", \"x\": [1, 2, 3, 4, 5, 6, 7, 8, 9, 10, 11, 12], \"xaxis\": \"x\", \"y\": [90.36651583710407, 110.0033296337403, 148.16981132075472, 184.16061606160616, 219.4594298245614, 242.03179824561403, 235.32565789473685, 234.1184210526316, 233.8052805280528, 227.6992316136114, 193.67727771679472, 175.6140350877193], \"yaxis\": \"y\"}],                        {\"legend\": {\"tracegroupgap\": 0}, \"template\": {\"data\": {\"bar\": [{\"error_x\": {\"color\": \"#2a3f5f\"}, \"error_y\": {\"color\": \"#2a3f5f\"}, \"marker\": {\"line\": {\"color\": \"#E5ECF6\", \"width\": 0.5}}, \"type\": \"bar\"}], \"barpolar\": [{\"marker\": {\"line\": {\"color\": \"#E5ECF6\", \"width\": 0.5}}, \"type\": \"barpolar\"}], \"carpet\": [{\"aaxis\": {\"endlinecolor\": \"#2a3f5f\", \"gridcolor\": \"white\", \"linecolor\": \"white\", \"minorgridcolor\": \"white\", \"startlinecolor\": \"#2a3f5f\"}, \"baxis\": {\"endlinecolor\": \"#2a3f5f\", \"gridcolor\": \"white\", \"linecolor\": \"white\", \"minorgridcolor\": \"white\", \"startlinecolor\": \"#2a3f5f\"}, \"type\": \"carpet\"}], \"choropleth\": [{\"colorbar\": {\"outlinewidth\": 0, \"ticks\": \"\"}, \"type\": \"choropleth\"}], \"contour\": [{\"colorbar\": {\"outlinewidth\": 0, \"ticks\": \"\"}, \"colorscale\": [[0.0, \"#0d0887\"], [0.1111111111111111, \"#46039f\"], [0.2222222222222222, \"#7201a8\"], [0.3333333333333333, \"#9c179e\"], [0.4444444444444444, \"#bd3786\"], [0.5555555555555556, \"#d8576b\"], [0.6666666666666666, \"#ed7953\"], [0.7777777777777778, \"#fb9f3a\"], [0.8888888888888888, \"#fdca26\"], [1.0, \"#f0f921\"]], \"type\": \"contour\"}], \"contourcarpet\": [{\"colorbar\": {\"outlinewidth\": 0, \"ticks\": \"\"}, \"type\": \"contourcarpet\"}], \"heatmap\": [{\"colorbar\": {\"outlinewidth\": 0, \"ticks\": \"\"}, \"colorscale\": [[0.0, \"#0d0887\"], [0.1111111111111111, \"#46039f\"], [0.2222222222222222, \"#7201a8\"], [0.3333333333333333, \"#9c179e\"], [0.4444444444444444, \"#bd3786\"], [0.5555555555555556, \"#d8576b\"], [0.6666666666666666, \"#ed7953\"], [0.7777777777777778, \"#fb9f3a\"], [0.8888888888888888, \"#fdca26\"], [1.0, \"#f0f921\"]], \"type\": \"heatmap\"}], \"heatmapgl\": [{\"colorbar\": {\"outlinewidth\": 0, \"ticks\": \"\"}, \"colorscale\": [[0.0, \"#0d0887\"], [0.1111111111111111, \"#46039f\"], [0.2222222222222222, \"#7201a8\"], [0.3333333333333333, \"#9c179e\"], [0.4444444444444444, \"#bd3786\"], [0.5555555555555556, \"#d8576b\"], [0.6666666666666666, \"#ed7953\"], [0.7777777777777778, \"#fb9f3a\"], [0.8888888888888888, \"#fdca26\"], [1.0, \"#f0f921\"]], \"type\": \"heatmapgl\"}], \"histogram\": [{\"marker\": {\"colorbar\": {\"outlinewidth\": 0, \"ticks\": \"\"}}, \"type\": \"histogram\"}], \"histogram2d\": [{\"colorbar\": {\"outlinewidth\": 0, \"ticks\": \"\"}, \"colorscale\": [[0.0, \"#0d0887\"], [0.1111111111111111, \"#46039f\"], [0.2222222222222222, \"#7201a8\"], [0.3333333333333333, \"#9c179e\"], [0.4444444444444444, \"#bd3786\"], [0.5555555555555556, \"#d8576b\"], [0.6666666666666666, \"#ed7953\"], [0.7777777777777778, \"#fb9f3a\"], [0.8888888888888888, \"#fdca26\"], [1.0, \"#f0f921\"]], \"type\": \"histogram2d\"}], \"histogram2dcontour\": [{\"colorbar\": {\"outlinewidth\": 0, \"ticks\": \"\"}, \"colorscale\": [[0.0, \"#0d0887\"], [0.1111111111111111, \"#46039f\"], [0.2222222222222222, \"#7201a8\"], [0.3333333333333333, \"#9c179e\"], [0.4444444444444444, \"#bd3786\"], [0.5555555555555556, \"#d8576b\"], [0.6666666666666666, \"#ed7953\"], [0.7777777777777778, \"#fb9f3a\"], [0.8888888888888888, \"#fdca26\"], [1.0, \"#f0f921\"]], \"type\": \"histogram2dcontour\"}], \"mesh3d\": [{\"colorbar\": {\"outlinewidth\": 0, \"ticks\": \"\"}, \"type\": \"mesh3d\"}], \"parcoords\": [{\"line\": {\"colorbar\": {\"outlinewidth\": 0, \"ticks\": \"\"}}, \"type\": \"parcoords\"}], \"pie\": [{\"automargin\": true, \"type\": \"pie\"}], \"scatter\": [{\"marker\": {\"colorbar\": {\"outlinewidth\": 0, \"ticks\": \"\"}}, \"type\": \"scatter\"}], \"scatter3d\": [{\"line\": {\"colorbar\": {\"outlinewidth\": 0, \"ticks\": \"\"}}, \"marker\": {\"colorbar\": {\"outlinewidth\": 0, \"ticks\": \"\"}}, \"type\": \"scatter3d\"}], \"scattercarpet\": [{\"marker\": {\"colorbar\": {\"outlinewidth\": 0, \"ticks\": \"\"}}, \"type\": \"scattercarpet\"}], \"scattergeo\": [{\"marker\": {\"colorbar\": {\"outlinewidth\": 0, \"ticks\": \"\"}}, \"type\": \"scattergeo\"}], \"scattergl\": [{\"marker\": {\"colorbar\": {\"outlinewidth\": 0, \"ticks\": \"\"}}, \"type\": \"scattergl\"}], \"scattermapbox\": [{\"marker\": {\"colorbar\": {\"outlinewidth\": 0, \"ticks\": \"\"}}, \"type\": \"scattermapbox\"}], \"scatterpolar\": [{\"marker\": {\"colorbar\": {\"outlinewidth\": 0, \"ticks\": \"\"}}, \"type\": \"scatterpolar\"}], \"scatterpolargl\": [{\"marker\": {\"colorbar\": {\"outlinewidth\": 0, \"ticks\": \"\"}}, \"type\": \"scatterpolargl\"}], \"scatterternary\": [{\"marker\": {\"colorbar\": {\"outlinewidth\": 0, \"ticks\": \"\"}}, \"type\": \"scatterternary\"}], \"surface\": [{\"colorbar\": {\"outlinewidth\": 0, \"ticks\": \"\"}, \"colorscale\": [[0.0, \"#0d0887\"], [0.1111111111111111, \"#46039f\"], [0.2222222222222222, \"#7201a8\"], [0.3333333333333333, \"#9c179e\"], [0.4444444444444444, \"#bd3786\"], [0.5555555555555556, \"#d8576b\"], [0.6666666666666666, \"#ed7953\"], [0.7777777777777778, \"#fb9f3a\"], [0.8888888888888888, \"#fdca26\"], [1.0, \"#f0f921\"]], \"type\": \"surface\"}], \"table\": [{\"cells\": {\"fill\": {\"color\": \"#EBF0F8\"}, \"line\": {\"color\": \"white\"}}, \"header\": {\"fill\": {\"color\": \"#C8D4E3\"}, \"line\": {\"color\": \"white\"}}, \"type\": \"table\"}]}, \"layout\": {\"annotationdefaults\": {\"arrowcolor\": \"#2a3f5f\", \"arrowhead\": 0, \"arrowwidth\": 1}, \"autotypenumbers\": \"strict\", \"coloraxis\": {\"colorbar\": {\"outlinewidth\": 0, \"ticks\": \"\"}}, \"colorscale\": {\"diverging\": [[0, \"#8e0152\"], [0.1, \"#c51b7d\"], [0.2, \"#de77ae\"], [0.3, \"#f1b6da\"], [0.4, \"#fde0ef\"], [0.5, \"#f7f7f7\"], [0.6, \"#e6f5d0\"], [0.7, \"#b8e186\"], [0.8, \"#7fbc41\"], [0.9, \"#4d9221\"], [1, \"#276419\"]], \"sequential\": [[0.0, \"#0d0887\"], [0.1111111111111111, \"#46039f\"], [0.2222222222222222, \"#7201a8\"], [0.3333333333333333, \"#9c179e\"], [0.4444444444444444, \"#bd3786\"], [0.5555555555555556, \"#d8576b\"], [0.6666666666666666, \"#ed7953\"], [0.7777777777777778, \"#fb9f3a\"], [0.8888888888888888, \"#fdca26\"], [1.0, \"#f0f921\"]], \"sequentialminus\": [[0.0, \"#0d0887\"], [0.1111111111111111, \"#46039f\"], [0.2222222222222222, \"#7201a8\"], [0.3333333333333333, \"#9c179e\"], [0.4444444444444444, \"#bd3786\"], [0.5555555555555556, \"#d8576b\"], [0.6666666666666666, \"#ed7953\"], [0.7777777777777778, \"#fb9f3a\"], [0.8888888888888888, \"#fdca26\"], [1.0, \"#f0f921\"]]}, \"colorway\": [\"#636efa\", \"#EF553B\", \"#00cc96\", \"#ab63fa\", \"#FFA15A\", \"#19d3f3\", \"#FF6692\", \"#B6E880\", \"#FF97FF\", \"#FECB52\"], \"font\": {\"color\": \"#2a3f5f\"}, \"geo\": {\"bgcolor\": \"white\", \"lakecolor\": \"white\", \"landcolor\": \"#E5ECF6\", \"showlakes\": true, \"showland\": true, \"subunitcolor\": \"white\"}, \"hoverlabel\": {\"align\": \"left\"}, \"hovermode\": \"closest\", \"mapbox\": {\"style\": \"light\"}, \"paper_bgcolor\": \"white\", \"plot_bgcolor\": \"#E5ECF6\", \"polar\": {\"angularaxis\": {\"gridcolor\": \"white\", \"linecolor\": \"white\", \"ticks\": \"\"}, \"bgcolor\": \"#E5ECF6\", \"radialaxis\": {\"gridcolor\": \"white\", \"linecolor\": \"white\", \"ticks\": \"\"}}, \"scene\": {\"xaxis\": {\"backgroundcolor\": \"#E5ECF6\", \"gridcolor\": \"white\", \"gridwidth\": 2, \"linecolor\": \"white\", \"showbackground\": true, \"ticks\": \"\", \"zerolinecolor\": \"white\"}, \"yaxis\": {\"backgroundcolor\": \"#E5ECF6\", \"gridcolor\": \"white\", \"gridwidth\": 2, \"linecolor\": \"white\", \"showbackground\": true, \"ticks\": \"\", \"zerolinecolor\": \"white\"}, \"zaxis\": {\"backgroundcolor\": \"#E5ECF6\", \"gridcolor\": \"white\", \"gridwidth\": 2, \"linecolor\": \"white\", \"showbackground\": true, \"ticks\": \"\", \"zerolinecolor\": \"white\"}}, \"shapedefaults\": {\"line\": {\"color\": \"#2a3f5f\"}}, \"ternary\": {\"aaxis\": {\"gridcolor\": \"white\", \"linecolor\": \"white\", \"ticks\": \"\"}, \"baxis\": {\"gridcolor\": \"white\", \"linecolor\": \"white\", \"ticks\": \"\"}, \"bgcolor\": \"#E5ECF6\", \"caxis\": {\"gridcolor\": \"white\", \"linecolor\": \"white\", \"ticks\": \"\"}}, \"title\": {\"x\": 0.05}, \"xaxis\": {\"automargin\": true, \"gridcolor\": \"white\", \"linecolor\": \"white\", \"ticks\": \"\", \"title\": {\"standoff\": 15}, \"zerolinecolor\": \"white\", \"zerolinewidth\": 2}, \"yaxis\": {\"automargin\": true, \"gridcolor\": \"white\", \"linecolor\": \"white\", \"ticks\": \"\", \"title\": {\"standoff\": 15}, \"zerolinecolor\": \"white\", \"zerolinewidth\": 2}}}, \"title\": {\"text\": \"Bike Rentals by Month\"}, \"xaxis\": {\"anchor\": \"y\", \"domain\": [0.0, 1.0], \"nticks\": 12, \"title\": {\"text\": \"month\"}}, \"yaxis\": {\"anchor\": \"x\", \"domain\": [0.0, 1.0], \"title\": {\"text\": \"count\"}}},                        {\"responsive\": true}                    ).then(function(){\n",
       "                            \n",
       "var gd = document.getElementById('18d42ad1-95f0-4345-93a6-6539781871e8');\n",
       "var x = new MutationObserver(function (mutations, observer) {{\n",
       "        var display = window.getComputedStyle(gd).display;\n",
       "        if (!display || display === 'none') {{\n",
       "            console.log([gd, 'removed!']);\n",
       "            Plotly.purge(gd);\n",
       "            observer.disconnect();\n",
       "        }}\n",
       "}});\n",
       "\n",
       "// Listen for the removal of the full notebook cells\n",
       "var notebookContainer = gd.closest('#notebook-container');\n",
       "if (notebookContainer) {{\n",
       "    x.observe(notebookContainer, {childList: true});\n",
       "}}\n",
       "\n",
       "// Listen for the clearing of the current output cell\n",
       "var outputEl = gd.closest('.output');\n",
       "if (outputEl) {{\n",
       "    x.observe(outputEl, {childList: true});\n",
       "}}\n",
       "\n",
       "                        })                };                });            </script>        </div>"
      ]
     },
     "metadata": {},
     "output_type": "display_data"
    }
   ],
   "source": [
    "data = df.groupby(['month'])['count'].mean().reset_index()\n",
    "fig = px.line(data, x='month', y='count', title='Bike Rentals by Month')\n",
    "fig.update_xaxes(nticks=12)\n",
    "fig.show()"
   ]
  },
  {
   "cell_type": "markdown",
   "metadata": {},
   "source": [
    "How does weather impact bike rentals over a day?"
   ]
  },
  {
   "cell_type": "code",
   "execution_count": 109,
   "metadata": {},
   "outputs": [
    {
     "data": {
      "application/vnd.plotly.v1+json": {
       "config": {
        "plotlyServerURL": "https://plot.ly"
       },
       "data": [
        {
         "hovertemplate": "weather=Clear Skies<br>hour_of_day=%{x}<br>count=%{y}<extra></extra>",
         "legendgroup": "Clear Skies",
         "line": {
          "color": "#636efa",
          "dash": "solid"
         },
         "mode": "lines",
         "name": "Clear Skies",
         "orientation": "v",
         "showlegend": true,
         "type": "scatter",
         "x": [
          0,
          1,
          2,
          3,
          4,
          5,
          6,
          7,
          8,
          9,
          10,
          11,
          12,
          13,
          14,
          15,
          16,
          17,
          18,
          19,
          20,
          21,
          22,
          23
         ],
         "xaxis": "x",
         "y": [
          59.91447368421053,
          35.125,
          23.11,
          11.792387543252595,
          6.463667820069205,
          20.04421768707483,
          79.44520547945206,
          217.34642857142856,
          360.86071428571427,
          228.02952029520296,
          192.525,
          233.2288732394366,
          280.26666666666665,
          282.8972602739726,
          265.51666666666665,
          275.80258899676375,
          335.360248447205,
          506.41009463722395,
          458.74679487179486,
          334.90432098765433,
          245.46036585365854,
          185.4367088607595,
          145.08805031446542,
          95.3258064516129
         ],
         "yaxis": "y"
        },
        {
         "hovertemplate": "weather=Heavy Storms/Rain<br>hour_of_day=%{x}<br>count=%{y}<extra></extra>",
         "legendgroup": "Heavy Storms/Rain",
         "line": {
          "color": "#EF553B",
          "dash": "solid"
         },
         "mode": "lines",
         "name": "Heavy Storms/Rain",
         "orientation": "v",
         "showlegend": true,
         "type": "scatter",
         "x": [
          0,
          1,
          2,
          3,
          4,
          5,
          6,
          7,
          8,
          9,
          10,
          11,
          12,
          13,
          14,
          15,
          16,
          17,
          18,
          19,
          20,
          21,
          22,
          23
         ],
         "xaxis": "x",
         "y": [
          null,
          null,
          null,
          null,
          null,
          null,
          null,
          null,
          null,
          null,
          null,
          null,
          null,
          null,
          null,
          null,
          null,
          null,
          164,
          null,
          null,
          null,
          null,
          null
         ],
         "yaxis": "y"
        },
        {
         "hovertemplate": "weather=Light Storms/Rain<br>hour_of_day=%{x}<br>count=%{y}<extra></extra>",
         "legendgroup": "Light Storms/Rain",
         "line": {
          "color": "#00cc96",
          "dash": "solid"
         },
         "mode": "lines",
         "name": "Light Storms/Rain",
         "orientation": "v",
         "showlegend": true,
         "type": "scatter",
         "x": [
          0,
          1,
          2,
          3,
          4,
          5,
          6,
          7,
          8,
          9,
          10,
          11,
          12,
          13,
          14,
          15,
          16,
          17,
          18,
          19,
          20,
          21,
          22,
          23
         ],
         "xaxis": "x",
         "y": [
          27.428571428571427,
          19.18421052631579,
          13.84375,
          6.033333333333333,
          4.138888888888889,
          14.848484848484848,
          61.11904761904762,
          128.06976744186048,
          202.21621621621622,
          130.59375,
          84.84375,
          101.53846153846153,
          141.44827586206895,
          127.48148148148148,
          131.97058823529412,
          153.64285714285714,
          189.85,
          309.1224489795918,
          291.8510638297872,
          168.27777777777777,
          126.89473684210526,
          104.0625,
          77.78787878787878,
          58.604651162790695
         ],
         "yaxis": "y"
        },
        {
         "hovertemplate": "weather=Partly Cloudy<br>hour_of_day=%{x}<br>count=%{y}<extra></extra>",
         "legendgroup": "Partly Cloudy",
         "line": {
          "color": "#ab63fa",
          "dash": "solid"
         },
         "mode": "lines",
         "name": "Partly Cloudy",
         "orientation": "v",
         "showlegend": true,
         "type": "scatter",
         "x": [
          0,
          1,
          2,
          3,
          4,
          5,
          6,
          7,
          8,
          9,
          10,
          11,
          12,
          13,
          14,
          15,
          16,
          17,
          18,
          19,
          20,
          21,
          22,
          23
         ],
         "xaxis": "x",
         "y": [
          49.642276422764226,
          35.38333333333333,
          24.853448275862068,
          13.175438596491228,
          6.965811965811966,
          20.416,
          73.82644628099173,
          231.84848484848484,
          409.68840579710144,
          229.83552631578948,
          161.15384615384616,
          186.06896551724137,
          232.32394366197184,
          229.94890510948906,
          220.2295081967213,
          231.27619047619046,
          305.17021276595744,
          423.0888888888889,
          411.0625,
          304.1666666666667,
          209.67777777777778,
          158.60185185185185,
          116.24761904761905,
          84.90291262135922
         ],
         "yaxis": "y"
        }
       ],
       "layout": {
        "legend": {
         "title": {
          "text": "weather"
         },
         "tracegroupgap": 0
        },
        "template": {
         "data": {
          "bar": [
           {
            "error_x": {
             "color": "#2a3f5f"
            },
            "error_y": {
             "color": "#2a3f5f"
            },
            "marker": {
             "line": {
              "color": "#E5ECF6",
              "width": 0.5
             }
            },
            "type": "bar"
           }
          ],
          "barpolar": [
           {
            "marker": {
             "line": {
              "color": "#E5ECF6",
              "width": 0.5
             }
            },
            "type": "barpolar"
           }
          ],
          "carpet": [
           {
            "aaxis": {
             "endlinecolor": "#2a3f5f",
             "gridcolor": "white",
             "linecolor": "white",
             "minorgridcolor": "white",
             "startlinecolor": "#2a3f5f"
            },
            "baxis": {
             "endlinecolor": "#2a3f5f",
             "gridcolor": "white",
             "linecolor": "white",
             "minorgridcolor": "white",
             "startlinecolor": "#2a3f5f"
            },
            "type": "carpet"
           }
          ],
          "choropleth": [
           {
            "colorbar": {
             "outlinewidth": 0,
             "ticks": ""
            },
            "type": "choropleth"
           }
          ],
          "contour": [
           {
            "colorbar": {
             "outlinewidth": 0,
             "ticks": ""
            },
            "colorscale": [
             [
              0,
              "#0d0887"
             ],
             [
              0.1111111111111111,
              "#46039f"
             ],
             [
              0.2222222222222222,
              "#7201a8"
             ],
             [
              0.3333333333333333,
              "#9c179e"
             ],
             [
              0.4444444444444444,
              "#bd3786"
             ],
             [
              0.5555555555555556,
              "#d8576b"
             ],
             [
              0.6666666666666666,
              "#ed7953"
             ],
             [
              0.7777777777777778,
              "#fb9f3a"
             ],
             [
              0.8888888888888888,
              "#fdca26"
             ],
             [
              1,
              "#f0f921"
             ]
            ],
            "type": "contour"
           }
          ],
          "contourcarpet": [
           {
            "colorbar": {
             "outlinewidth": 0,
             "ticks": ""
            },
            "type": "contourcarpet"
           }
          ],
          "heatmap": [
           {
            "colorbar": {
             "outlinewidth": 0,
             "ticks": ""
            },
            "colorscale": [
             [
              0,
              "#0d0887"
             ],
             [
              0.1111111111111111,
              "#46039f"
             ],
             [
              0.2222222222222222,
              "#7201a8"
             ],
             [
              0.3333333333333333,
              "#9c179e"
             ],
             [
              0.4444444444444444,
              "#bd3786"
             ],
             [
              0.5555555555555556,
              "#d8576b"
             ],
             [
              0.6666666666666666,
              "#ed7953"
             ],
             [
              0.7777777777777778,
              "#fb9f3a"
             ],
             [
              0.8888888888888888,
              "#fdca26"
             ],
             [
              1,
              "#f0f921"
             ]
            ],
            "type": "heatmap"
           }
          ],
          "heatmapgl": [
           {
            "colorbar": {
             "outlinewidth": 0,
             "ticks": ""
            },
            "colorscale": [
             [
              0,
              "#0d0887"
             ],
             [
              0.1111111111111111,
              "#46039f"
             ],
             [
              0.2222222222222222,
              "#7201a8"
             ],
             [
              0.3333333333333333,
              "#9c179e"
             ],
             [
              0.4444444444444444,
              "#bd3786"
             ],
             [
              0.5555555555555556,
              "#d8576b"
             ],
             [
              0.6666666666666666,
              "#ed7953"
             ],
             [
              0.7777777777777778,
              "#fb9f3a"
             ],
             [
              0.8888888888888888,
              "#fdca26"
             ],
             [
              1,
              "#f0f921"
             ]
            ],
            "type": "heatmapgl"
           }
          ],
          "histogram": [
           {
            "marker": {
             "colorbar": {
              "outlinewidth": 0,
              "ticks": ""
             }
            },
            "type": "histogram"
           }
          ],
          "histogram2d": [
           {
            "colorbar": {
             "outlinewidth": 0,
             "ticks": ""
            },
            "colorscale": [
             [
              0,
              "#0d0887"
             ],
             [
              0.1111111111111111,
              "#46039f"
             ],
             [
              0.2222222222222222,
              "#7201a8"
             ],
             [
              0.3333333333333333,
              "#9c179e"
             ],
             [
              0.4444444444444444,
              "#bd3786"
             ],
             [
              0.5555555555555556,
              "#d8576b"
             ],
             [
              0.6666666666666666,
              "#ed7953"
             ],
             [
              0.7777777777777778,
              "#fb9f3a"
             ],
             [
              0.8888888888888888,
              "#fdca26"
             ],
             [
              1,
              "#f0f921"
             ]
            ],
            "type": "histogram2d"
           }
          ],
          "histogram2dcontour": [
           {
            "colorbar": {
             "outlinewidth": 0,
             "ticks": ""
            },
            "colorscale": [
             [
              0,
              "#0d0887"
             ],
             [
              0.1111111111111111,
              "#46039f"
             ],
             [
              0.2222222222222222,
              "#7201a8"
             ],
             [
              0.3333333333333333,
              "#9c179e"
             ],
             [
              0.4444444444444444,
              "#bd3786"
             ],
             [
              0.5555555555555556,
              "#d8576b"
             ],
             [
              0.6666666666666666,
              "#ed7953"
             ],
             [
              0.7777777777777778,
              "#fb9f3a"
             ],
             [
              0.8888888888888888,
              "#fdca26"
             ],
             [
              1,
              "#f0f921"
             ]
            ],
            "type": "histogram2dcontour"
           }
          ],
          "mesh3d": [
           {
            "colorbar": {
             "outlinewidth": 0,
             "ticks": ""
            },
            "type": "mesh3d"
           }
          ],
          "parcoords": [
           {
            "line": {
             "colorbar": {
              "outlinewidth": 0,
              "ticks": ""
             }
            },
            "type": "parcoords"
           }
          ],
          "pie": [
           {
            "automargin": true,
            "type": "pie"
           }
          ],
          "scatter": [
           {
            "marker": {
             "colorbar": {
              "outlinewidth": 0,
              "ticks": ""
             }
            },
            "type": "scatter"
           }
          ],
          "scatter3d": [
           {
            "line": {
             "colorbar": {
              "outlinewidth": 0,
              "ticks": ""
             }
            },
            "marker": {
             "colorbar": {
              "outlinewidth": 0,
              "ticks": ""
             }
            },
            "type": "scatter3d"
           }
          ],
          "scattercarpet": [
           {
            "marker": {
             "colorbar": {
              "outlinewidth": 0,
              "ticks": ""
             }
            },
            "type": "scattercarpet"
           }
          ],
          "scattergeo": [
           {
            "marker": {
             "colorbar": {
              "outlinewidth": 0,
              "ticks": ""
             }
            },
            "type": "scattergeo"
           }
          ],
          "scattergl": [
           {
            "marker": {
             "colorbar": {
              "outlinewidth": 0,
              "ticks": ""
             }
            },
            "type": "scattergl"
           }
          ],
          "scattermapbox": [
           {
            "marker": {
             "colorbar": {
              "outlinewidth": 0,
              "ticks": ""
             }
            },
            "type": "scattermapbox"
           }
          ],
          "scatterpolar": [
           {
            "marker": {
             "colorbar": {
              "outlinewidth": 0,
              "ticks": ""
             }
            },
            "type": "scatterpolar"
           }
          ],
          "scatterpolargl": [
           {
            "marker": {
             "colorbar": {
              "outlinewidth": 0,
              "ticks": ""
             }
            },
            "type": "scatterpolargl"
           }
          ],
          "scatterternary": [
           {
            "marker": {
             "colorbar": {
              "outlinewidth": 0,
              "ticks": ""
             }
            },
            "type": "scatterternary"
           }
          ],
          "surface": [
           {
            "colorbar": {
             "outlinewidth": 0,
             "ticks": ""
            },
            "colorscale": [
             [
              0,
              "#0d0887"
             ],
             [
              0.1111111111111111,
              "#46039f"
             ],
             [
              0.2222222222222222,
              "#7201a8"
             ],
             [
              0.3333333333333333,
              "#9c179e"
             ],
             [
              0.4444444444444444,
              "#bd3786"
             ],
             [
              0.5555555555555556,
              "#d8576b"
             ],
             [
              0.6666666666666666,
              "#ed7953"
             ],
             [
              0.7777777777777778,
              "#fb9f3a"
             ],
             [
              0.8888888888888888,
              "#fdca26"
             ],
             [
              1,
              "#f0f921"
             ]
            ],
            "type": "surface"
           }
          ],
          "table": [
           {
            "cells": {
             "fill": {
              "color": "#EBF0F8"
             },
             "line": {
              "color": "white"
             }
            },
            "header": {
             "fill": {
              "color": "#C8D4E3"
             },
             "line": {
              "color": "white"
             }
            },
            "type": "table"
           }
          ]
         },
         "layout": {
          "annotationdefaults": {
           "arrowcolor": "#2a3f5f",
           "arrowhead": 0,
           "arrowwidth": 1
          },
          "autotypenumbers": "strict",
          "coloraxis": {
           "colorbar": {
            "outlinewidth": 0,
            "ticks": ""
           }
          },
          "colorscale": {
           "diverging": [
            [
             0,
             "#8e0152"
            ],
            [
             0.1,
             "#c51b7d"
            ],
            [
             0.2,
             "#de77ae"
            ],
            [
             0.3,
             "#f1b6da"
            ],
            [
             0.4,
             "#fde0ef"
            ],
            [
             0.5,
             "#f7f7f7"
            ],
            [
             0.6,
             "#e6f5d0"
            ],
            [
             0.7,
             "#b8e186"
            ],
            [
             0.8,
             "#7fbc41"
            ],
            [
             0.9,
             "#4d9221"
            ],
            [
             1,
             "#276419"
            ]
           ],
           "sequential": [
            [
             0,
             "#0d0887"
            ],
            [
             0.1111111111111111,
             "#46039f"
            ],
            [
             0.2222222222222222,
             "#7201a8"
            ],
            [
             0.3333333333333333,
             "#9c179e"
            ],
            [
             0.4444444444444444,
             "#bd3786"
            ],
            [
             0.5555555555555556,
             "#d8576b"
            ],
            [
             0.6666666666666666,
             "#ed7953"
            ],
            [
             0.7777777777777778,
             "#fb9f3a"
            ],
            [
             0.8888888888888888,
             "#fdca26"
            ],
            [
             1,
             "#f0f921"
            ]
           ],
           "sequentialminus": [
            [
             0,
             "#0d0887"
            ],
            [
             0.1111111111111111,
             "#46039f"
            ],
            [
             0.2222222222222222,
             "#7201a8"
            ],
            [
             0.3333333333333333,
             "#9c179e"
            ],
            [
             0.4444444444444444,
             "#bd3786"
            ],
            [
             0.5555555555555556,
             "#d8576b"
            ],
            [
             0.6666666666666666,
             "#ed7953"
            ],
            [
             0.7777777777777778,
             "#fb9f3a"
            ],
            [
             0.8888888888888888,
             "#fdca26"
            ],
            [
             1,
             "#f0f921"
            ]
           ]
          },
          "colorway": [
           "#636efa",
           "#EF553B",
           "#00cc96",
           "#ab63fa",
           "#FFA15A",
           "#19d3f3",
           "#FF6692",
           "#B6E880",
           "#FF97FF",
           "#FECB52"
          ],
          "font": {
           "color": "#2a3f5f"
          },
          "geo": {
           "bgcolor": "white",
           "lakecolor": "white",
           "landcolor": "#E5ECF6",
           "showlakes": true,
           "showland": true,
           "subunitcolor": "white"
          },
          "hoverlabel": {
           "align": "left"
          },
          "hovermode": "closest",
          "mapbox": {
           "style": "light"
          },
          "paper_bgcolor": "white",
          "plot_bgcolor": "#E5ECF6",
          "polar": {
           "angularaxis": {
            "gridcolor": "white",
            "linecolor": "white",
            "ticks": ""
           },
           "bgcolor": "#E5ECF6",
           "radialaxis": {
            "gridcolor": "white",
            "linecolor": "white",
            "ticks": ""
           }
          },
          "scene": {
           "xaxis": {
            "backgroundcolor": "#E5ECF6",
            "gridcolor": "white",
            "gridwidth": 2,
            "linecolor": "white",
            "showbackground": true,
            "ticks": "",
            "zerolinecolor": "white"
           },
           "yaxis": {
            "backgroundcolor": "#E5ECF6",
            "gridcolor": "white",
            "gridwidth": 2,
            "linecolor": "white",
            "showbackground": true,
            "ticks": "",
            "zerolinecolor": "white"
           },
           "zaxis": {
            "backgroundcolor": "#E5ECF6",
            "gridcolor": "white",
            "gridwidth": 2,
            "linecolor": "white",
            "showbackground": true,
            "ticks": "",
            "zerolinecolor": "white"
           }
          },
          "shapedefaults": {
           "line": {
            "color": "#2a3f5f"
           }
          },
          "ternary": {
           "aaxis": {
            "gridcolor": "white",
            "linecolor": "white",
            "ticks": ""
           },
           "baxis": {
            "gridcolor": "white",
            "linecolor": "white",
            "ticks": ""
           },
           "bgcolor": "#E5ECF6",
           "caxis": {
            "gridcolor": "white",
            "linecolor": "white",
            "ticks": ""
           }
          },
          "title": {
           "x": 0.05
          },
          "xaxis": {
           "automargin": true,
           "gridcolor": "white",
           "linecolor": "white",
           "ticks": "",
           "title": {
            "standoff": 15
           },
           "zerolinecolor": "white",
           "zerolinewidth": 2
          },
          "yaxis": {
           "automargin": true,
           "gridcolor": "white",
           "linecolor": "white",
           "ticks": "",
           "title": {
            "standoff": 15
           },
           "zerolinecolor": "white",
           "zerolinewidth": 2
          }
         }
        },
        "title": {
         "text": "Bike Rentals by Hour by Weather"
        },
        "xaxis": {
         "anchor": "y",
         "domain": [
          0,
          1
         ],
         "nticks": 24,
         "title": {
          "text": "hour_of_day"
         }
        },
        "yaxis": {
         "anchor": "x",
         "domain": [
          0,
          1
         ],
         "title": {
          "text": "count"
         }
        }
       }
      },
      "text/html": [
       "<div>                            <div id=\"cd924349-69a9-450b-9313-762496803369\" class=\"plotly-graph-div\" style=\"height:525px; width:100%;\"></div>            <script type=\"text/javascript\">                require([\"plotly\"], function(Plotly) {                    window.PLOTLYENV=window.PLOTLYENV || {};                                    if (document.getElementById(\"cd924349-69a9-450b-9313-762496803369\")) {                    Plotly.newPlot(                        \"cd924349-69a9-450b-9313-762496803369\",                        [{\"hovertemplate\": \"weather=Clear Skies<br>hour_of_day=%{x}<br>count=%{y}<extra></extra>\", \"legendgroup\": \"Clear Skies\", \"line\": {\"color\": \"#636efa\", \"dash\": \"solid\"}, \"mode\": \"lines\", \"name\": \"Clear Skies\", \"orientation\": \"v\", \"showlegend\": true, \"type\": \"scatter\", \"x\": [0, 1, 2, 3, 4, 5, 6, 7, 8, 9, 10, 11, 12, 13, 14, 15, 16, 17, 18, 19, 20, 21, 22, 23], \"xaxis\": \"x\", \"y\": [59.91447368421053, 35.125, 23.11, 11.792387543252595, 6.463667820069205, 20.04421768707483, 79.44520547945206, 217.34642857142856, 360.86071428571427, 228.02952029520296, 192.525, 233.2288732394366, 280.26666666666665, 282.8972602739726, 265.51666666666665, 275.80258899676375, 335.360248447205, 506.41009463722395, 458.74679487179486, 334.90432098765433, 245.46036585365854, 185.4367088607595, 145.08805031446542, 95.3258064516129], \"yaxis\": \"y\"}, {\"hovertemplate\": \"weather=Heavy Storms/Rain<br>hour_of_day=%{x}<br>count=%{y}<extra></extra>\", \"legendgroup\": \"Heavy Storms/Rain\", \"line\": {\"color\": \"#EF553B\", \"dash\": \"solid\"}, \"mode\": \"lines\", \"name\": \"Heavy Storms/Rain\", \"orientation\": \"v\", \"showlegend\": true, \"type\": \"scatter\", \"x\": [0, 1, 2, 3, 4, 5, 6, 7, 8, 9, 10, 11, 12, 13, 14, 15, 16, 17, 18, 19, 20, 21, 22, 23], \"xaxis\": \"x\", \"y\": [null, null, null, null, null, null, null, null, null, null, null, null, null, null, null, null, null, null, 164.0, null, null, null, null, null], \"yaxis\": \"y\"}, {\"hovertemplate\": \"weather=Light Storms/Rain<br>hour_of_day=%{x}<br>count=%{y}<extra></extra>\", \"legendgroup\": \"Light Storms/Rain\", \"line\": {\"color\": \"#00cc96\", \"dash\": \"solid\"}, \"mode\": \"lines\", \"name\": \"Light Storms/Rain\", \"orientation\": \"v\", \"showlegend\": true, \"type\": \"scatter\", \"x\": [0, 1, 2, 3, 4, 5, 6, 7, 8, 9, 10, 11, 12, 13, 14, 15, 16, 17, 18, 19, 20, 21, 22, 23], \"xaxis\": \"x\", \"y\": [27.428571428571427, 19.18421052631579, 13.84375, 6.033333333333333, 4.138888888888889, 14.848484848484848, 61.11904761904762, 128.06976744186048, 202.21621621621622, 130.59375, 84.84375, 101.53846153846153, 141.44827586206895, 127.48148148148148, 131.97058823529412, 153.64285714285714, 189.85, 309.1224489795918, 291.8510638297872, 168.27777777777777, 126.89473684210526, 104.0625, 77.78787878787878, 58.604651162790695], \"yaxis\": \"y\"}, {\"hovertemplate\": \"weather=Partly Cloudy<br>hour_of_day=%{x}<br>count=%{y}<extra></extra>\", \"legendgroup\": \"Partly Cloudy\", \"line\": {\"color\": \"#ab63fa\", \"dash\": \"solid\"}, \"mode\": \"lines\", \"name\": \"Partly Cloudy\", \"orientation\": \"v\", \"showlegend\": true, \"type\": \"scatter\", \"x\": [0, 1, 2, 3, 4, 5, 6, 7, 8, 9, 10, 11, 12, 13, 14, 15, 16, 17, 18, 19, 20, 21, 22, 23], \"xaxis\": \"x\", \"y\": [49.642276422764226, 35.38333333333333, 24.853448275862068, 13.175438596491228, 6.965811965811966, 20.416, 73.82644628099173, 231.84848484848484, 409.68840579710144, 229.83552631578948, 161.15384615384616, 186.06896551724137, 232.32394366197184, 229.94890510948906, 220.2295081967213, 231.27619047619046, 305.17021276595744, 423.0888888888889, 411.0625, 304.1666666666667, 209.67777777777778, 158.60185185185185, 116.24761904761905, 84.90291262135922], \"yaxis\": \"y\"}],                        {\"legend\": {\"title\": {\"text\": \"weather\"}, \"tracegroupgap\": 0}, \"template\": {\"data\": {\"bar\": [{\"error_x\": {\"color\": \"#2a3f5f\"}, \"error_y\": {\"color\": \"#2a3f5f\"}, \"marker\": {\"line\": {\"color\": \"#E5ECF6\", \"width\": 0.5}}, \"type\": \"bar\"}], \"barpolar\": [{\"marker\": {\"line\": {\"color\": \"#E5ECF6\", \"width\": 0.5}}, \"type\": \"barpolar\"}], \"carpet\": [{\"aaxis\": {\"endlinecolor\": \"#2a3f5f\", \"gridcolor\": \"white\", \"linecolor\": \"white\", \"minorgridcolor\": \"white\", \"startlinecolor\": \"#2a3f5f\"}, \"baxis\": {\"endlinecolor\": \"#2a3f5f\", \"gridcolor\": \"white\", \"linecolor\": \"white\", \"minorgridcolor\": \"white\", \"startlinecolor\": \"#2a3f5f\"}, \"type\": \"carpet\"}], \"choropleth\": [{\"colorbar\": {\"outlinewidth\": 0, \"ticks\": \"\"}, \"type\": \"choropleth\"}], \"contour\": [{\"colorbar\": {\"outlinewidth\": 0, \"ticks\": \"\"}, \"colorscale\": [[0.0, \"#0d0887\"], [0.1111111111111111, \"#46039f\"], [0.2222222222222222, \"#7201a8\"], [0.3333333333333333, \"#9c179e\"], [0.4444444444444444, \"#bd3786\"], [0.5555555555555556, \"#d8576b\"], [0.6666666666666666, \"#ed7953\"], [0.7777777777777778, \"#fb9f3a\"], [0.8888888888888888, \"#fdca26\"], [1.0, \"#f0f921\"]], \"type\": \"contour\"}], \"contourcarpet\": [{\"colorbar\": {\"outlinewidth\": 0, \"ticks\": \"\"}, \"type\": \"contourcarpet\"}], \"heatmap\": [{\"colorbar\": {\"outlinewidth\": 0, \"ticks\": \"\"}, \"colorscale\": [[0.0, \"#0d0887\"], [0.1111111111111111, \"#46039f\"], [0.2222222222222222, \"#7201a8\"], [0.3333333333333333, \"#9c179e\"], [0.4444444444444444, \"#bd3786\"], [0.5555555555555556, \"#d8576b\"], [0.6666666666666666, \"#ed7953\"], [0.7777777777777778, \"#fb9f3a\"], [0.8888888888888888, \"#fdca26\"], [1.0, \"#f0f921\"]], \"type\": \"heatmap\"}], \"heatmapgl\": [{\"colorbar\": {\"outlinewidth\": 0, \"ticks\": \"\"}, \"colorscale\": [[0.0, \"#0d0887\"], [0.1111111111111111, \"#46039f\"], [0.2222222222222222, \"#7201a8\"], [0.3333333333333333, \"#9c179e\"], [0.4444444444444444, \"#bd3786\"], [0.5555555555555556, \"#d8576b\"], [0.6666666666666666, \"#ed7953\"], [0.7777777777777778, \"#fb9f3a\"], [0.8888888888888888, \"#fdca26\"], [1.0, \"#f0f921\"]], \"type\": \"heatmapgl\"}], \"histogram\": [{\"marker\": {\"colorbar\": {\"outlinewidth\": 0, \"ticks\": \"\"}}, \"type\": \"histogram\"}], \"histogram2d\": [{\"colorbar\": {\"outlinewidth\": 0, \"ticks\": \"\"}, \"colorscale\": [[0.0, \"#0d0887\"], [0.1111111111111111, \"#46039f\"], [0.2222222222222222, \"#7201a8\"], [0.3333333333333333, \"#9c179e\"], [0.4444444444444444, \"#bd3786\"], [0.5555555555555556, \"#d8576b\"], [0.6666666666666666, \"#ed7953\"], [0.7777777777777778, \"#fb9f3a\"], [0.8888888888888888, \"#fdca26\"], [1.0, \"#f0f921\"]], \"type\": \"histogram2d\"}], \"histogram2dcontour\": [{\"colorbar\": {\"outlinewidth\": 0, \"ticks\": \"\"}, \"colorscale\": [[0.0, \"#0d0887\"], [0.1111111111111111, \"#46039f\"], [0.2222222222222222, \"#7201a8\"], [0.3333333333333333, \"#9c179e\"], [0.4444444444444444, \"#bd3786\"], [0.5555555555555556, \"#d8576b\"], [0.6666666666666666, \"#ed7953\"], [0.7777777777777778, \"#fb9f3a\"], [0.8888888888888888, \"#fdca26\"], [1.0, \"#f0f921\"]], \"type\": \"histogram2dcontour\"}], \"mesh3d\": [{\"colorbar\": {\"outlinewidth\": 0, \"ticks\": \"\"}, \"type\": \"mesh3d\"}], \"parcoords\": [{\"line\": {\"colorbar\": {\"outlinewidth\": 0, \"ticks\": \"\"}}, \"type\": \"parcoords\"}], \"pie\": [{\"automargin\": true, \"type\": \"pie\"}], \"scatter\": [{\"marker\": {\"colorbar\": {\"outlinewidth\": 0, \"ticks\": \"\"}}, \"type\": \"scatter\"}], \"scatter3d\": [{\"line\": {\"colorbar\": {\"outlinewidth\": 0, \"ticks\": \"\"}}, \"marker\": {\"colorbar\": {\"outlinewidth\": 0, \"ticks\": \"\"}}, \"type\": \"scatter3d\"}], \"scattercarpet\": [{\"marker\": {\"colorbar\": {\"outlinewidth\": 0, \"ticks\": \"\"}}, \"type\": \"scattercarpet\"}], \"scattergeo\": [{\"marker\": {\"colorbar\": {\"outlinewidth\": 0, \"ticks\": \"\"}}, \"type\": \"scattergeo\"}], \"scattergl\": [{\"marker\": {\"colorbar\": {\"outlinewidth\": 0, \"ticks\": \"\"}}, \"type\": \"scattergl\"}], \"scattermapbox\": [{\"marker\": {\"colorbar\": {\"outlinewidth\": 0, \"ticks\": \"\"}}, \"type\": \"scattermapbox\"}], \"scatterpolar\": [{\"marker\": {\"colorbar\": {\"outlinewidth\": 0, \"ticks\": \"\"}}, \"type\": \"scatterpolar\"}], \"scatterpolargl\": [{\"marker\": {\"colorbar\": {\"outlinewidth\": 0, \"ticks\": \"\"}}, \"type\": \"scatterpolargl\"}], \"scatterternary\": [{\"marker\": {\"colorbar\": {\"outlinewidth\": 0, \"ticks\": \"\"}}, \"type\": \"scatterternary\"}], \"surface\": [{\"colorbar\": {\"outlinewidth\": 0, \"ticks\": \"\"}, \"colorscale\": [[0.0, \"#0d0887\"], [0.1111111111111111, \"#46039f\"], [0.2222222222222222, \"#7201a8\"], [0.3333333333333333, \"#9c179e\"], [0.4444444444444444, \"#bd3786\"], [0.5555555555555556, \"#d8576b\"], [0.6666666666666666, \"#ed7953\"], [0.7777777777777778, \"#fb9f3a\"], [0.8888888888888888, \"#fdca26\"], [1.0, \"#f0f921\"]], \"type\": \"surface\"}], \"table\": [{\"cells\": {\"fill\": {\"color\": \"#EBF0F8\"}, \"line\": {\"color\": \"white\"}}, \"header\": {\"fill\": {\"color\": \"#C8D4E3\"}, \"line\": {\"color\": \"white\"}}, \"type\": \"table\"}]}, \"layout\": {\"annotationdefaults\": {\"arrowcolor\": \"#2a3f5f\", \"arrowhead\": 0, \"arrowwidth\": 1}, \"autotypenumbers\": \"strict\", \"coloraxis\": {\"colorbar\": {\"outlinewidth\": 0, \"ticks\": \"\"}}, \"colorscale\": {\"diverging\": [[0, \"#8e0152\"], [0.1, \"#c51b7d\"], [0.2, \"#de77ae\"], [0.3, \"#f1b6da\"], [0.4, \"#fde0ef\"], [0.5, \"#f7f7f7\"], [0.6, \"#e6f5d0\"], [0.7, \"#b8e186\"], [0.8, \"#7fbc41\"], [0.9, \"#4d9221\"], [1, \"#276419\"]], \"sequential\": [[0.0, \"#0d0887\"], [0.1111111111111111, \"#46039f\"], [0.2222222222222222, \"#7201a8\"], [0.3333333333333333, \"#9c179e\"], [0.4444444444444444, \"#bd3786\"], [0.5555555555555556, \"#d8576b\"], [0.6666666666666666, \"#ed7953\"], [0.7777777777777778, \"#fb9f3a\"], [0.8888888888888888, \"#fdca26\"], [1.0, \"#f0f921\"]], \"sequentialminus\": [[0.0, \"#0d0887\"], [0.1111111111111111, \"#46039f\"], [0.2222222222222222, \"#7201a8\"], [0.3333333333333333, \"#9c179e\"], [0.4444444444444444, \"#bd3786\"], [0.5555555555555556, \"#d8576b\"], [0.6666666666666666, \"#ed7953\"], [0.7777777777777778, \"#fb9f3a\"], [0.8888888888888888, \"#fdca26\"], [1.0, \"#f0f921\"]]}, \"colorway\": [\"#636efa\", \"#EF553B\", \"#00cc96\", \"#ab63fa\", \"#FFA15A\", \"#19d3f3\", \"#FF6692\", \"#B6E880\", \"#FF97FF\", \"#FECB52\"], \"font\": {\"color\": \"#2a3f5f\"}, \"geo\": {\"bgcolor\": \"white\", \"lakecolor\": \"white\", \"landcolor\": \"#E5ECF6\", \"showlakes\": true, \"showland\": true, \"subunitcolor\": \"white\"}, \"hoverlabel\": {\"align\": \"left\"}, \"hovermode\": \"closest\", \"mapbox\": {\"style\": \"light\"}, \"paper_bgcolor\": \"white\", \"plot_bgcolor\": \"#E5ECF6\", \"polar\": {\"angularaxis\": {\"gridcolor\": \"white\", \"linecolor\": \"white\", \"ticks\": \"\"}, \"bgcolor\": \"#E5ECF6\", \"radialaxis\": {\"gridcolor\": \"white\", \"linecolor\": \"white\", \"ticks\": \"\"}}, \"scene\": {\"xaxis\": {\"backgroundcolor\": \"#E5ECF6\", \"gridcolor\": \"white\", \"gridwidth\": 2, \"linecolor\": \"white\", \"showbackground\": true, \"ticks\": \"\", \"zerolinecolor\": \"white\"}, \"yaxis\": {\"backgroundcolor\": \"#E5ECF6\", \"gridcolor\": \"white\", \"gridwidth\": 2, \"linecolor\": \"white\", \"showbackground\": true, \"ticks\": \"\", \"zerolinecolor\": \"white\"}, \"zaxis\": {\"backgroundcolor\": \"#E5ECF6\", \"gridcolor\": \"white\", \"gridwidth\": 2, \"linecolor\": \"white\", \"showbackground\": true, \"ticks\": \"\", \"zerolinecolor\": \"white\"}}, \"shapedefaults\": {\"line\": {\"color\": \"#2a3f5f\"}}, \"ternary\": {\"aaxis\": {\"gridcolor\": \"white\", \"linecolor\": \"white\", \"ticks\": \"\"}, \"baxis\": {\"gridcolor\": \"white\", \"linecolor\": \"white\", \"ticks\": \"\"}, \"bgcolor\": \"#E5ECF6\", \"caxis\": {\"gridcolor\": \"white\", \"linecolor\": \"white\", \"ticks\": \"\"}}, \"title\": {\"x\": 0.05}, \"xaxis\": {\"automargin\": true, \"gridcolor\": \"white\", \"linecolor\": \"white\", \"ticks\": \"\", \"title\": {\"standoff\": 15}, \"zerolinecolor\": \"white\", \"zerolinewidth\": 2}, \"yaxis\": {\"automargin\": true, \"gridcolor\": \"white\", \"linecolor\": \"white\", \"ticks\": \"\", \"title\": {\"standoff\": 15}, \"zerolinecolor\": \"white\", \"zerolinewidth\": 2}}}, \"title\": {\"text\": \"Bike Rentals by Hour by Weather\"}, \"xaxis\": {\"anchor\": \"y\", \"domain\": [0.0, 1.0], \"nticks\": 24, \"title\": {\"text\": \"hour_of_day\"}}, \"yaxis\": {\"anchor\": \"x\", \"domain\": [0.0, 1.0], \"title\": {\"text\": \"count\"}}},                        {\"responsive\": true}                    ).then(function(){\n",
       "                            \n",
       "var gd = document.getElementById('cd924349-69a9-450b-9313-762496803369');\n",
       "var x = new MutationObserver(function (mutations, observer) {{\n",
       "        var display = window.getComputedStyle(gd).display;\n",
       "        if (!display || display === 'none') {{\n",
       "            console.log([gd, 'removed!']);\n",
       "            Plotly.purge(gd);\n",
       "            observer.disconnect();\n",
       "        }}\n",
       "}});\n",
       "\n",
       "// Listen for the removal of the full notebook cells\n",
       "var notebookContainer = gd.closest('#notebook-container');\n",
       "if (notebookContainer) {{\n",
       "    x.observe(notebookContainer, {childList: true});\n",
       "}}\n",
       "\n",
       "// Listen for the clearing of the current output cell\n",
       "var outputEl = gd.closest('.output');\n",
       "if (outputEl) {{\n",
       "    x.observe(outputEl, {childList: true});\n",
       "}}\n",
       "\n",
       "                        })                };                });            </script>        </div>"
      ]
     },
     "metadata": {},
     "output_type": "display_data"
    }
   ],
   "source": [
    "df['day'] = df['datetime'].dt.day_name()\n",
    "\n",
    "data = df.groupby(['hour_of_day', 'weather'])['count'].mean().reset_index()\n",
    "fig = px.line(data, x='hour_of_day', y='count', color='weather', title='Bike Rentals by Hour by Weather')\n",
    "fig.update_xaxes(nticks=24)\n",
    "fig.show()\n",
    "\n",
    "df.drop(['day'], axis=1, inplace=True)"
   ]
  },
  {
   "cell_type": "code",
   "execution_count": 110,
   "metadata": {},
   "outputs": [
    {
     "data": {
      "text/html": [
       "<div>\n",
       "<style scoped>\n",
       "    .dataframe tbody tr th:only-of-type {\n",
       "        vertical-align: middle;\n",
       "    }\n",
       "\n",
       "    .dataframe tbody tr th {\n",
       "        vertical-align: top;\n",
       "    }\n",
       "\n",
       "    .dataframe thead th {\n",
       "        text-align: right;\n",
       "    }\n",
       "</style>\n",
       "<table border=\"1\" class=\"dataframe\">\n",
       "  <thead>\n",
       "    <tr style=\"text-align: right;\">\n",
       "      <th></th>\n",
       "      <th>count</th>\n",
       "      <th>mean</th>\n",
       "      <th>std</th>\n",
       "      <th>min</th>\n",
       "      <th>25%</th>\n",
       "      <th>50%</th>\n",
       "      <th>75%</th>\n",
       "      <th>max</th>\n",
       "    </tr>\n",
       "    <tr>\n",
       "      <th>weather</th>\n",
       "      <th></th>\n",
       "      <th></th>\n",
       "      <th></th>\n",
       "      <th></th>\n",
       "      <th></th>\n",
       "      <th></th>\n",
       "      <th></th>\n",
       "      <th></th>\n",
       "    </tr>\n",
       "  </thead>\n",
       "  <tbody>\n",
       "    <tr>\n",
       "      <th>Clear Skies</th>\n",
       "      <td>7192.0</td>\n",
       "      <td>205.236791</td>\n",
       "      <td>187.959566</td>\n",
       "      <td>1.0</td>\n",
       "      <td>48.0</td>\n",
       "      <td>161.0</td>\n",
       "      <td>305.0</td>\n",
       "      <td>977.0</td>\n",
       "    </tr>\n",
       "    <tr>\n",
       "      <th>Heavy Storms/Rain</th>\n",
       "      <td>1.0</td>\n",
       "      <td>164.000000</td>\n",
       "      <td>NaN</td>\n",
       "      <td>164.0</td>\n",
       "      <td>164.0</td>\n",
       "      <td>164.0</td>\n",
       "      <td>164.0</td>\n",
       "      <td>164.0</td>\n",
       "    </tr>\n",
       "    <tr>\n",
       "      <th>Light Storms/Rain</th>\n",
       "      <td>859.0</td>\n",
       "      <td>118.846333</td>\n",
       "      <td>138.581297</td>\n",
       "      <td>1.0</td>\n",
       "      <td>23.0</td>\n",
       "      <td>71.0</td>\n",
       "      <td>161.0</td>\n",
       "      <td>891.0</td>\n",
       "    </tr>\n",
       "    <tr>\n",
       "      <th>Partly Cloudy</th>\n",
       "      <td>2834.0</td>\n",
       "      <td>178.955540</td>\n",
       "      <td>168.366413</td>\n",
       "      <td>1.0</td>\n",
       "      <td>41.0</td>\n",
       "      <td>134.0</td>\n",
       "      <td>264.0</td>\n",
       "      <td>890.0</td>\n",
       "    </tr>\n",
       "  </tbody>\n",
       "</table>\n",
       "</div>"
      ],
      "text/plain": [
       "                    count        mean         std    min    25%    50%    75%  \\\n",
       "weather                                                                         \n",
       "Clear Skies        7192.0  205.236791  187.959566    1.0   48.0  161.0  305.0   \n",
       "Heavy Storms/Rain     1.0  164.000000         NaN  164.0  164.0  164.0  164.0   \n",
       "Light Storms/Rain   859.0  118.846333  138.581297    1.0   23.0   71.0  161.0   \n",
       "Partly Cloudy      2834.0  178.955540  168.366413    1.0   41.0  134.0  264.0   \n",
       "\n",
       "                     max  \n",
       "weather                   \n",
       "Clear Skies        977.0  \n",
       "Heavy Storms/Rain  164.0  \n",
       "Light Storms/Rain  891.0  \n",
       "Partly Cloudy      890.0  "
      ]
     },
     "execution_count": 110,
     "metadata": {},
     "output_type": "execute_result"
    }
   ],
   "source": [
    "# Why no line for Heavy Storms? Because there's only one record\n",
    "\n",
    "df.groupby(['weather'])['count'].describe()"
   ]
  },
  {
   "cell_type": "markdown",
   "metadata": {},
   "source": [
    "Aside from that one row for Heavy Storms, it does seem like storms will decrease rentals a bit.  Lets add column to flag whether the ride was during a storm or not in case that helps."
   ]
  },
  {
   "cell_type": "code",
   "execution_count": 111,
   "metadata": {},
   "outputs": [
    {
     "name": "stdout",
     "output_type": "stream",
     "text": [
      "Validation Set Score: 0.8176357415889302\n"
     ]
    }
   ],
   "source": [
    "df['is_storming'] = 0\n",
    "\n",
    "df.loc[df['weather'] == \"Light Storms/Rain\", 'is_storming'] = 1\n",
    "df.loc[df['weather'] == \"Heavy Storms/Rain\", 'is_storming'] = 1\n",
    "\n",
    "# Let's see how that impacted the score\n",
    "fit_and_score(df)"
   ]
  },
  {
   "cell_type": "markdown",
   "metadata": {},
   "source": [
    "#### How do rental counts from previous points in time impact rentals?\n",
    "\n",
    "It feels like cheating to use the previous hour's rental count. It seems pretty unlikely that a real-world use case would have the previous hour's rental count available for modeling. I wrote this but am not including it.\n",
    "\n",
    "In order to create a column with the previous hour's rental count, we have to check if the previous row is actually the previous hour."
   ]
  },
  {
   "cell_type": "code",
   "execution_count": null,
   "metadata": {},
   "outputs": [],
   "source": [
    "\"\"\"\n",
    "tmp_previous_hour_count = []\n",
    "\n",
    "for i, row in df.iterrows():    \n",
    "    if (row['datetime'] - timedelta(hours=1) == df.iloc[i-1]['datetime']):\n",
    "        tmp_previous_hour_count.append(df.iloc[i-1]['count'])\n",
    "    else:\n",
    "        tmp_previous_hour_count.append(np.nan)\n",
    "\n",
    "            \n",
    "df['previous_hour_count'] = tmp_previous_hour_count\n",
    "\n",
    "df = denote_null_values(df)\n",
    "df = df.fillna(0)\n",
    "fit_and_score(df, show_training_score=True)\n",
    "\n",
    "\"\"\""
   ]
  },
  {
   "cell_type": "markdown",
   "metadata": {},
   "source": [
    "In real world use, we likely won't have the previous hour's rental count. Instead, we have this option to look at the rental count for the same hour from the previous day and previous week\n",
    "\n",
    "There's probably a more effecient way to do this...."
   ]
  },
  {
   "cell_type": "code",
   "execution_count": 112,
   "metadata": {},
   "outputs": [],
   "source": [
    "tmp_previous_day_count = []\n",
    "tmp_previous_week_count = []\n",
    "\n",
    "for i, row in df.iterrows():\n",
    "    \n",
    "    previous_day = row['datetime'] - timedelta(days=1)\n",
    "    previous_week = row['datetime'] - timedelta(days=7)\n",
    "    \n",
    "    if previous_day in df['datetime'].values: \n",
    "        tmp_previous_day_count.append(df.loc[df['datetime'] == previous_day]['count'].values[0])\n",
    "    else:\n",
    "        tmp_previous_day_count.append(np.nan)\n",
    "        \n",
    "    if previous_week in df['datetime'].values: \n",
    "        tmp_previous_week_count.append(df.loc[df['datetime'] == previous_week]['count'].values[0])\n",
    "    else:\n",
    "        tmp_previous_week_count.append(np.nan)\n",
    "\n",
    "df['previous_day_count'] = tmp_previous_day_count\n",
    "df['previous_week_count'] = tmp_previous_week_count\n"
   ]
  },
  {
   "cell_type": "code",
   "execution_count": 113,
   "metadata": {},
   "outputs": [
    {
     "name": "stdout",
     "output_type": "stream",
     "text": [
      "Validation Set Score: 0.8751140112912745\n"
     ]
    }
   ],
   "source": [
    "# fit and score again\n",
    "fit_and_score(df)"
   ]
  },
  {
   "cell_type": "code",
   "execution_count": null,
   "metadata": {},
   "outputs": [],
   "source": []
  },
  {
   "cell_type": "code",
   "execution_count": null,
   "metadata": {},
   "outputs": [],
   "source": []
  },
  {
   "cell_type": "code",
   "execution_count": null,
   "metadata": {},
   "outputs": [],
   "source": []
  },
  {
   "cell_type": "code",
   "execution_count": null,
   "metadata": {},
   "outputs": [],
   "source": []
  },
  {
   "cell_type": "markdown",
   "metadata": {},
   "source": [
    "### Fine-tune the model"
   ]
  },
  {
   "cell_type": "code",
   "execution_count": 115,
   "metadata": {},
   "outputs": [
    {
     "name": "stdout",
     "output_type": "stream",
     "text": [
      "Fitting model with parameters:  n_estimators - 100, learning_rate - 0.05, max_depth - 3\n",
      "Training score: 0.8598313856834803.\n",
      " Out-of-sample score: 0.8401775077911617.\n",
      "Score difference: 0.01965387789231854\n",
      "\n",
      "\n",
      "Fitting model with parameters:  n_estimators - 100, learning_rate - 0.05, max_depth - 4\n",
      "Training score: 0.8976743824037086.\n",
      " Out-of-sample score: 0.8881949011509972.\n",
      "Score difference: 0.009479481252711364\n",
      "\n",
      "\n",
      "Fitting model with parameters:  n_estimators - 100, learning_rate - 0.05, max_depth - 5\n",
      "Training score: 0.9266255368815445.\n",
      " Out-of-sample score: 0.9227202803724938.\n",
      "Score difference: 0.003905256509050714\n",
      "\n",
      "\n",
      "Fitting model with parameters:  n_estimators - 100, learning_rate - 0.05, max_depth - 6\n",
      "Training score: 0.9483697245590572.\n",
      " Out-of-sample score: 0.9487995648165042.\n",
      "Score difference: -0.0004298402574469673\n",
      "\n",
      "\n",
      "Fitting model with parameters:  n_estimators - 100, learning_rate - 0.1, max_depth - 3\n",
      "Training score: 0.8874876180993881.\n",
      " Out-of-sample score: 0.8751140112912745.\n",
      "Score difference: 0.012373606808113613\n",
      "\n",
      "\n",
      "Fitting model with parameters:  n_estimators - 100, learning_rate - 0.1, max_depth - 4\n",
      "Training score: 0.9234080883478819.\n",
      " Out-of-sample score: 0.9193019059871022.\n",
      "Score difference: 0.004106182360779753\n",
      "\n",
      "\n",
      "Fitting model with parameters:  n_estimators - 100, learning_rate - 0.1, max_depth - 5\n",
      "Training score: 0.9479546159743547.\n",
      " Out-of-sample score: 0.9498616162326363.\n",
      "Score difference: -0.0019070002582816103\n",
      "\n",
      "\n",
      "Fitting model with parameters:  n_estimators - 100, learning_rate - 0.1, max_depth - 6\n",
      "Training score: 0.9657084763331938.\n",
      " Out-of-sample score: 0.9712382586029369.\n",
      "Score difference: -0.0055297822697431\n",
      "\n",
      "\n",
      "Fitting model with parameters:  n_estimators - 100, learning_rate - 0.2, max_depth - 3\n",
      "Training score: 0.9160054469799116.\n",
      " Out-of-sample score: 0.9108970460088439.\n",
      "Score difference: 0.005108400971067684\n",
      "\n",
      "\n",
      "Fitting model with parameters:  n_estimators - 100, learning_rate - 0.2, max_depth - 4\n",
      "Training score: 0.9439532756564435.\n",
      " Out-of-sample score: 0.9435812656149211.\n",
      "Score difference: 0.00037201004152243033\n",
      "\n",
      "\n",
      "Fitting model with parameters:  n_estimators - 100, learning_rate - 0.2, max_depth - 5\n",
      "Training score: 0.9636294534837542.\n",
      " Out-of-sample score: 0.9667625207002586.\n",
      "Score difference: -0.003133067216504415\n",
      "\n",
      "\n",
      "Fitting model with parameters:  n_estimators - 100, learning_rate - 0.2, max_depth - 6\n",
      "Training score: 0.9799711818036648.\n",
      " Out-of-sample score: 0.9847663011470633.\n",
      "Score difference: -0.004795119343398491\n",
      "\n",
      "\n",
      "Fitting model with parameters:  n_estimators - 250, learning_rate - 0.05, max_depth - 3\n",
      "Training score: 0.8952055582536085.\n",
      " Out-of-sample score: 0.8859548660320352.\n",
      "Score difference: 0.009250692221573265\n",
      "\n",
      "\n",
      "Fitting model with parameters:  n_estimators - 250, learning_rate - 0.05, max_depth - 4\n",
      "Training score: 0.9290881764510583.\n",
      " Out-of-sample score: 0.9275410364402844.\n",
      "Score difference: 0.0015471400107739397\n",
      "\n",
      "\n",
      "Fitting model with parameters:  n_estimators - 250, learning_rate - 0.05, max_depth - 5\n",
      "Training score: 0.954254548151255.\n",
      " Out-of-sample score: 0.9578910670347514.\n",
      "Score difference: -0.0036365188834963647\n",
      "\n",
      "\n",
      "Fitting model with parameters:  n_estimators - 250, learning_rate - 0.05, max_depth - 6\n",
      "Training score: 0.970220130438552.\n",
      " Out-of-sample score: 0.974749435666942.\n",
      "Score difference: -0.004529305228390013\n",
      "\n",
      "\n",
      "Fitting model with parameters:  n_estimators - 250, learning_rate - 0.1, max_depth - 3\n",
      "Training score: 0.9224815040461414.\n",
      " Out-of-sample score: 0.9180072590230295.\n",
      "Score difference: 0.004474245023111889\n",
      "\n",
      "\n",
      "Fitting model with parameters:  n_estimators - 250, learning_rate - 0.1, max_depth - 4\n",
      "Training score: 0.9490932209554357.\n",
      " Out-of-sample score: 0.9514174196797569.\n",
      "Score difference: -0.0023241987243212137\n",
      "\n",
      "\n",
      "Fitting model with parameters:  n_estimators - 250, learning_rate - 0.1, max_depth - 5\n",
      "Training score: 0.9703534019474401.\n",
      " Out-of-sample score: 0.9738080263462114.\n",
      "Score difference: -0.003454624398771311\n",
      "\n",
      "\n",
      "Fitting model with parameters:  n_estimators - 250, learning_rate - 0.1, max_depth - 6\n",
      "Training score: 0.9836229797399693.\n",
      " Out-of-sample score: 0.9880176894328979.\n",
      "Score difference: -0.0043947096929286555\n",
      "\n",
      "\n",
      "Fitting model with parameters:  n_estimators - 250, learning_rate - 0.2, max_depth - 3\n",
      "Training score: 0.9407215756261863.\n",
      " Out-of-sample score: 0.9398223899507314.\n",
      "Score difference: 0.0008991856754548833\n",
      "\n",
      "\n",
      "Fitting model with parameters:  n_estimators - 250, learning_rate - 0.2, max_depth - 4\n",
      "Training score: 0.9664198266787882.\n",
      " Out-of-sample score: 0.9698716682531562.\n",
      "Score difference: -0.003451841574367953\n",
      "\n",
      "\n",
      "Fitting model with parameters:  n_estimators - 250, learning_rate - 0.2, max_depth - 5\n",
      "Training score: 0.9830557001033557.\n",
      " Out-of-sample score: 0.9868121017332877.\n",
      "Score difference: -0.0037564016299319603\n",
      "\n",
      "\n",
      "Fitting model with parameters:  n_estimators - 250, learning_rate - 0.2, max_depth - 6\n",
      "Training score: 0.9939960453805504.\n",
      " Out-of-sample score: 0.996315918008043.\n",
      "Score difference: -0.0023198726274925585\n",
      "\n",
      "\n",
      "Fitting model with parameters:  n_estimators - 500, learning_rate - 0.05, max_depth - 3\n",
      "Training score: 0.920095103661114.\n",
      " Out-of-sample score: 0.9165211041703493.\n",
      "Score difference: 0.0035739994907647565\n",
      "\n",
      "\n",
      "Fitting model with parameters:  n_estimators - 500, learning_rate - 0.05, max_depth - 4\n",
      "Training score: 0.9470487637306582.\n",
      " Out-of-sample score: 0.9482968656384219.\n",
      "Score difference: -0.001248101907763699\n",
      "\n",
      "\n",
      "Fitting model with parameters:  n_estimators - 500, learning_rate - 0.05, max_depth - 5\n",
      "Training score: 0.9694325347137392.\n",
      " Out-of-sample score: 0.973299618075863.\n",
      "Score difference: -0.0038670833621237133\n",
      "\n",
      "\n",
      "Fitting model with parameters:  n_estimators - 500, learning_rate - 0.05, max_depth - 6\n",
      "Training score: 0.9832371202520938.\n",
      " Out-of-sample score: 0.9875282851320869.\n",
      "Score difference: -0.004291164879993148\n",
      "\n",
      "\n",
      "Fitting model with parameters:  n_estimators - 500, learning_rate - 0.1, max_depth - 3\n",
      "Training score: 0.9413986343428303.\n",
      " Out-of-sample score: 0.9396742197485087.\n",
      "Score difference: 0.0017244145943215994\n",
      "\n",
      "\n",
      "Fitting model with parameters:  n_estimators - 500, learning_rate - 0.1, max_depth - 4\n",
      "Training score: 0.9659391949855155.\n",
      " Out-of-sample score: 0.9693246065954096.\n",
      "Score difference: -0.00338541160989414\n",
      "\n",
      "\n",
      "Fitting model with parameters:  n_estimators - 500, learning_rate - 0.1, max_depth - 5\n",
      "Training score: 0.9843447833814599.\n",
      " Out-of-sample score: 0.9883421513190337.\n",
      "Score difference: -0.00399736793757377\n",
      "\n",
      "\n",
      "Fitting model with parameters:  n_estimators - 500, learning_rate - 0.1, max_depth - 6\n",
      "Training score: 0.9935998161146935.\n",
      " Out-of-sample score: 0.9959915370276634.\n",
      "Score difference: -0.002391720912969908\n",
      "\n",
      "\n",
      "Fitting model with parameters:  n_estimators - 500, learning_rate - 0.2, max_depth - 3\n",
      "Training score: 0.9572642282479475.\n",
      " Out-of-sample score: 0.9582950483781167.\n",
      "Score difference: -0.0010308201301691966\n",
      "\n",
      "\n",
      "Fitting model with parameters:  n_estimators - 500, learning_rate - 0.2, max_depth - 4\n",
      "Training score: 0.9805675973172496.\n",
      " Out-of-sample score: 0.9857516189440081.\n",
      "Score difference: -0.0051840216267584616\n",
      "\n",
      "\n",
      "Fitting model with parameters:  n_estimators - 500, learning_rate - 0.2, max_depth - 5\n",
      "Training score: 0.9934301225289781.\n",
      " Out-of-sample score: 0.9956488891767333.\n",
      "Score difference: -0.0022187666477552215\n",
      "\n",
      "\n",
      "Fitting model with parameters:  n_estimators - 500, learning_rate - 0.2, max_depth - 6\n",
      "Training score: 0.9986438106921687.\n",
      " Out-of-sample score: 0.9992864763117799.\n",
      "Score difference: -0.0006426656196112379\n",
      "\n",
      "\n"
     ]
    }
   ],
   "source": [
    "# Fine-tune the model\n",
    "\n",
    "df = denote_null_values(df)\n",
    "df = df.replace(np.nan, 0)\n",
    "\n",
    "# create training & test sets\n",
    "train, val, test = create_val_splits(df, return_val=True)\n",
    "\n",
    "# split into X & y\n",
    "X_train, y_train = train.drop('count', axis=1), train['count']\n",
    "X_val, y_val = val.drop('count', axis=1), val['count']\n",
    "\n",
    "n_estimators  = [100, 250, 500]\n",
    "learning_rate = [.05, .1, .2]\n",
    "max_depth     = [3, 4, 5, 6]\n",
    "\n",
    "# and cycle through our model parameters\n",
    "for estimators in n_estimators:\n",
    "    for rate in learning_rate:\n",
    "        for depth in max_depth:\n",
    "            print(f\"Fitting model with parameters:  n_estimators - {estimators}, learning_rate - {rate}, max_depth - {depth}\")\n",
    "            mod   = GradientBoostingRegressor(n_estimators=estimators, learning_rate=rate, max_depth=depth)\n",
    "            pipe  = make_pipeline(ce.TargetEncoder(), mod)\n",
    "            pipe.fit(X_train, y_train)\n",
    "            training_score = pipe.score(X_train, y_train)\n",
    "            val_score = pipe.score(X_val, y_val)\n",
    "            print(f\"Training score: {training_score}.\\nOut-of-sample score: {val_score}.\\nScore difference: {training_score - val_score}\\n\\n\")"
   ]
  },
  {
   "cell_type": "code",
   "execution_count": 116,
   "metadata": {},
   "outputs": [],
   "source": [
    "# best settings are:\n",
    "# n_estimators - 500\n",
    "# learning_rate - 0.2\n",
    "# max_depth - 6\n",
    "\n",
    "mod   = GradientBoostingRegressor(n_estimators=500, learning_rate=0.2, max_depth=6)\n",
    "pipe  = make_pipeline(ce.TargetEncoder(), mod)\n",
    "\n",
    "# KFold validation\n",
    "\n",
    "TimeSplitter = TimeSeriesSplit(n_splits=10)\n",
    "\n",
    "scores = cross_val_score(estimator=pipe, X=X_train, y=y_train, cv=TimeSplitter)"
   ]
  },
  {
   "cell_type": "code",
   "execution_count": 117,
   "metadata": {},
   "outputs": [
    {
     "data": {
      "text/plain": [
       "array([0.63959028, 0.73425826, 0.82894208, 0.84707057, 0.8743428 ,\n",
       "       0.86480393, 0.76913621, 0.69433203, 0.8098736 , 0.8645033 ])"
      ]
     },
     "execution_count": 117,
     "metadata": {},
     "output_type": "execute_result"
    }
   ],
   "source": [
    "scores"
   ]
  },
  {
   "cell_type": "code",
   "execution_count": 118,
   "metadata": {},
   "outputs": [
    {
     "data": {
      "text/plain": [
       "0.7926853052239933"
      ]
     },
     "execution_count": 118,
     "metadata": {},
     "output_type": "execute_result"
    }
   ],
   "source": [
    "scores.mean()"
   ]
  },
  {
   "cell_type": "code",
   "execution_count": 123,
   "metadata": {},
   "outputs": [
    {
     "data": {
      "text/plain": [
       "0.8610761720504639"
      ]
     },
     "execution_count": 123,
     "metadata": {},
     "output_type": "execute_result"
    }
   ],
   "source": [
    "mod   = GradientBoostingRegressor(n_estimators=500, learning_rate=0.2, max_depth=6)\n",
    "pipe  = make_pipeline(ce.TargetEncoder(), mod)\n",
    "\n",
    "# create training & test sets\n",
    "train, test = create_val_splits(df)\n",
    "\n",
    "# split into X & y\n",
    "X_train, y_train = train.drop('count', axis=1), train['count']\n",
    "X_test, y_test   = test.drop('count', axis=1), test['count']\n",
    "\n",
    "pipe.fit(X_train, y_train)\n",
    "\n",
    "pipe.score(X_test, y_test)"
   ]
  },
  {
   "cell_type": "code",
   "execution_count": null,
   "metadata": {},
   "outputs": [],
   "source": []
  },
  {
   "cell_type": "code",
   "execution_count": null,
   "metadata": {},
   "outputs": [],
   "source": []
  },
  {
   "cell_type": "code",
   "execution_count": null,
   "metadata": {},
   "outputs": [],
   "source": []
  },
  {
   "cell_type": "code",
   "execution_count": null,
   "metadata": {},
   "outputs": [],
   "source": []
  },
  {
   "cell_type": "code",
   "execution_count": null,
   "metadata": {},
   "outputs": [],
   "source": []
  },
  {
   "cell_type": "code",
   "execution_count": null,
   "metadata": {},
   "outputs": [],
   "source": []
  },
  {
   "cell_type": "code",
   "execution_count": null,
   "metadata": {},
   "outputs": [],
   "source": []
  },
  {
   "cell_type": "code",
   "execution_count": null,
   "metadata": {},
   "outputs": [],
   "source": []
  },
  {
   "cell_type": "code",
   "execution_count": null,
   "metadata": {},
   "outputs": [],
   "source": []
  },
  {
   "cell_type": "code",
   "execution_count": null,
   "metadata": {},
   "outputs": [],
   "source": []
  },
  {
   "cell_type": "code",
   "execution_count": null,
   "metadata": {},
   "outputs": [],
   "source": []
  },
  {
   "cell_type": "markdown",
   "metadata": {},
   "source": [
    "### Define Functions\n",
    "\n",
    "__create_val_splits__ - Similar function from class to split dataset into training, val, and test sets.  One change: User can specify percent size for the validation & test split, rather than having to specify an integer\n",
    "\n",
    "__denote_null_values__ - Same function from class\n",
    "\n",
    "__fit_and_score__ - Since I'll be fitting & scoring a lot, I put these into a function to make it quicker to call. Also has the ability to show a Feature Importance table"
   ]
  },
  {
   "cell_type": "code",
   "execution_count": 355,
   "metadata": {},
   "outputs": [],
   "source": [
    "def create_val_splits(df, val_percent=.1, return_val=False):\n",
    "    # Function that will take in a dataset and split it up into training, validation, and test sets\n",
    "    # split into training, validation, and test sets\n",
    "    df = df.drop('datetime', axis=1)\n",
    "    split_size = int(len(df.index) * val_percent)\n",
    "    \n",
    "    train = df.iloc[:-split_size].copy().reset_index(drop=True)\n",
    "    test  = df.iloc[-split_size:].copy().reset_index(drop=True)\n",
    "\n",
    "    if return_val:\n",
    "        train = train.iloc[:-split_size].copy().reset_index(drop=True)\n",
    "        val   = train.iloc[-split_size:].copy().reset_index(drop=True)\n",
    "        return train, val, test\n",
    "    else:\n",
    "        return train, test\n",
    "    \n",
    "    \n",
    "def denote_null_values(df):\n",
    "    \"\"\"Denotes whether or not there are null values or not\"\"\"\n",
    "    empty_cols_query = df.isnull().sum() > 0\n",
    "    empty_df_cols = df.loc[:, empty_cols_query].columns.tolist()\n",
    "    for col in empty_df_cols:\n",
    "        col_name = f\"{col}_missing\"\n",
    "        df[col_name] = pd.isnull(df[col])\n",
    "    return df\n",
    "\n",
    "\n",
    "def fit_and_score(df, show_training_score=False, show_feature_importance=False):\n",
    "    pipe = make_pipeline(ce.TargetEncoder(), GradientBoostingRegressor())\n",
    "    train, val, test = create_val_splits(df, return_val=True)\n",
    "\n",
    "    # split into X & y\n",
    "    X_train, y_train = train.drop('count', axis=1), train['count']\n",
    "    X_val, y_val = val.drop('count', axis=1), val['count']\n",
    "\n",
    "    # fit & score\n",
    "    pipe.fit(X_train, y_train)\n",
    "    \n",
    "    if show_training_score:\n",
    "        print(f'Training Set Score: {pipe.score(X_train, y_train)}')\n",
    "    \n",
    "    print(f'Validation Set Score: {pipe.score(X_val, y_val)}')\n",
    "    \n",
    "    if show_feature_importance:\n",
    "        feats = pd.DataFrame({\n",
    "            'Columns': X_train.columns,\n",
    "            'Importance': pipe[1].feature_importances_\n",
    "        }).sort_values(by='Importance', ascending=False)\n",
    "\n",
    "        print(f'\\nFeature Importance:\\n{feats}')\n"
   ]
  },
  {
   "cell_type": "code",
   "execution_count": 272,
   "metadata": {
    "scrolled": true
   },
   "outputs": [
    {
     "name": "stdout",
     "output_type": "stream",
     "text": [
      "Validation Set Score: 0.3150735578958531\n",
      "\n",
      "Feature Importance:\n",
      "      Columns  Importance\n",
      "5       atemp    0.425596\n",
      "6    humidity    0.335576\n",
      "4        temp    0.126648\n",
      "0      season    0.048030\n",
      "2  workingday    0.034379\n",
      "7   windspeed    0.021627\n",
      "3     weather    0.006480\n",
      "1     holiday    0.001664\n"
     ]
    }
   ],
   "source": [
    "# initial model fitting to see where we're starting\n",
    "fit_and_score(df, show_feature_importance=True)"
   ]
  },
  {
   "cell_type": "markdown",
   "metadata": {},
   "source": [
    "## Exploratory Data Analysis"
   ]
  },
  {
   "cell_type": "markdown",
   "metadata": {},
   "source": [
    "### Do we have missing data?\n",
    "Yes. In addition to only have data for the first 19 days of each month, many days are missing a couple of entries."
   ]
  },
  {
   "cell_type": "code",
   "execution_count": 297,
   "metadata": {},
   "outputs": [
    {
     "name": "stdout",
     "output_type": "stream",
     "text": [
      "datetime  datetime  datetime\n",
      "2011      1         1           24\n",
      "                    2           23\n",
      "                    3           22\n",
      "                    4           23\n",
      "                    5           23\n",
      "                    6           23\n",
      "                    7           23\n",
      "                    8           24\n",
      "                    9           24\n",
      "                    10          24\n",
      "                    11          22\n",
      "                    12          22\n",
      "                    13          24\n",
      "                    14          23\n",
      "                    15          24\n",
      "                    16          24\n",
      "                    17          24\n",
      "                    18          12\n",
      "                    19          23\n",
      "          2         1           23\n",
      "                    2           24\n",
      "                    3           23\n",
      "                    4           23\n",
      "                    5           24\n",
      "                    6           24\n",
      "                    7           24\n",
      "                    8           24\n",
      "                    9           23\n",
      "                    10          23\n",
      "                    11          22\n",
      "                    12          24\n",
      "                    13          23\n",
      "                    14          24\n",
      "                    15          23\n",
      "                    16          23\n",
      "                    17          24\n",
      "                    18          24\n",
      "                    19          24\n",
      "          3         1           24\n",
      "                    2           24\n",
      "                    3           24\n",
      "                    4           24\n",
      "                    5           24\n",
      "                    6           23\n",
      "                    7           23\n",
      "                    8           24\n",
      "                    9           24\n",
      "                    10          22\n",
      "                    11          23\n",
      "                    12          24\n",
      "                    13          23\n",
      "                    14          23\n",
      "                    15          23\n",
      "                    16          23\n",
      "                    17          24\n",
      "                    18          23\n",
      "                    19          24\n",
      "          4         1           24\n",
      "                    2           24\n",
      "                    3           24\n",
      "                    4           24\n",
      "                    5           24\n",
      "                    6           24\n",
      "                    7           24\n",
      "                    8           24\n",
      "                    9           24\n",
      "                    10          24\n",
      "                    11          23\n",
      "                    12          24\n",
      "                    13          24\n",
      "                    14          24\n",
      "                    15          24\n",
      "                    16          24\n",
      "                    17          24\n",
      "                    18          24\n",
      "                    19          24\n",
      "          5         1           24\n",
      "                    2           24\n",
      "                    3           24\n",
      "                    4           24\n",
      "                    5           24\n",
      "                    6           24\n",
      "                    7           24\n",
      "                    8           24\n",
      "                    9           24\n",
      "                    10          24\n",
      "                    11          24\n",
      "                    12          24\n",
      "                    13          24\n",
      "                    14          24\n",
      "                    15          24\n",
      "                    16          24\n",
      "                    17          24\n",
      "                    18          24\n",
      "                    19          24\n",
      "          6         1           24\n",
      "                    2           24\n",
      "                    3           24\n",
      "                    4           24\n",
      "                    5           24\n",
      "                    6           24\n",
      "                    7           24\n",
      "                    8           24\n",
      "                    9           24\n",
      "                    10          24\n",
      "                    11          24\n",
      "                    12          24\n",
      "                    13          24\n",
      "                    14          24\n",
      "                    15          24\n",
      "                    16          24\n",
      "                    17          24\n",
      "                    18          24\n",
      "                    19          24\n",
      "          7         1           24\n",
      "                    2           24\n",
      "                    3           24\n",
      "                    4           24\n",
      "                    5           24\n",
      "                    6           24\n",
      "                    7           24\n",
      "                    8           24\n",
      "                    9           24\n",
      "                    10          24\n",
      "                    11          24\n",
      "                    12          24\n",
      "                    13          24\n",
      "                    14          24\n",
      "                    15          24\n",
      "                    16          24\n",
      "                    17          24\n",
      "                    18          24\n",
      "                    19          24\n",
      "          8         1           24\n",
      "                    2           24\n",
      "                    3           24\n",
      "                    4           24\n",
      "                    5           24\n",
      "                    6           24\n",
      "                    7           24\n",
      "                    8           24\n",
      "                    9           24\n",
      "                    10          24\n",
      "                    11          24\n",
      "                    12          24\n",
      "                    13          24\n",
      "                    14          24\n",
      "                    15          24\n",
      "                    16          24\n",
      "                    17          24\n",
      "                    18          24\n",
      "                    19          24\n",
      "          9         1           24\n",
      "                    2           24\n",
      "                    3           24\n",
      "                    4           24\n",
      "                    5           24\n",
      "                    6           23\n",
      "                    7           24\n",
      "                    8           23\n",
      "                    9           24\n",
      "                    10          24\n",
      "                    11          24\n",
      "                    12          23\n",
      "                    13          24\n",
      "                    14          24\n",
      "                    15          24\n",
      "                    16          24\n",
      "                    17          24\n",
      "                    18          24\n",
      "                    19          24\n",
      "          10        1           24\n",
      "                    2           24\n",
      "                    3           24\n",
      "                    4           24\n",
      "                    5           24\n",
      "                    6           24\n",
      "                    7           24\n",
      "                    8           24\n",
      "                    9           24\n",
      "                    10          24\n",
      "                    11          24\n",
      "                    12          24\n",
      "                    13          24\n",
      "                    14          24\n",
      "                    15          24\n",
      "                    16          24\n",
      "                    17          24\n",
      "                    18          24\n",
      "                    19          23\n",
      "          11        1           24\n",
      "                    2           24\n",
      "                    3           24\n",
      "                    4           24\n",
      "                    5           24\n",
      "                    6           24\n",
      "                    7           24\n",
      "                    8           24\n",
      "                    9           24\n",
      "                    10          24\n",
      "                    11          24\n",
      "                    12          24\n",
      "                    13          24\n",
      "                    14          24\n",
      "                    15          24\n",
      "                    16          24\n",
      "                    17          24\n",
      "                    18          24\n",
      "                    19          24\n",
      "          12        1           24\n",
      "                    2           24\n",
      "                    3           24\n",
      "                    4           24\n",
      "                    5           24\n",
      "                    6           24\n",
      "                    7           24\n",
      "                    8           24\n",
      "                    9           24\n",
      "                    10          24\n",
      "                    11          24\n",
      "                    12          24\n",
      "                    13          24\n",
      "                    14          24\n",
      "                    15          24\n",
      "                    16          24\n",
      "                    17          24\n",
      "                    18          24\n",
      "                    19          24\n",
      "2012      1         1           24\n",
      "                    2           23\n",
      "                    3           24\n",
      "                    4           24\n",
      "                    5           24\n",
      "                    6           24\n",
      "                    7           24\n",
      "                    8           24\n",
      "                    9           24\n",
      "                    10          23\n",
      "                    11          24\n",
      "                    12          24\n",
      "                    13          24\n",
      "                    14          24\n",
      "                    15          24\n",
      "                    16          24\n",
      "                    17          23\n",
      "                    18          24\n",
      "                    19          24\n",
      "          2         1           24\n",
      "                    2           24\n",
      "                    3           24\n",
      "                    4           24\n",
      "                    5           24\n",
      "                    6           23\n",
      "                    7           24\n",
      "                    8           24\n",
      "                    9           24\n",
      "                    10          24\n",
      "                    11          24\n",
      "                    12          24\n",
      "                    13          24\n",
      "                    14          24\n",
      "                    15          24\n",
      "                    16          24\n",
      "                    17          24\n",
      "                    18          24\n",
      "                    19          24\n",
      "          3         1           24\n",
      "                    2           24\n",
      "                    3           24\n",
      "                    4           24\n",
      "                    5           24\n",
      "                    6           24\n",
      "                    7           24\n",
      "                    8           24\n",
      "                    9           24\n",
      "                    10          24\n",
      "                    11          23\n",
      "                    12          24\n",
      "                    13          24\n",
      "                    14          24\n",
      "                    15          24\n",
      "                    16          24\n",
      "                    17          24\n",
      "                    18          24\n",
      "                    19          24\n",
      "          4         1           24\n",
      "                    2           23\n",
      "                    3           24\n",
      "                    4           24\n",
      "                    5           24\n",
      "                    6           24\n",
      "                    7           24\n",
      "                    8           24\n",
      "                    9           24\n",
      "                    10          24\n",
      "                    11          23\n",
      "                    12          24\n",
      "                    13          24\n",
      "                    14          24\n",
      "                    15          24\n",
      "                    16          24\n",
      "                    17          24\n",
      "                    18          24\n",
      "                    19          24\n",
      "          5         1           24\n",
      "                    2           24\n",
      "                    3           24\n",
      "                    4           24\n",
      "                    5           24\n",
      "                    6           24\n",
      "                    7           24\n",
      "                    8           24\n",
      "                    9           24\n",
      "                    10          24\n",
      "                    11          24\n",
      "                    12          24\n",
      "                    13          24\n",
      "                    14          24\n",
      "                    15          24\n",
      "                    16          24\n",
      "                    17          24\n",
      "                    18          24\n",
      "                    19          24\n",
      "          6         1           24\n",
      "                    2           24\n",
      "                    3           24\n",
      "                    4           24\n",
      "                    5           24\n",
      "                    6           24\n",
      "                    7           24\n",
      "                    8           24\n",
      "                    9           24\n",
      "                    10          24\n",
      "                    11          24\n",
      "                    12          24\n",
      "                    13          24\n",
      "                    14          24\n",
      "                    15          24\n",
      "                    16          24\n",
      "                    17          24\n",
      "                    18          24\n",
      "                    19          24\n",
      "          7         1           24\n",
      "                    2           24\n",
      "                    3           24\n",
      "                    4           24\n",
      "                    5           24\n",
      "                    6           24\n",
      "                    7           24\n",
      "                    8           24\n",
      "                    9           24\n",
      "                    10          24\n",
      "                    11          24\n",
      "                    12          24\n",
      "                    13          24\n",
      "                    14          24\n",
      "                    15          24\n",
      "                    16          24\n",
      "                    17          24\n",
      "                    18          24\n",
      "                    19          24\n",
      "          8         1           24\n",
      "                    2           24\n",
      "                    3           24\n",
      "                    4           24\n",
      "                    5           24\n",
      "                    6           24\n",
      "                    7           24\n",
      "                    8           24\n",
      "                    9           24\n",
      "                    10          24\n",
      "                    11          24\n",
      "                    12          24\n",
      "                    13          24\n",
      "                    14          24\n",
      "                    15          24\n",
      "                    16          24\n",
      "                    17          24\n",
      "                    18          24\n",
      "                    19          24\n",
      "          9         1           24\n",
      "                    2           24\n",
      "                    3           24\n",
      "                    4           24\n",
      "                    5           24\n",
      "                    6           24\n",
      "                    7           24\n",
      "                    8           24\n",
      "                    9           24\n",
      "                    10          24\n",
      "                    11          24\n",
      "                    12          24\n",
      "                    13          24\n",
      "                    14          24\n",
      "                    15          24\n",
      "                    16          24\n",
      "                    17          24\n",
      "                    18          24\n",
      "                    19          24\n",
      "          10        1           24\n",
      "                    2           24\n",
      "                    3           24\n",
      "                    4           24\n",
      "                    5           24\n",
      "                    6           24\n",
      "                    7           24\n",
      "                    8           24\n",
      "                    9           24\n",
      "                    10          24\n",
      "                    11          24\n",
      "                    12          24\n",
      "                    13          24\n",
      "                    14          24\n",
      "                    15          24\n",
      "                    16          24\n",
      "                    17          24\n",
      "                    18          24\n",
      "                    19          24\n",
      "          11        1           24\n",
      "                    2           24\n",
      "                    3           24\n",
      "                    4           24\n",
      "                    5           24\n",
      "                    6           24\n",
      "                    7           24\n",
      "                    8           23\n",
      "                    9           24\n",
      "                    10          24\n",
      "                    11          24\n",
      "                    12          24\n",
      "                    13          24\n",
      "                    14          24\n",
      "                    15          24\n",
      "                    16          24\n",
      "                    17          24\n",
      "                    18          24\n",
      "                    19          24\n",
      "          12        1           24\n",
      "                    2           24\n",
      "                    3           24\n",
      "                    4           24\n",
      "                    5           24\n",
      "                    6           24\n",
      "                    7           24\n",
      "                    8           24\n",
      "                    9           24\n",
      "                    10          24\n",
      "                    11          24\n",
      "                    12          24\n",
      "                    13          24\n",
      "                    14          24\n",
      "                    15          24\n",
      "                    16          24\n",
      "                    17          24\n",
      "                    18          24\n",
      "                    19          24\n",
      "Name: count, dtype: int64\n"
     ]
    }
   ],
   "source": [
    "count_by_day = df.groupby([df['datetime'].dt.year, df['datetime'].dt.month, df['datetime'].dt.day])['count'].count()\n",
    "\n",
    "with pd.option_context('display.max_rows', None, 'display.max_columns', None):\n",
    "    print(count_by_day)"
   ]
  },
  {
   "cell_type": "code",
   "execution_count": 356,
   "metadata": {
    "scrolled": true
   },
   "outputs": [
    {
     "name": "stdout",
     "output_type": "stream",
     "text": [
      "Validation Set Score: -74.99556090208911\n",
      "\n",
      "Feature Importance:\n",
      "         Columns  Importance\n",
      "4           temp    0.288723\n",
      "11         month    0.198400\n",
      "5          atemp    0.123168\n",
      "6       humidity    0.102170\n",
      "10  day_of_month    0.085599\n",
      "0         season    0.079593\n",
      "9    day_of_week    0.044977\n",
      "7      windspeed    0.029627\n",
      "8    hour_of_day    0.025554\n",
      "2     workingday    0.012283\n",
      "3        weather    0.006281\n",
      "1        holiday    0.003625\n"
     ]
    }
   ],
   "source": [
    "# Let's add a bunch of basic date/time columns to see if they will improve the score\n",
    "\n",
    "# Add column for hour of day\n",
    "df['hour_of_day'] = df['datetime'].dt.hour\n",
    "\n",
    "# Add column for day of week\n",
    "df['day_of_week'] = df['datetime'].dt.dayofweek\n",
    "\n",
    "# Add column for day of month\n",
    "df['day_of_month'] = df['datetime'].dt.day\n",
    "\n",
    "# Add column for month\n",
    "df['month'] = df['datetime'].dt.month\n",
    "\n",
    "# fit and score again\n",
    "fit_and_score(df, show_feature_importance=True)"
   ]
  },
  {
   "cell_type": "markdown",
   "metadata": {},
   "source": [
    "### Do rentals go up during certain times of the day, like rush hour?"
   ]
  },
  {
   "cell_type": "code",
   "execution_count": 284,
   "metadata": {},
   "outputs": [
    {
     "data": {
      "text/plain": [
       "hour_of_day\n",
       "0      55.138462\n",
       "1      33.859031\n",
       "2      22.899554\n",
       "3      11.757506\n",
       "4       6.407240\n",
       "5      19.767699\n",
       "6      76.259341\n",
       "7     213.116484\n",
       "8     362.769231\n",
       "9     221.780220\n",
       "10    175.092308\n",
       "11    210.674725\n",
       "12    256.508772\n",
       "13    257.787281\n",
       "14    243.442982\n",
       "15    254.298246\n",
       "16    316.372807\n",
       "17    468.765351\n",
       "18    430.859649\n",
       "19    315.278509\n",
       "20    228.517544\n",
       "21    173.370614\n",
       "22    133.576754\n",
       "23     89.508772\n",
       "Name: count, dtype: float64"
      ]
     },
     "execution_count": 284,
     "metadata": {},
     "output_type": "execute_result"
    }
   ],
   "source": [
    "df.groupby([df['hour_of_day']])['count'].mean()"
   ]
  },
  {
   "cell_type": "code",
   "execution_count": 285,
   "metadata": {},
   "outputs": [
    {
     "name": "stdout",
     "output_type": "stream",
     "text": [
      "Validation Set Score: 0.799232502196229\n"
     ]
    }
   ],
   "source": [
    "# Looks like rush hour is relevant so we'll add a column for that\n",
    "df['rush_hour'] = 0\n",
    "\n",
    "df.loc[(df['hour_of_day'] >= 7) & (df['hour_of_day'] <= 9), 'rush_hour'] = 1\n",
    "df.loc[(df['hour_of_day'] >= 17) & (df['hour_of_day'] <= 19), 'rush_hour'] = 1\n",
    "\n",
    "# fit and score again\n",
    "fit_and_score(df)"
   ]
  },
  {
   "cell_type": "markdown",
   "metadata": {},
   "source": [
    "### How does the history of rentals at this location impact future rentals?"
   ]
  },
  {
   "cell_type": "code",
   "execution_count": 305,
   "metadata": {},
   "outputs": [
    {
     "data": {
      "text/plain": [
       "\"\\ntmp_previous_hour_count = []\\n\\nfor i, row in df.iterrows():    \\n    if (row['datetime'] - timedelta(hours=1) == df.iloc[i-1]['datetime']):\\n        tmp_previous_hour_count.append(df.iloc[i-1]['count'])\\n    else:\\n        tmp_previous_hour_count.append(np.nan)\\n\\n            \\ndf['previous_hour_count'] = tmp_previous_hour_count\\n\\ndf = denote_null_values(df)\\ndf = df.fillna(0)\\nfit_and_score(df, show_training_score=True)\\n\\n\""
      ]
     },
     "execution_count": 305,
     "metadata": {},
     "output_type": "execute_result"
    }
   ],
   "source": [
    "# Feels like cheating to use the previous hour's rental count. It seems pretty unlikely that\n",
    "# a real-world use case would have the previous hour's rental count available for modeling. \n",
    "# I wrote this but am not including it.\n",
    "\n",
    "# In order to create a column with the previous hour's rental count, we have to check\n",
    "# if the previous row is actually the previous hour.\n",
    "\n",
    "\"\"\"\n",
    "tmp_previous_hour_count = []\n",
    "\n",
    "for i, row in df.iterrows():    \n",
    "    if (row['datetime'] - timedelta(hours=1) == df.iloc[i-1]['datetime']):\n",
    "        tmp_previous_hour_count.append(df.iloc[i-1]['count'])\n",
    "    else:\n",
    "        tmp_previous_hour_count.append(np.nan)\n",
    "\n",
    "            \n",
    "df['previous_hour_count'] = tmp_previous_hour_count\n",
    "\n",
    "df = denote_null_values(df)\n",
    "df = df.fillna(0)\n",
    "fit_and_score(df, show_training_score=True)\n",
    "\n",
    "\"\"\""
   ]
  },
  {
   "cell_type": "code",
   "execution_count": null,
   "metadata": {},
   "outputs": [],
   "source": [
    "# In real world use, we likely won't have the previous hour's rental count.\n",
    "# Instead, we have this option to look at the rental count for the same hour from the \n",
    "# previous day and previous week\n",
    "\n",
    "# There's probably a more effecient way to do this....\n",
    "\n",
    "tmp_previous_day_count = []\n",
    "tmp_previous_week_count = []\n",
    "\n",
    "for i, row in df.iterrows():\n",
    "    \n",
    "    previous_day = row['datetime'] - timedelta(days=1)\n",
    "    previous_week = row['datetime'] - timedelta(days=7)\n",
    "    \n",
    "    if previous_day in df['datetime'].values: \n",
    "        tmp_previous_day_count.append(df.loc[df['datetime'] == previous_day]['count'].values[0])\n",
    "    else:\n",
    "        tmp_previous_day_count.append(np.nan)\n",
    "        \n",
    "    if previous_week in df['datetime'].values: \n",
    "        tmp_previous_week_count.append(df.loc[df['datetime'] == previous_week]['count'].values[0])\n",
    "    else:\n",
    "        tmp_previous_week_count.append(np.nan)\n",
    "\n",
    "df['previous_day_count'] = tmp_previous_day_count\n",
    "df['previous_week_count'] = tmp_previous_week_count"
   ]
  },
  {
   "cell_type": "code",
   "execution_count": 383,
   "metadata": {},
   "outputs": [],
   "source": []
  },
  {
   "cell_type": "code",
   "execution_count": 384,
   "metadata": {},
   "outputs": [],
   "source": []
  },
  {
   "cell_type": "markdown",
   "metadata": {},
   "source": [
    "### How does weather impact rentals?"
   ]
  },
  {
   "cell_type": "code",
   "execution_count": 278,
   "metadata": {},
   "outputs": [
    {
     "data": {
      "text/plain": [
       "atemp\n",
       "0.760000       1.000000\n",
       "1.515000       3.000000\n",
       "2.275000      38.000000\n",
       "3.030000      82.285714\n",
       "3.790000      39.062500\n",
       "4.545000      66.090909\n",
       "5.305000      63.200000\n",
       "6.060000      64.876712\n",
       "6.820000      56.380952\n",
       "7.575000      55.933333\n",
       "8.335000      58.444444\n",
       "9.090000      80.000000\n",
       "9.850000      81.456693\n",
       "10.605000     95.951807\n",
       "11.365000     90.442804\n",
       "12.120000    102.656410\n",
       "12.880000     89.518219\n",
       "13.635000     94.308017\n",
       "14.395000    116.483271\n",
       "15.150000    133.967456\n",
       "15.910000    133.897638\n",
       "16.665001    148.509186\n",
       "17.424999    147.799363\n",
       "18.180000    133.585366\n",
       "18.940001    149.555556\n",
       "19.695000    179.682353\n",
       "20.455000    170.217500\n",
       "21.209999    182.609551\n",
       "21.969999    160.878049\n",
       "22.725000    159.692118\n",
       "23.485001    185.058824\n",
       "24.240000    204.672783\n",
       "25.000000    195.109589\n",
       "25.760000    179.626478\n",
       "26.514999    212.392405\n",
       "27.275000    200.503546\n",
       "28.030001    133.312500\n",
       "28.790001    142.771429\n",
       "29.545000    151.046693\n",
       "30.305000    227.291429\n",
       "31.059999    308.323398\n",
       "31.820000    258.655518\n",
       "32.575001    331.746324\n",
       "33.334999    244.107143\n",
       "34.090000    295.183036\n",
       "34.849998    277.448763\n",
       "35.605000    312.144654\n",
       "36.365002    349.243902\n",
       "37.119999    334.144068\n",
       "37.880001    351.835052\n",
       "38.634998    335.783784\n",
       "39.395000    319.194030\n",
       "40.150002    369.577778\n",
       "40.910000    324.512821\n",
       "41.665001    281.434783\n",
       "42.424999    301.958333\n",
       "43.180000    307.142857\n",
       "43.939999    215.428571\n",
       "44.695000    354.333333\n",
       "45.455002    312.000000\n",
       "Name: count, dtype: float64"
      ]
     },
     "execution_count": 278,
     "metadata": {},
     "output_type": "execute_result"
    }
   ],
   "source": [
    "# How does atemp impact rentals\n",
    "\n",
    "df.groupby(['atemp'])['count'].mean()"
   ]
  },
  {
   "cell_type": "code",
   "execution_count": 303,
   "metadata": {},
   "outputs": [
    {
     "data": {
      "text/html": [
       "<div>\n",
       "<style scoped>\n",
       "    .dataframe tbody tr th:only-of-type {\n",
       "        vertical-align: middle;\n",
       "    }\n",
       "\n",
       "    .dataframe tbody tr th {\n",
       "        vertical-align: top;\n",
       "    }\n",
       "\n",
       "    .dataframe thead th {\n",
       "        text-align: right;\n",
       "    }\n",
       "</style>\n",
       "<table border=\"1\" class=\"dataframe\">\n",
       "  <thead>\n",
       "    <tr style=\"text-align: right;\">\n",
       "      <th></th>\n",
       "      <th>count</th>\n",
       "      <th>mean</th>\n",
       "      <th>std</th>\n",
       "      <th>min</th>\n",
       "      <th>25%</th>\n",
       "      <th>50%</th>\n",
       "      <th>75%</th>\n",
       "      <th>max</th>\n",
       "    </tr>\n",
       "    <tr>\n",
       "      <th>season</th>\n",
       "      <th></th>\n",
       "      <th></th>\n",
       "      <th></th>\n",
       "      <th></th>\n",
       "      <th></th>\n",
       "      <th></th>\n",
       "      <th></th>\n",
       "      <th></th>\n",
       "    </tr>\n",
       "  </thead>\n",
       "  <tbody>\n",
       "    <tr>\n",
       "      <th>Fall</th>\n",
       "      <td>2733.0</td>\n",
       "      <td>234.417124</td>\n",
       "      <td>197.151001</td>\n",
       "      <td>1.0</td>\n",
       "      <td>68.0</td>\n",
       "      <td>195.0</td>\n",
       "      <td>347.0</td>\n",
       "      <td>977.0</td>\n",
       "    </tr>\n",
       "    <tr>\n",
       "      <th>Spring</th>\n",
       "      <td>2686.0</td>\n",
       "      <td>116.343261</td>\n",
       "      <td>125.273974</td>\n",
       "      <td>1.0</td>\n",
       "      <td>24.0</td>\n",
       "      <td>78.0</td>\n",
       "      <td>164.0</td>\n",
       "      <td>801.0</td>\n",
       "    </tr>\n",
       "    <tr>\n",
       "      <th>Summer</th>\n",
       "      <td>2733.0</td>\n",
       "      <td>215.251372</td>\n",
       "      <td>192.007843</td>\n",
       "      <td>1.0</td>\n",
       "      <td>49.0</td>\n",
       "      <td>172.0</td>\n",
       "      <td>321.0</td>\n",
       "      <td>873.0</td>\n",
       "    </tr>\n",
       "    <tr>\n",
       "      <th>Winter</th>\n",
       "      <td>2734.0</td>\n",
       "      <td>198.988296</td>\n",
       "      <td>177.622409</td>\n",
       "      <td>1.0</td>\n",
       "      <td>51.0</td>\n",
       "      <td>161.0</td>\n",
       "      <td>294.0</td>\n",
       "      <td>948.0</td>\n",
       "    </tr>\n",
       "  </tbody>\n",
       "</table>\n",
       "</div>"
      ],
      "text/plain": [
       "         count        mean         std  min   25%    50%    75%    max\n",
       "season                                                                \n",
       "Fall    2733.0  234.417124  197.151001  1.0  68.0  195.0  347.0  977.0\n",
       "Spring  2686.0  116.343261  125.273974  1.0  24.0   78.0  164.0  801.0\n",
       "Summer  2733.0  215.251372  192.007843  1.0  49.0  172.0  321.0  873.0\n",
       "Winter  2734.0  198.988296  177.622409  1.0  51.0  161.0  294.0  948.0"
      ]
     },
     "execution_count": 303,
     "metadata": {},
     "output_type": "execute_result"
    }
   ],
   "source": [
    "# How does season impact rentals\n",
    "\n",
    "df.groupby(['season'])['count'].describe()"
   ]
  },
  {
   "cell_type": "code",
   "execution_count": 302,
   "metadata": {},
   "outputs": [
    {
     "data": {
      "text/html": [
       "<div>\n",
       "<style scoped>\n",
       "    .dataframe tbody tr th:only-of-type {\n",
       "        vertical-align: middle;\n",
       "    }\n",
       "\n",
       "    .dataframe tbody tr th {\n",
       "        vertical-align: top;\n",
       "    }\n",
       "\n",
       "    .dataframe thead th {\n",
       "        text-align: right;\n",
       "    }\n",
       "</style>\n",
       "<table border=\"1\" class=\"dataframe\">\n",
       "  <thead>\n",
       "    <tr style=\"text-align: right;\">\n",
       "      <th></th>\n",
       "      <th>count</th>\n",
       "      <th>mean</th>\n",
       "      <th>std</th>\n",
       "      <th>min</th>\n",
       "      <th>25%</th>\n",
       "      <th>50%</th>\n",
       "      <th>75%</th>\n",
       "      <th>max</th>\n",
       "    </tr>\n",
       "    <tr>\n",
       "      <th>weather</th>\n",
       "      <th></th>\n",
       "      <th></th>\n",
       "      <th></th>\n",
       "      <th></th>\n",
       "      <th></th>\n",
       "      <th></th>\n",
       "      <th></th>\n",
       "      <th></th>\n",
       "    </tr>\n",
       "  </thead>\n",
       "  <tbody>\n",
       "    <tr>\n",
       "      <th>Clear Skies</th>\n",
       "      <td>7192.0</td>\n",
       "      <td>205.236791</td>\n",
       "      <td>187.959566</td>\n",
       "      <td>1.0</td>\n",
       "      <td>48.0</td>\n",
       "      <td>161.0</td>\n",
       "      <td>305.0</td>\n",
       "      <td>977.0</td>\n",
       "    </tr>\n",
       "    <tr>\n",
       "      <th>Heavy Storms/Rain</th>\n",
       "      <td>1.0</td>\n",
       "      <td>164.000000</td>\n",
       "      <td>NaN</td>\n",
       "      <td>164.0</td>\n",
       "      <td>164.0</td>\n",
       "      <td>164.0</td>\n",
       "      <td>164.0</td>\n",
       "      <td>164.0</td>\n",
       "    </tr>\n",
       "    <tr>\n",
       "      <th>Light Storms/Rain</th>\n",
       "      <td>859.0</td>\n",
       "      <td>118.846333</td>\n",
       "      <td>138.581297</td>\n",
       "      <td>1.0</td>\n",
       "      <td>23.0</td>\n",
       "      <td>71.0</td>\n",
       "      <td>161.0</td>\n",
       "      <td>891.0</td>\n",
       "    </tr>\n",
       "    <tr>\n",
       "      <th>Partly Cloudy</th>\n",
       "      <td>2834.0</td>\n",
       "      <td>178.955540</td>\n",
       "      <td>168.366413</td>\n",
       "      <td>1.0</td>\n",
       "      <td>41.0</td>\n",
       "      <td>134.0</td>\n",
       "      <td>264.0</td>\n",
       "      <td>890.0</td>\n",
       "    </tr>\n",
       "  </tbody>\n",
       "</table>\n",
       "</div>"
      ],
      "text/plain": [
       "                    count        mean         std    min    25%    50%    75%  \\\n",
       "weather                                                                         \n",
       "Clear Skies        7192.0  205.236791  187.959566    1.0   48.0  161.0  305.0   \n",
       "Heavy Storms/Rain     1.0  164.000000         NaN  164.0  164.0  164.0  164.0   \n",
       "Light Storms/Rain   859.0  118.846333  138.581297    1.0   23.0   71.0  161.0   \n",
       "Partly Cloudy      2834.0  178.955540  168.366413    1.0   41.0  134.0  264.0   \n",
       "\n",
       "                     max  \n",
       "weather                   \n",
       "Clear Skies        977.0  \n",
       "Heavy Storms/Rain  164.0  \n",
       "Light Storms/Rain  891.0  \n",
       "Partly Cloudy      890.0  "
      ]
     },
     "execution_count": 302,
     "metadata": {},
     "output_type": "execute_result"
    }
   ],
   "source": [
    "# How does weather impact rentals\n",
    "\n",
    "df.groupby(['weather'])['count'].describe()"
   ]
  },
  {
   "cell_type": "code",
   "execution_count": 304,
   "metadata": {},
   "outputs": [],
   "source": [
    "# Aside from that one row for Heavy Storms, it does seem like storms will decrease rentals\n",
    "\n",
    "# Add column to flag whether the ride was during a storm or not\n",
    "df['is_storming'] = 0\n",
    "\n",
    "df.loc[df['weather'] == \"Light Storms/Rain\", 'is_storming'] = 1\n",
    "df.loc[df['weather'] == \"Heavy Storms/Rain\", 'is_storming'] = 1"
   ]
  },
  {
   "cell_type": "code",
   "execution_count": 288,
   "metadata": {},
   "outputs": [
    {
     "data": {
      "text/plain": [
       "windspeed\n",
       "0.000000     161.101295\n",
       "6.003200     147.864679\n",
       "7.001500     169.852031\n",
       "8.998100     175.645536\n",
       "11.001400    202.262062\n",
       "12.998000    202.249520\n",
       "15.001300    210.833507\n",
       "16.997900    214.847087\n",
       "19.001200    218.051775\n",
       "19.999500    225.235772\n",
       "22.002800    185.053763\n",
       "23.999399    220.010949\n",
       "26.002701    228.744681\n",
       "27.999300    219.363636\n",
       "30.002600    217.171171\n",
       "31.000900    208.955056\n",
       "32.997501    184.075000\n",
       "35.000801    230.155172\n",
       "36.997398    197.045455\n",
       "39.000702    176.888889\n",
       "40.997299    189.363636\n",
       "43.000599    137.916667\n",
       "43.998901    192.375000\n",
       "46.002201     67.333333\n",
       "47.998798    140.500000\n",
       "50.002102    171.000000\n",
       "51.998699      5.000000\n",
       "56.996899    269.500000\n",
       "Name: count, dtype: float64"
      ]
     },
     "execution_count": 288,
     "metadata": {},
     "output_type": "execute_result"
    }
   ],
   "source": [
    "# How does windspeed impact rentals\n",
    "\n",
    "df.groupby(['windspeed'])['count'].mean()"
   ]
  },
  {
   "cell_type": "code",
   "execution_count": null,
   "metadata": {},
   "outputs": [],
   "source": []
  },
  {
   "cell_type": "code",
   "execution_count": 240,
   "metadata": {},
   "outputs": [],
   "source": [
    "# In real world use, we likely won't have the previous hour's rental count\n",
    "# so we have this option to look at the rental count for the same hour from the \n",
    "# previous day and previous week\n",
    "\n",
    "# There's probably a more effecient way to do this....\n",
    "\n",
    "tmp_previous_day_count = []\n",
    "tmp_previous_week_count = []\n",
    "\n",
    "for i, row in df.iterrows():\n",
    "    \n",
    "    previous_day = row['datetime'] - timedelta(days=1)\n",
    "    previous_week = row['datetime'] - timedelta(days=7)\n",
    "    \n",
    "    if previous_day in df['datetime'].values: \n",
    "        tmp_previous_day_count.append(df.loc[df['datetime'] == previous_day]['count'].values[0])\n",
    "    else:\n",
    "        tmp_previous_day_count.append(np.nan)\n",
    "        \n",
    "    if previous_week in df['datetime'].values: \n",
    "        tmp_previous_week_count.append(df.loc[df['datetime'] == previous_week]['count'].values[0])\n",
    "    else:\n",
    "        tmp_previous_week_count.append(np.nan)\n",
    "\n",
    "df['previous_day_count'] = tmp_previous_day_count\n",
    "df['previous_week_count'] = tmp_previous_week_count"
   ]
  },
  {
   "cell_type": "code",
   "execution_count": 242,
   "metadata": {},
   "outputs": [
    {
     "name": "stdout",
     "output_type": "stream",
     "text": [
      "Training Set Score: 0.8749104152716035\n",
      "Validation Set Score: 0.8575537404314376\n",
      "\n",
      "Feature Importance:\n",
      "                        Columns  Importance\n",
      "13           previous_day_count    0.565241\n",
      "14          previous_week_count    0.139927\n",
      "8                   hour_of_day    0.121000\n",
      "5                         atemp    0.036642\n",
      "2                    workingday    0.030732\n",
      "12                    rush_hour    0.029629\n",
      "6                      humidity    0.019855\n",
      "3                       weather    0.018491\n",
      "10                 day_of_month    0.014303\n",
      "9                   day_of_week    0.012507\n",
      "4                          temp    0.009132\n",
      "7                     windspeed    0.001066\n",
      "11                        month    0.000893\n",
      "0                        season    0.000250\n",
      "15   previous_day_count_missing    0.000243\n",
      "1                       holiday    0.000088\n",
      "16  previous_week_count_missing    0.000000\n"
     ]
    }
   ],
   "source": [
    "# We'll stop here on feature engineering and check our scores and feature importance\n",
    "df = denote_null_values(df)\n",
    "df = df.fillna(0)\n",
    "\n",
    "fit_and_score(df, show_training_score=True, show_feature_importance=True)"
   ]
  },
  {
   "cell_type": "code",
   "execution_count": 243,
   "metadata": {},
   "outputs": [],
   "source": [
    "# Drop the columns that aren't helping\n",
    "# This list would be different if we included previous_hour_count in our modeling\n",
    "\n",
    "df.drop(['month', \n",
    "         'previous_day_count_missing',\n",
    "         'season', \n",
    "         'holiday', \n",
    "         'previous_week_count_missing'], axis=1, inplace=True)\n",
    "\n"
   ]
  },
  {
   "cell_type": "code",
   "execution_count": 244,
   "metadata": {},
   "outputs": [
    {
     "name": "stdout",
     "output_type": "stream",
     "text": [
      "Training Set Score: 0.8759040883351111\n",
      "Validation Set Score: 0.8586461505474074\n",
      "\n",
      "Feature Importance:\n",
      "                Columns  Importance\n",
      "10   previous_day_count    0.564280\n",
      "11  previous_week_count    0.140284\n",
      "6           hour_of_day    0.122178\n",
      "3                 atemp    0.038452\n",
      "0            workingday    0.032157\n",
      "9             rush_hour    0.029612\n",
      "4              humidity    0.019613\n",
      "1               weather    0.018660\n",
      "8          day_of_month    0.013369\n",
      "7           day_of_week    0.011791\n",
      "2                  temp    0.008613\n",
      "5             windspeed    0.000989\n"
     ]
    }
   ],
   "source": [
    "# We'll stop here on feature engineering and check our scores and feature importance\n",
    "df = denote_null_values(df)\n",
    "df = df.fillna(0)\n",
    "\n",
    "fit_and_score(df, show_training_score=True, show_feature_importance=True)"
   ]
  },
  {
   "cell_type": "code",
   "execution_count": 245,
   "metadata": {},
   "outputs": [
    {
     "name": "stdout",
     "output_type": "stream",
     "text": [
      "Fitting model with parameters:  n_estimators - 100, learning_rate - 0.05, max_depth - 3\n",
      "Training score: 0.8524796442662717.  Out-of-sample score: 0.8244698015540509. Score difference: 0.028009842712220734\n",
      "\n",
      "Fitting model with parameters:  n_estimators - 100, learning_rate - 0.05, max_depth - 4\n",
      "Training score: 0.8888918089410122.  Out-of-sample score: 0.8747206188472126. Score difference: 0.014171190093799524\n",
      "\n",
      "Fitting model with parameters:  n_estimators - 100, learning_rate - 0.05, max_depth - 5\n",
      "Training score: 0.9177031482658777.  Out-of-sample score: 0.9134335542027598. Score difference: 0.0042695940631178875\n",
      "\n",
      "Fitting model with parameters:  n_estimators - 100, learning_rate - 0.05, max_depth - 6\n",
      "Training score: 0.9395834060496114.  Out-of-sample score: 0.9417495028838953. Score difference: -0.002166096834283815\n",
      "\n",
      "Fitting model with parameters:  n_estimators - 100, learning_rate - 0.1, max_depth - 3\n",
      "Training score: 0.8759040883351111.  Out-of-sample score: 0.8586461505474074. Score difference: 0.01725793778770368\n",
      "\n",
      "Fitting model with parameters:  n_estimators - 100, learning_rate - 0.1, max_depth - 4\n",
      "Training score: 0.9148205617298281.  Out-of-sample score: 0.9101135649359938. Score difference: 0.004706996793834239\n",
      "\n",
      "Fitting model with parameters:  n_estimators - 100, learning_rate - 0.1, max_depth - 5\n",
      "Training score: 0.9421619696542627.  Out-of-sample score: 0.948799767741925. Score difference: -0.006637798087662294\n",
      "\n",
      "Fitting model with parameters:  n_estimators - 100, learning_rate - 0.1, max_depth - 6\n",
      "Training score: 0.9589782115296365.  Out-of-sample score: 0.965311565399543. Score difference: -0.006333353869906522\n",
      "\n",
      "Fitting model with parameters:  n_estimators - 100, learning_rate - 0.2, max_depth - 3\n",
      "Training score: 0.8993402589009365.  Out-of-sample score: 0.8946636944086163. Score difference: 0.004676564492320234\n",
      "\n",
      "Fitting model with parameters:  n_estimators - 100, learning_rate - 0.2, max_depth - 4\n",
      "Training score: 0.9365550723044436.  Out-of-sample score: 0.941647598341883. Score difference: -0.005092526037439482\n",
      "\n",
      "Fitting model with parameters:  n_estimators - 100, learning_rate - 0.2, max_depth - 5\n",
      "Training score: 0.9563431838159815.  Out-of-sample score: 0.9646376829467134. Score difference: -0.00829449913073188\n",
      "\n",
      "Fitting model with parameters:  n_estimators - 100, learning_rate - 0.2, max_depth - 6\n",
      "Training score: 0.9753384787633704.  Out-of-sample score: 0.9841352809186205. Score difference: -0.008796802155250028\n",
      "\n",
      "Fitting model with parameters:  n_estimators - 250, learning_rate - 0.05, max_depth - 3\n",
      "Training score: 0.8822708344266696.  Out-of-sample score: 0.8663627711479522. Score difference: 0.01590806327871741\n",
      "\n",
      "Fitting model with parameters:  n_estimators - 250, learning_rate - 0.05, max_depth - 4\n",
      "Training score: 0.9240107758868904.  Out-of-sample score: 0.9236105936455457. Score difference: 0.00040018224134474867\n",
      "\n",
      "Fitting model with parameters:  n_estimators - 250, learning_rate - 0.05, max_depth - 5\n",
      "Training score: 0.9448525989966929.  Out-of-sample score: 0.9517281253311232. Score difference: -0.006875526334430226\n",
      "\n",
      "Fitting model with parameters:  n_estimators - 250, learning_rate - 0.05, max_depth - 6\n",
      "Training score: 0.9650353173726132.  Out-of-sample score: 0.9743713262834842. Score difference: -0.009336008910871052\n",
      "\n",
      "Fitting model with parameters:  n_estimators - 250, learning_rate - 0.1, max_depth - 3\n",
      "Training score: 0.9132489935184986.  Out-of-sample score: 0.9098128245391527. Score difference: 0.003436168979345955\n",
      "\n",
      "Fitting model with parameters:  n_estimators - 250, learning_rate - 0.1, max_depth - 4\n",
      "Training score: 0.9415576353000229.  Out-of-sample score: 0.9446209051810821. Score difference: -0.003063269881059205\n",
      "\n",
      "Fitting model with parameters:  n_estimators - 250, learning_rate - 0.1, max_depth - 5\n",
      "Training score: 0.9638798539927123.  Out-of-sample score: 0.9734195490142695. Score difference: -0.00953969502155727\n",
      "\n",
      "Fitting model with parameters:  n_estimators - 250, learning_rate - 0.1, max_depth - 6\n",
      "Training score: 0.9788334818056437.  Out-of-sample score: 0.9859900805149254. Score difference: -0.0071565987092817585\n",
      "\n",
      "Fitting model with parameters:  n_estimators - 250, learning_rate - 0.2, max_depth - 3\n",
      "Training score: 0.9335504921569308.  Out-of-sample score: 0.9366125564964761. Score difference: -0.0030620643395453673\n",
      "\n",
      "Fitting model with parameters:  n_estimators - 250, learning_rate - 0.2, max_depth - 4\n",
      "Training score: 0.9601181272677596.  Out-of-sample score: 0.9688546839080687. Score difference: -0.008736556640309145\n",
      "\n",
      "Fitting model with parameters:  n_estimators - 250, learning_rate - 0.2, max_depth - 5\n",
      "Training score: 0.9801609449491855.  Out-of-sample score: 0.9873564593227699. Score difference: -0.007195514373584455\n",
      "\n",
      "Fitting model with parameters:  n_estimators - 250, learning_rate - 0.2, max_depth - 6\n",
      "Training score: 0.991668016152828.  Out-of-sample score: 0.9954732539746353. Score difference: -0.0038052378218073057\n",
      "\n",
      "Fitting model with parameters:  n_estimators - 500, learning_rate - 0.05, max_depth - 3\n",
      "Training score: 0.9102101590669268.  Out-of-sample score: 0.9044243669271834. Score difference: 0.005785792139743395\n",
      "\n",
      "Fitting model with parameters:  n_estimators - 500, learning_rate - 0.05, max_depth - 4\n",
      "Training score: 0.9415977657992103.  Out-of-sample score: 0.9467601571377531. Score difference: -0.005162391338542793\n",
      "\n",
      "Fitting model with parameters:  n_estimators - 500, learning_rate - 0.05, max_depth - 5\n",
      "Training score: 0.9627533083453903.  Out-of-sample score: 0.9716008277110071. Score difference: -0.008847519365616785\n",
      "\n",
      "Fitting model with parameters:  n_estimators - 500, learning_rate - 0.05, max_depth - 6\n",
      "Training score: 0.9779485140275204.  Out-of-sample score: 0.9862325150091156. Score difference: -0.008284000981595208\n",
      "\n",
      "Fitting model with parameters:  n_estimators - 500, learning_rate - 0.1, max_depth - 3\n",
      "Training score: 0.9335800267937997.  Out-of-sample score: 0.932824414769309. Score difference: 0.0007556120244907039\n",
      "\n",
      "Fitting model with parameters:  n_estimators - 500, learning_rate - 0.1, max_depth - 4\n",
      "Training score: 0.9584233102536671.  Out-of-sample score: 0.963982336041542. Score difference: -0.005559025787874927\n",
      "\n",
      "Fitting model with parameters:  n_estimators - 500, learning_rate - 0.1, max_depth - 5\n",
      "Training score: 0.9799913446574835.  Out-of-sample score: 0.9871269515612242. Score difference: -0.00713560690374071\n",
      "\n",
      "Fitting model with parameters:  n_estimators - 500, learning_rate - 0.1, max_depth - 6\n",
      "Training score: 0.991590898648628.  Out-of-sample score: 0.9955466706446812. Score difference: -0.003955771996053126\n",
      "\n",
      "Fitting model with parameters:  n_estimators - 500, learning_rate - 0.2, max_depth - 3\n",
      "Training score: 0.95059686533848.  Out-of-sample score: 0.9556714034135128. Score difference: -0.005074538075032775\n",
      "\n",
      "Fitting model with parameters:  n_estimators - 500, learning_rate - 0.2, max_depth - 4\n",
      "Training score: 0.9761178898142858.  Out-of-sample score: 0.9831618721540677. Score difference: -0.0070439823397818735\n",
      "\n",
      "Fitting model with parameters:  n_estimators - 500, learning_rate - 0.2, max_depth - 5\n",
      "Training score: 0.9919674236519405.  Out-of-sample score: 0.9957806435534501. Score difference: -0.0038132199015096235\n",
      "\n",
      "Fitting model with parameters:  n_estimators - 500, learning_rate - 0.2, max_depth - 6\n",
      "Training score: 0.9980887797231751.  Out-of-sample score: 0.9991421410264273. Score difference: -0.001053361303252176\n",
      "\n"
     ]
    }
   ],
   "source": [
    "# Fine-tune the model\n",
    "\n",
    "# create training & test sets\n",
    "train, val, test = create_val_splits(df, return_val=True)\n",
    "\n",
    "# split into X & y\n",
    "X_train, y_train = train.drop('count', axis=1), train['count']\n",
    "X_val, y_val = val.drop('count', axis=1), val['count']\n",
    "\n",
    "n_estimators  = [100, 250, 500]\n",
    "learning_rate = [.05, .1, .2]\n",
    "max_depth     = [3, 4, 5, 6]\n",
    "\n",
    "# and cycle through our model parameters\n",
    "for estimators in n_estimators:\n",
    "    for rate in learning_rate:\n",
    "        for depth in max_depth:\n",
    "            print(f\"Fitting model with parameters:  n_estimators - {estimators}, learning_rate - {rate}, max_depth - {depth}\")\n",
    "            mod   = GradientBoostingRegressor(n_estimators=estimators, learning_rate=rate, max_depth=depth)\n",
    "            pipe  = make_pipeline(ce.TargetEncoder(), mod)\n",
    "            pipe.fit(X_train, y_train)\n",
    "            training_score = pipe.score(X_train, y_train)\n",
    "            val_score = pipe.score(X_val, y_val)\n",
    "            print(f\"Training score: {training_score}.\\n Out-of-sample score: {val_score}.\\nScore difference: {training_score - val_score}\\n\\n\")"
   ]
  },
  {
   "cell_type": "code",
   "execution_count": 257,
   "metadata": {},
   "outputs": [
    {
     "data": {
      "text/plain": [
       "0.9980887797231751"
      ]
     },
     "execution_count": 257,
     "metadata": {},
     "output_type": "execute_result"
    }
   ],
   "source": [
    "# best settings are:\n",
    "# n_estimators - 500\n",
    "# learning_rate - 0.2\n",
    "# max_depth - 6\n",
    "\n",
    "mod   = GradientBoostingRegressor(n_estimators=500, learning_rate=0.2, max_depth=6)\n",
    "pipe  = make_pipeline(ce.TargetEncoder(), mod)\n",
    "\n",
    "# KFold validation\n",
    "\n",
    "# create training & test sets\n",
    "train, val, test = create_val_splits(df, return_val=True)\n",
    "\n",
    "# split into X & y\n",
    "X_train, y_train = train.drop('count', axis=1), train['count']\n",
    "X_val, y_val = val.drop('count', axis=1), val['count']\n",
    "X_test, y_test = test.drop('count', axis=1), test['count']\n",
    "\n",
    "TimeSplitter = TimeSeriesSplit(n_splits=10)\n",
    "\n",
    "scores = cross_val_score(estimator=pipe, X=X_train, y=y_train, cv=TimeSplitter)"
   ]
  },
  {
   "cell_type": "code",
   "execution_count": 249,
   "metadata": {},
   "outputs": [
    {
     "data": {
      "text/plain": [
       "array([0.68214301, 0.70086594, 0.72910495, 0.72237737, 0.85523153,\n",
       "       0.82652577, 0.88311853, 0.89350435, 0.7809867 , 0.84265843,\n",
       "       0.84866671, 0.87338528, 0.77526483, 0.87611667, 0.8170452 ,\n",
       "       0.83528697, 0.86535836, 0.85650642, 0.89429496, 0.83654006])"
      ]
     },
     "execution_count": 249,
     "metadata": {},
     "output_type": "execute_result"
    }
   ],
   "source": [
    "scores"
   ]
  },
  {
   "cell_type": "code",
   "execution_count": 250,
   "metadata": {},
   "outputs": [
    {
     "data": {
      "text/plain": [
       "0.8197491020147062"
      ]
     },
     "execution_count": 250,
     "metadata": {},
     "output_type": "execute_result"
    }
   ],
   "source": [
    "scores.mean()"
   ]
  },
  {
   "cell_type": "code",
   "execution_count": 266,
   "metadata": {},
   "outputs": [
    {
     "data": {
      "text/plain": [
       "0.8430434440420762"
      ]
     },
     "execution_count": 266,
     "metadata": {},
     "output_type": "execute_result"
    }
   ],
   "source": [
    "pipe.score(X_test, y_test)"
   ]
  },
  {
   "cell_type": "code",
   "execution_count": null,
   "metadata": {},
   "outputs": [],
   "source": []
  },
  {
   "cell_type": "code",
   "execution_count": null,
   "metadata": {},
   "outputs": [],
   "source": []
  },
  {
   "cell_type": "code",
   "execution_count": null,
   "metadata": {},
   "outputs": [],
   "source": []
  },
  {
   "cell_type": "code",
   "execution_count": null,
   "metadata": {},
   "outputs": [],
   "source": []
  },
  {
   "cell_type": "code",
   "execution_count": null,
   "metadata": {},
   "outputs": [],
   "source": []
  },
  {
   "cell_type": "code",
   "execution_count": null,
   "metadata": {},
   "outputs": [],
   "source": []
  },
  {
   "cell_type": "code",
   "execution_count": null,
   "metadata": {},
   "outputs": [],
   "source": []
  },
  {
   "cell_type": "code",
   "execution_count": null,
   "metadata": {},
   "outputs": [],
   "source": []
  },
  {
   "cell_type": "code",
   "execution_count": null,
   "metadata": {},
   "outputs": [],
   "source": []
  },
  {
   "cell_type": "code",
   "execution_count": null,
   "metadata": {},
   "outputs": [],
   "source": []
  },
  {
   "cell_type": "code",
   "execution_count": null,
   "metadata": {},
   "outputs": [],
   "source": []
  },
  {
   "cell_type": "code",
   "execution_count": null,
   "metadata": {},
   "outputs": [],
   "source": []
  },
  {
   "cell_type": "code",
   "execution_count": 320,
   "metadata": {},
   "outputs": [],
   "source": [
    "df.to_csv('/Users/cameronlefevre/Data Science/coding/GA-DS-Class/Homework/Unit3/data/bikeshare_check.csv')"
   ]
  },
  {
   "cell_type": "code",
   "execution_count": 97,
   "metadata": {},
   "outputs": [
    {
     "data": {
      "text/plain": [
       "10    0.687476\n",
       "12    0.821739\n",
       "9     0.880944\n",
       "8     0.923227\n",
       "14    0.962980\n",
       "2     0.988269\n",
       "3     0.993217\n",
       "5     0.998028\n",
       "4     0.998632\n",
       "6     0.999142\n",
       "13    0.999520\n",
       "15    0.999792\n",
       "7     0.999934\n",
       "0     0.999981\n",
       "1     1.000000\n",
       "11    1.000000\n",
       "Name: Importance, dtype: float64"
      ]
     },
     "execution_count": 97,
     "metadata": {},
     "output_type": "execute_result"
    }
   ],
   "source": [
    "feats['Importance'].cumsum()"
   ]
  },
  {
   "cell_type": "code",
   "execution_count": 98,
   "metadata": {},
   "outputs": [
    {
     "data": {
      "text/html": [
       "<div>\n",
       "<style scoped>\n",
       "    .dataframe tbody tr th:only-of-type {\n",
       "        vertical-align: middle;\n",
       "    }\n",
       "\n",
       "    .dataframe tbody tr th {\n",
       "        vertical-align: top;\n",
       "    }\n",
       "\n",
       "    .dataframe thead th {\n",
       "        text-align: right;\n",
       "    }\n",
       "</style>\n",
       "<table border=\"1\" class=\"dataframe\">\n",
       "  <thead>\n",
       "    <tr style=\"text-align: right;\">\n",
       "      <th></th>\n",
       "      <th>Columns</th>\n",
       "      <th>Importance</th>\n",
       "    </tr>\n",
       "  </thead>\n",
       "  <tbody>\n",
       "    <tr>\n",
       "      <th>10</th>\n",
       "      <td>previous_hour_count</td>\n",
       "      <td>0.687476</td>\n",
       "    </tr>\n",
       "    <tr>\n",
       "      <th>12</th>\n",
       "      <td>previous_hour_countprevious_day_count</td>\n",
       "      <td>0.821739</td>\n",
       "    </tr>\n",
       "    <tr>\n",
       "      <th>9</th>\n",
       "      <td>previous_hour_countprevious_day_countrush_hour</td>\n",
       "      <td>0.880944</td>\n",
       "    </tr>\n",
       "    <tr>\n",
       "      <th>8</th>\n",
       "      <td>previous_hour_countprevious_day_countrush_hour...</td>\n",
       "      <td>0.923227</td>\n",
       "    </tr>\n",
       "    <tr>\n",
       "      <th>14</th>\n",
       "      <td>previous_hour_countprevious_day_countrush_hour...</td>\n",
       "      <td>0.962980</td>\n",
       "    </tr>\n",
       "    <tr>\n",
       "      <th>2</th>\n",
       "      <td>previous_hour_countprevious_day_countrush_hour...</td>\n",
       "      <td>0.988269</td>\n",
       "    </tr>\n",
       "    <tr>\n",
       "      <th>3</th>\n",
       "      <td>previous_hour_countprevious_day_countrush_hour...</td>\n",
       "      <td>0.993217</td>\n",
       "    </tr>\n",
       "    <tr>\n",
       "      <th>5</th>\n",
       "      <td>previous_hour_countprevious_day_countrush_hour...</td>\n",
       "      <td>0.998028</td>\n",
       "    </tr>\n",
       "    <tr>\n",
       "      <th>4</th>\n",
       "      <td>previous_hour_countprevious_day_countrush_hour...</td>\n",
       "      <td>0.998632</td>\n",
       "    </tr>\n",
       "    <tr>\n",
       "      <th>6</th>\n",
       "      <td>previous_hour_countprevious_day_countrush_hour...</td>\n",
       "      <td>0.999142</td>\n",
       "    </tr>\n",
       "    <tr>\n",
       "      <th>13</th>\n",
       "      <td>previous_hour_countprevious_day_countrush_hour...</td>\n",
       "      <td>0.999520</td>\n",
       "    </tr>\n",
       "    <tr>\n",
       "      <th>15</th>\n",
       "      <td>previous_hour_countprevious_day_countrush_hour...</td>\n",
       "      <td>0.999792</td>\n",
       "    </tr>\n",
       "    <tr>\n",
       "      <th>7</th>\n",
       "      <td>previous_hour_countprevious_day_countrush_hour...</td>\n",
       "      <td>0.999934</td>\n",
       "    </tr>\n",
       "    <tr>\n",
       "      <th>0</th>\n",
       "      <td>previous_hour_countprevious_day_countrush_hour...</td>\n",
       "      <td>0.999981</td>\n",
       "    </tr>\n",
       "    <tr>\n",
       "      <th>1</th>\n",
       "      <td>previous_hour_countprevious_day_countrush_hour...</td>\n",
       "      <td>1.000000</td>\n",
       "    </tr>\n",
       "    <tr>\n",
       "      <th>11</th>\n",
       "      <td>previous_hour_countprevious_day_countrush_hour...</td>\n",
       "      <td>1.000000</td>\n",
       "    </tr>\n",
       "  </tbody>\n",
       "</table>\n",
       "</div>"
      ],
      "text/plain": [
       "                                              Columns  Importance\n",
       "10                                previous_hour_count    0.687476\n",
       "12              previous_hour_countprevious_day_count    0.821739\n",
       "9      previous_hour_countprevious_day_countrush_hour    0.880944\n",
       "8   previous_hour_countprevious_day_countrush_hour...    0.923227\n",
       "14  previous_hour_countprevious_day_countrush_hour...    0.962980\n",
       "2   previous_hour_countprevious_day_countrush_hour...    0.988269\n",
       "3   previous_hour_countprevious_day_countrush_hour...    0.993217\n",
       "5   previous_hour_countprevious_day_countrush_hour...    0.998028\n",
       "4   previous_hour_countprevious_day_countrush_hour...    0.998632\n",
       "6   previous_hour_countprevious_day_countrush_hour...    0.999142\n",
       "13  previous_hour_countprevious_day_countrush_hour...    0.999520\n",
       "15  previous_hour_countprevious_day_countrush_hour...    0.999792\n",
       "7   previous_hour_countprevious_day_countrush_hour...    0.999934\n",
       "0   previous_hour_countprevious_day_countrush_hour...    0.999981\n",
       "1   previous_hour_countprevious_day_countrush_hour...    1.000000\n",
       "11  previous_hour_countprevious_day_countrush_hour...    1.000000"
      ]
     },
     "execution_count": 98,
     "metadata": {},
     "output_type": "execute_result"
    }
   ],
   "source": [
    "feats.cumsum()"
   ]
  },
  {
   "cell_type": "code",
   "execution_count": 98,
   "metadata": {},
   "outputs": [
    {
     "data": {
      "text/plain": [
       "0.804370252517772"
      ]
     },
     "execution_count": 98,
     "metadata": {},
     "output_type": "execute_result"
    }
   ],
   "source": [
    "# DO NOT USE THESE, THEY DID NOT HELP\n",
    "\n",
    "# Add column to flag whether the ride was during a storm or not\n",
    "df['is_storming'] = 0\n",
    "\n",
    "df.loc[df['weather'] == \"Light Storms/Rain\", 'is_storming'] = 1\n",
    "df.loc[df['weather'] == \"Heavy Storms/Rain\", 'is_storming'] = 1\n",
    "\n",
    "\n"
   ]
  },
  {
   "cell_type": "code",
   "execution_count": 88,
   "metadata": {},
   "outputs": [
    {
     "data": {
      "text/plain": [
       "(0.8251892371442333, 0.804370252517772)"
      ]
     },
     "execution_count": 88,
     "metadata": {},
     "output_type": "execute_result"
    }
   ],
   "source": [
    "pipe.score(X_train, y_train), pipe.score(X_val, y_val)"
   ]
  },
  {
   "cell_type": "code",
   "execution_count": 91,
   "metadata": {},
   "outputs": [
    {
     "data": {
      "text/plain": [
       "weather            season\n",
       "Clear Skies        Fall      243.583420\n",
       "                   Spring    126.781694\n",
       "                   Summer    236.729595\n",
       "                   Winter    209.511163\n",
       "Heavy Storms/Rain  Fall             NaN\n",
       "                   Spring    164.000000\n",
       "                   Summer           NaN\n",
       "                   Winter           NaN\n",
       "Light Storms/Rain  Fall      156.582915\n",
       "                   Spring     61.227488\n",
       "                   Summer    123.906250\n",
       "                   Winter    134.466667\n",
       "Partly Cloudy      Fall      230.771523\n",
       "                   Spring    106.861538\n",
       "                   Summer    189.515537\n",
       "                   Winter    194.784387\n",
       "Name: count, dtype: float64"
      ]
     },
     "execution_count": 91,
     "metadata": {},
     "output_type": "execute_result"
    }
   ],
   "source": [
    "df.groupby(['weather','season'])['count'].mean()"
   ]
  },
  {
   "cell_type": "code",
   "execution_count": null,
   "metadata": {},
   "outputs": [],
   "source": []
  },
  {
   "cell_type": "code",
   "execution_count": null,
   "metadata": {},
   "outputs": [],
   "source": []
  },
  {
   "cell_type": "code",
   "execution_count": null,
   "metadata": {},
   "outputs": [],
   "source": []
  },
  {
   "cell_type": "code",
   "execution_count": null,
   "metadata": {},
   "outputs": [],
   "source": []
  },
  {
   "cell_type": "code",
   "execution_count": null,
   "metadata": {},
   "outputs": [],
   "source": []
  },
  {
   "cell_type": "code",
   "execution_count": null,
   "metadata": {},
   "outputs": [],
   "source": [
    "df['7DayAvg_new']  = df.groupby('hour_of_day').apply(lambda x: x['count'].rolling(7).mean().shift()).values"
   ]
  },
  {
   "cell_type": "code",
   "execution_count": null,
   "metadata": {},
   "outputs": [],
   "source": [
    "\n",
    "#df['7DayAvg']  = df.groupby('hour_of_day').apply(lambda x: x['count'].rolling(7).mean().shift()).values\n",
    "\n",
    "new_thing = df.groupby('hour_of_day').apply(lambda x: x['count'].rolling(7).mean().shift()).values\n",
    "np.set_printoptions(threshold=np.inf)\n",
    "print(new_thing)"
   ]
  },
  {
   "cell_type": "code",
   "execution_count": null,
   "metadata": {},
   "outputs": [],
   "source": [
    "with pd.option_context('display.max_rows', None, 'display.max_columns', None):\n",
    "    print(new_thing.get_group(0)[['datetime', 'count']])"
   ]
  },
  {
   "cell_type": "code",
   "execution_count": null,
   "metadata": {},
   "outputs": [],
   "source": [
    "grouped_df = df.groupby('hour_of_day')[['datetime','hour_of_day', 'count','7DayAvg']]\n",
    "\n",
    "with pd.option_context('display.max_rows', None, 'display.max_columns', None):\n",
    "    print(grouped_df.get_group(0))\n",
    "\n",
    "#for key, item in grouped_df:\n",
    "#    print(grouped_df.get_group(key), \"\\n\\n\")"
   ]
  },
  {
   "cell_type": "code",
   "execution_count": null,
   "metadata": {},
   "outputs": [],
   "source": [
    "df.to_csv('/Users/cameronlefevre/Data Science/coding/GA-DS-Class/Homework/Unit3/data/bikeshare_check.csv')"
   ]
  },
  {
   "cell_type": "code",
   "execution_count": null,
   "metadata": {},
   "outputs": [],
   "source": []
  },
  {
   "cell_type": "code",
   "execution_count": null,
   "metadata": {},
   "outputs": [],
   "source": []
  },
  {
   "cell_type": "code",
   "execution_count": null,
   "metadata": {},
   "outputs": [],
   "source": [
    "# Help with rolling hourly average"
   ]
  }
 ],
 "metadata": {
  "kernelspec": {
   "display_name": "Python 3",
   "language": "python",
   "name": "python3"
  },
  "language_info": {
   "codemirror_mode": {
    "name": "ipython",
    "version": 3
   },
   "file_extension": ".py",
   "mimetype": "text/x-python",
   "name": "python",
   "nbconvert_exporter": "python",
   "pygments_lexer": "ipython3",
   "version": "3.8.5"
  }
 },
 "nbformat": 4,
 "nbformat_minor": 4
}
