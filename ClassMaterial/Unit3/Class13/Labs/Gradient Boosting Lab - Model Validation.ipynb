{
 "cells": [
  {
   "cell_type": "markdown",
   "metadata": {},
   "source": [
    "### Lab:  Model Validation With Gradient Boosting\n",
    "\n",
    "Welcome to this evening's lab!  It's going to be a fun one.  For today's class, we're going to try and take a crack at model building in a wholistic way.  \n",
    "\n",
    "Specifically, we're going to try and do three different things:\n",
    "\n",
    " - Try out different versions of our data, and use our validation scores to see if something was an improvement or not\n",
    " - We're going to adjust model parameters to try and adjust our results to help curb overfitting\n",
    " - We're going to try and find model parameters that maximize our score for our dataset\n",
    " \n",
    "The idea is that we'll be able to do a mini-walkthrough to test what it's like to build and validate a model and try and improve our results."
   ]
  },
  {
   "cell_type": "markdown",
   "metadata": {},
   "source": [
    "**Step 1:** Using the suggestions from the homework prompt given previously, try and add 3-4 different features ( columns ) to your data, and use your validation score to determine if they improved your results.  \n",
    "\n",
    "This is meant to be open ended, and to allow you a chance to re-discover material from previous labs."
   ]
  },
  {
   "cell_type": "code",
   "execution_count": 4,
   "metadata": {},
   "outputs": [],
   "source": [
    "import pandas as pd\n",
    "import numpy as np\n",
    "import category_encoders as ce\n",
    "from sklearn.ensemble import GradientBoostingRegressor\n",
    "\n",
    "def denote_null_values(df):\n",
    "    \"\"\"Denotes whether or not there are null values or not\"\"\"\n",
    "    empty_cols_query = df.isnull().sum() > 0\n",
    "    empty_df_cols = df.loc[:, empty_cols_query].columns.tolist()\n",
    "    for col in empty_df_cols:\n",
    "        col_name = f\"{col}_missing\"\n",
    "        df[col_name] = pd.isnull(df[col])\n",
    "    return df\n",
    "\n",
    "def create_val_splits(df, val_units=15, return_val=False):\n",
    "    \"\"\"Function that will take in a dataset and split it up into training, validation, and test sets\"\"\"\n",
    "    # split into training, validation, and test sets\n",
    "    train = df.groupby('id').apply(lambda x: x.iloc[:-val_units]).reset_index(drop=True)\n",
    "    test  = df.groupby('id').apply(lambda x: x.iloc[-val_units:]).reset_index(drop=True)\n",
    "    if return_val:\n",
    "        val   = train.groupby('id').apply(lambda x: x.iloc[-val_units:]).reset_index(drop=True)\n",
    "        train = train.groupby('id').apply(lambda x: x.iloc[:-val_units]).reset_index(drop=True)\n",
    "        return train, val, test\n",
    "    else:\n",
    "        return train, test\n",
    "\n"
   ]
  },
  {
   "cell_type": "code",
   "execution_count": 25,
   "metadata": {},
   "outputs": [],
   "source": [
    "df = pd.read_csv('/Users/cameronlefevre/Test-Repo/ClassMaterial/Unit3/data/restaurants.csv', parse_dates=['visit_date'])"
   ]
  },
  {
   "cell_type": "code",
   "execution_count": 26,
   "metadata": {},
   "outputs": [],
   "source": [
    "df.sort_values(by=['id', 'visit_date'], ascending=True, inplace=True)\n",
    "\n",
    "#add new feature: month column\n",
    "df['month'] = df.visit_date.dt.month\n",
    "\n",
    "#add new feature: yesterday's visitor count\n",
    "grouping = df.groupby('id').apply(lambda x: x['visitors'].shift())\n",
    "df['yesterday'] = grouping.values"
   ]
  },
  {
   "cell_type": "code",
   "execution_count": 51,
   "metadata": {},
   "outputs": [
    {
     "data": {
      "text/html": [
       "<div>\n",
       "<style scoped>\n",
       "    .dataframe tbody tr th:only-of-type {\n",
       "        vertical-align: middle;\n",
       "    }\n",
       "\n",
       "    .dataframe tbody tr th {\n",
       "        vertical-align: top;\n",
       "    }\n",
       "\n",
       "    .dataframe thead th {\n",
       "        text-align: right;\n",
       "    }\n",
       "</style>\n",
       "<table border=\"1\" class=\"dataframe\">\n",
       "  <thead>\n",
       "    <tr style=\"text-align: right;\">\n",
       "      <th></th>\n",
       "      <th>visitors</th>\n",
       "      <th>holiday</th>\n",
       "      <th>latitude</th>\n",
       "      <th>longitude</th>\n",
       "      <th>reserve_visitors</th>\n",
       "      <th>month</th>\n",
       "      <th>yesterday</th>\n",
       "      <th>last_week</th>\n",
       "    </tr>\n",
       "    <tr>\n",
       "      <th>day_of_week</th>\n",
       "      <th></th>\n",
       "      <th></th>\n",
       "      <th></th>\n",
       "      <th></th>\n",
       "      <th></th>\n",
       "      <th></th>\n",
       "      <th></th>\n",
       "      <th></th>\n",
       "    </tr>\n",
       "  </thead>\n",
       "  <tbody>\n",
       "    <tr>\n",
       "      <th>Friday</th>\n",
       "      <td>23.072737</td>\n",
       "      <td>0.040346</td>\n",
       "      <td>35.611443</td>\n",
       "      <td>137.374654</td>\n",
       "      <td>13.446642</td>\n",
       "      <td>6.207355</td>\n",
       "      <td>18.805293</td>\n",
       "      <td>20.870873</td>\n",
       "    </tr>\n",
       "    <tr>\n",
       "      <th>Monday</th>\n",
       "      <td>17.177009</td>\n",
       "      <td>0.119311</td>\n",
       "      <td>35.603786</td>\n",
       "      <td>137.311697</td>\n",
       "      <td>19.666062</td>\n",
       "      <td>6.206679</td>\n",
       "      <td>23.378976</td>\n",
       "      <td>21.284690</td>\n",
       "    </tr>\n",
       "    <tr>\n",
       "      <th>Saturday</th>\n",
       "      <td>26.313688</td>\n",
       "      <td>0.044725</td>\n",
       "      <td>35.621440</td>\n",
       "      <td>137.347762</td>\n",
       "      <td>19.068127</td>\n",
       "      <td>6.196628</td>\n",
       "      <td>23.023667</td>\n",
       "      <td>20.853125</td>\n",
       "    </tr>\n",
       "    <tr>\n",
       "      <th>Sunday</th>\n",
       "      <td>23.873362</td>\n",
       "      <td>0.032576</td>\n",
       "      <td>35.616347</td>\n",
       "      <td>137.200999</td>\n",
       "      <td>26.483229</td>\n",
       "      <td>6.189857</td>\n",
       "      <td>28.115179</td>\n",
       "      <td>21.046762</td>\n",
       "    </tr>\n",
       "    <tr>\n",
       "      <th>Thursday</th>\n",
       "      <td>18.922702</td>\n",
       "      <td>0.084772</td>\n",
       "      <td>35.607479</td>\n",
       "      <td>137.373897</td>\n",
       "      <td>9.229181</td>\n",
       "      <td>6.221997</td>\n",
       "      <td>19.157117</td>\n",
       "      <td>20.994800</td>\n",
       "    </tr>\n",
       "    <tr>\n",
       "      <th>Tuesday</th>\n",
       "      <td>17.672137</td>\n",
       "      <td>0.014077</td>\n",
       "      <td>35.622064</td>\n",
       "      <td>137.440857</td>\n",
       "      <td>16.183819</td>\n",
       "      <td>6.206636</td>\n",
       "      <td>17.918947</td>\n",
       "      <td>20.955787</td>\n",
       "    </tr>\n",
       "    <tr>\n",
       "      <th>Wednesday</th>\n",
       "      <td>19.230121</td>\n",
       "      <td>0.024612</td>\n",
       "      <td>35.608566</td>\n",
       "      <td>137.420034</td>\n",
       "      <td>11.250680</td>\n",
       "      <td>6.225014</td>\n",
       "      <td>17.976862</td>\n",
       "      <td>20.921810</td>\n",
       "    </tr>\n",
       "  </tbody>\n",
       "</table>\n",
       "</div>"
      ],
      "text/plain": [
       "              visitors   holiday   latitude   longitude  reserve_visitors  \\\n",
       "day_of_week                                                                 \n",
       "Friday       23.072737  0.040346  35.611443  137.374654         13.446642   \n",
       "Monday       17.177009  0.119311  35.603786  137.311697         19.666062   \n",
       "Saturday     26.313688  0.044725  35.621440  137.347762         19.068127   \n",
       "Sunday       23.873362  0.032576  35.616347  137.200999         26.483229   \n",
       "Thursday     18.922702  0.084772  35.607479  137.373897          9.229181   \n",
       "Tuesday      17.672137  0.014077  35.622064  137.440857         16.183819   \n",
       "Wednesday    19.230121  0.024612  35.608566  137.420034         11.250680   \n",
       "\n",
       "                month  yesterday  last_week  \n",
       "day_of_week                                  \n",
       "Friday       6.207355  18.805293  20.870873  \n",
       "Monday       6.206679  23.378976  21.284690  \n",
       "Saturday     6.196628  23.023667  20.853125  \n",
       "Sunday       6.189857  28.115179  21.046762  \n",
       "Thursday     6.221997  19.157117  20.994800  \n",
       "Tuesday      6.206636  17.918947  20.955787  \n",
       "Wednesday    6.225014  17.976862  20.921810  "
      ]
     },
     "execution_count": 51,
     "metadata": {},
     "output_type": "execute_result"
    }
   ],
   "source": [
    "df.groupby('day_of_week').mean()"
   ]
  },
  {
   "cell_type": "markdown",
   "metadata": {},
   "source": [
    "**Step 2:** Try and reduce overfitting in your model, if it's persistent.  Ideally, you want your in-sample and out-of-sample scores to be about the same, or at least increasing or decreasing in proportional amounts.  \n",
    "\n",
    "The idea here is two-fold:  see if you can narrow the gap between in-sample and out-of-sample results (using training & validation sets), while simultaneously **not** decreasing your model scores (or at least not by very much).  The idea being that the closer these two are, the more reliable your results are likely to be.\n",
    "\n",
    "Some knobs you can turn:\n",
    " - `min_samples_leaf`: parameter in the category encoder that determines what cutoff point you can use for using the local vs. global average for the category\n",
    " - `subsample`: parameter in gbm that determines what fraction of your dataset to use at each boosting round.  This both reduces training time and makes each fitting round less related to the other\n",
    " - `max_features`: what portion of columns to use at each split.  This is very similar in purpose to `subsample`, but randomizes data at each split, vs. each round."
   ]
  },
  {
   "cell_type": "code",
   "execution_count": null,
   "metadata": {},
   "outputs": [],
   "source": [
    "# your code here"
   ]
  },
  {
   "cell_type": "markdown",
   "metadata": {},
   "source": [
    "**Step 3:** Using the results that gave you the best answer from above, try now to find model parameters that maximize information extraction.  The three main ones are:\n",
    "\n",
    " - `n_estimators`:  how many boosting rounds to use\n",
    " - `learning_rate`: how much shrinkage to use at each update (keep this from .05 to .2)\n",
    " - `max_depth`: how deep each tree in your model goes\n",
    " \n",
    " **important:** fitting these things could take a looooong time.  We don't have all night.  So don't try and make this exhaustive, just try doing a little bit of parameter exploration to see if you can see in what directions to push model parameters to improve your results.  \n",
    " \n",
    " Note your validation score before proceeding to the next step."
   ]
  },
  {
   "cell_type": "code",
   "execution_count": null,
   "metadata": {},
   "outputs": [],
   "source": [
    "# your code here"
   ]
  },
  {
   "cell_type": "markdown",
   "metadata": {},
   "source": [
    "**Step 4:** Take the best version of your model & your data, and fit it on **all** of your training + validation data.  The idea is that now that we've found the best version of what we have to work with, we want to give it as much training samples as possible.  "
   ]
  },
  {
   "cell_type": "code",
   "execution_count": null,
   "metadata": {},
   "outputs": [],
   "source": [
    "# your code here"
   ]
  },
  {
   "cell_type": "markdown",
   "metadata": {},
   "source": [
    "**Step 5:** Score your model on your test set.\n",
    "\n",
    "Note how your validation + test scores compared to one another."
   ]
  },
  {
   "cell_type": "code",
   "execution_count": null,
   "metadata": {},
   "outputs": [],
   "source": [
    "# your code here"
   ]
  }
 ],
 "metadata": {
  "kernelspec": {
   "display_name": "Python 3",
   "language": "python",
   "name": "python3"
  },
  "language_info": {
   "codemirror_mode": {
    "name": "ipython",
    "version": 3
   },
   "file_extension": ".py",
   "mimetype": "text/x-python",
   "name": "python",
   "nbconvert_exporter": "python",
   "pygments_lexer": "ipython3",
   "version": "3.8.3"
  }
 },
 "nbformat": 4,
 "nbformat_minor": 4
}
