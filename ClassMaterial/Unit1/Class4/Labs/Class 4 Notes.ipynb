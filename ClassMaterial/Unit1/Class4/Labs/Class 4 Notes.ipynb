{
 "cells": [
  {
   "cell_type": "code",
   "execution_count": 1,
   "metadata": {},
   "outputs": [],
   "source": [
    "import pandas as pd\n",
    "import requests\n",
    "import bs4"
   ]
  },
  {
   "cell_type": "code",
   "execution_count": 2,
   "metadata": {},
   "outputs": [],
   "source": [
    "url = \"https://www.yelp.com/search?find_desc=Restaurants&find_loc=London%2C%20United%20Kingdom&ns=1\"\n",
    "req = requests.get(url)"
   ]
  },
  {
   "cell_type": "code",
   "execution_count": 5,
   "metadata": {},
   "outputs": [],
   "source": [
    "scraper = bs4.BeautifulSoup(req.text)"
   ]
  },
  {
   "cell_type": "code",
   "execution_count": 6,
   "metadata": {},
   "outputs": [
    {
     "data": {
      "text/plain": [
       "bs4.BeautifulSoup"
      ]
     },
     "execution_count": 6,
     "metadata": {},
     "output_type": "execute_result"
    }
   ],
   "source": [
    "type(scraper)"
   ]
  },
  {
   "cell_type": "code",
   "execution_count": 60,
   "metadata": {},
   "outputs": [],
   "source": [
    "class_selectors = {'class': 'link__09f24__1kwXV', 'class': 'link-color--inherit__09f24__3PYlA', 'class': 'link-size--inherit__09f24__2Uj95'}\n",
    "\n",
    "page_links = scraper.find_all('a', class_selectors)"
   ]
  },
  {
   "cell_type": "code",
   "execution_count": 58,
   "metadata": {},
   "outputs": [],
   "source": [
    "link_texts = [link.text for link in page_links]\n",
    "\n"
   ]
  },
  {
   "cell_type": "code",
   "execution_count": 59,
   "metadata": {},
   "outputs": [
    {
     "data": {
      "text/plain": [
       "[]"
      ]
     },
     "execution_count": 59,
     "metadata": {},
     "output_type": "execute_result"
    }
   ],
   "source": [
    "link_texts"
   ]
  },
  {
   "cell_type": "code",
   "execution_count": 61,
   "metadata": {},
   "outputs": [],
   "source": [
    "class_selector = {'class': 'container__09f24__21w3G'}"
   ]
  },
  {
   "cell_type": "code",
   "execution_count": 62,
   "metadata": {},
   "outputs": [],
   "source": [
    "list_of_divs = scraper.find_all('div', class_selector)"
   ]
  },
  {
   "cell_type": "code",
   "execution_count": 64,
   "metadata": {},
   "outputs": [
    {
     "data": {
      "text/plain": [
       "10"
      ]
     },
     "execution_count": 64,
     "metadata": {},
     "output_type": "execute_result"
    }
   ],
   "source": [
    "len(list_of_divs)"
   ]
  },
  {
   "cell_type": "code",
   "execution_count": 67,
   "metadata": {},
   "outputs": [],
   "source": [
    "restaurant_imgs = [restaurant.find_all('img') for restaurant in list_of_divs]"
   ]
  },
  {
   "cell_type": "code",
   "execution_count": 68,
   "metadata": {},
   "outputs": [
    {
     "data": {
      "text/plain": [
       "[[<img alt=\"Ffiona’s Restaurant\" class=\"photo-box-img__09f24__3F3c5\" height=\"100%\" loading=\"auto\" src=\"https://s3-media0.fl.yelpcdn.com/bphoto/seykrl3tugRsE8UL6-phKQ/ls.jpg\" srcset=\"https://s3-media0.fl.yelpcdn.com/bphoto/seykrl3tugRsE8UL6-phKQ/258s.jpg 1.03x,https://s3-media0.fl.yelpcdn.com/bphoto/seykrl3tugRsE8UL6-phKQ/348s.jpg 1.39x,https://s3-media0.fl.yelpcdn.com/bphoto/seykrl3tugRsE8UL6-phKQ/300s.jpg 1.20x\" width=\"100%\"/>,\n",
       "  <img alt=\"\" class=\"offscreen__09f24__1VFco\" height=\"560\" src=\"https://s3-media0.fl.yelpcdn.com/assets/public/stars_v2.yji-52d3d7a328db670d4402843cbddeed89.png\" width=\"132\"/>],\n",
       " [<img alt=\"Dishoom\" class=\"photo-box-img__09f24__3F3c5\" height=\"100%\" loading=\"auto\" src=\"https://s3-media0.fl.yelpcdn.com/bphoto/4HC2FmxHZYzxqlqiRaeKCQ/ls.jpg\" srcset=\"https://s3-media0.fl.yelpcdn.com/bphoto/4HC2FmxHZYzxqlqiRaeKCQ/258s.jpg 1.03x,https://s3-media0.fl.yelpcdn.com/bphoto/4HC2FmxHZYzxqlqiRaeKCQ/348s.jpg 1.39x,https://s3-media0.fl.yelpcdn.com/bphoto/4HC2FmxHZYzxqlqiRaeKCQ/300s.jpg 1.20x\" width=\"100%\"/>,\n",
       "  <img alt=\"\" class=\"offscreen__09f24__1VFco\" height=\"560\" src=\"https://s3-media0.fl.yelpcdn.com/assets/public/stars_v2.yji-52d3d7a328db670d4402843cbddeed89.png\" width=\"132\"/>],\n",
       " [<img alt=\"The Golden Chippy\" class=\"photo-box-img__09f24__3F3c5\" height=\"100%\" loading=\"auto\" src=\"https://s3-media0.fl.yelpcdn.com/bphoto/beEg47c5JfGgy9le6u3imw/ls.jpg\" srcset=\"https://s3-media0.fl.yelpcdn.com/bphoto/beEg47c5JfGgy9le6u3imw/258s.jpg 1.03x,https://s3-media0.fl.yelpcdn.com/bphoto/beEg47c5JfGgy9le6u3imw/348s.jpg 1.39x,https://s3-media0.fl.yelpcdn.com/bphoto/beEg47c5JfGgy9le6u3imw/300s.jpg 1.20x\" width=\"100%\"/>,\n",
       "  <img alt=\"\" class=\"offscreen__09f24__1VFco\" height=\"560\" src=\"https://s3-media0.fl.yelpcdn.com/assets/public/stars_v2.yji-52d3d7a328db670d4402843cbddeed89.png\" width=\"132\"/>],\n",
       " [<img alt=\"The Mayfair Chippy\" class=\"photo-box-img__09f24__3F3c5\" height=\"100%\" loading=\"auto\" src=\"https://s3-media0.fl.yelpcdn.com/bphoto/BDTRkfVSJ8hoAT0amAfwkw/ls.jpg\" srcset=\"https://s3-media0.fl.yelpcdn.com/bphoto/BDTRkfVSJ8hoAT0amAfwkw/258s.jpg 1.03x,https://s3-media0.fl.yelpcdn.com/bphoto/BDTRkfVSJ8hoAT0amAfwkw/348s.jpg 1.39x,https://s3-media0.fl.yelpcdn.com/bphoto/BDTRkfVSJ8hoAT0amAfwkw/300s.jpg 1.20x\" width=\"100%\"/>,\n",
       "  <img alt=\"\" class=\"offscreen__09f24__1VFco\" height=\"560\" src=\"https://s3-media0.fl.yelpcdn.com/assets/public/stars_v2.yji-52d3d7a328db670d4402843cbddeed89.png\" width=\"132\"/>],\n",
       " [<img alt=\"Duck &amp; Waffle\" class=\"photo-box-img__09f24__3F3c5\" height=\"100%\" loading=\"auto\" src=\"https://s3-media0.fl.yelpcdn.com/bphoto/WrS5I1dN-nGXePaADwE0cw/ls.jpg\" srcset=\"https://s3-media0.fl.yelpcdn.com/bphoto/WrS5I1dN-nGXePaADwE0cw/258s.jpg 1.03x,https://s3-media0.fl.yelpcdn.com/bphoto/WrS5I1dN-nGXePaADwE0cw/348s.jpg 1.39x,https://s3-media0.fl.yelpcdn.com/bphoto/WrS5I1dN-nGXePaADwE0cw/300s.jpg 1.20x\" width=\"100%\"/>,\n",
       "  <img alt=\"\" class=\"offscreen__09f24__1VFco\" height=\"560\" src=\"https://s3-media0.fl.yelpcdn.com/assets/public/stars_v2.yji-52d3d7a328db670d4402843cbddeed89.png\" width=\"132\"/>],\n",
       " [<img alt=\"Restaurant Gordon Ramsay\" class=\"photo-box-img__09f24__3F3c5\" height=\"100%\" loading=\"auto\" src=\"https://s3-media0.fl.yelpcdn.com/bphoto/hRU7AK2ALJYPS3zuyjgpmA/ls.jpg\" srcset=\"https://s3-media0.fl.yelpcdn.com/bphoto/hRU7AK2ALJYPS3zuyjgpmA/258s.jpg 1.03x,https://s3-media0.fl.yelpcdn.com/bphoto/hRU7AK2ALJYPS3zuyjgpmA/348s.jpg 1.39x,https://s3-media0.fl.yelpcdn.com/bphoto/hRU7AK2ALJYPS3zuyjgpmA/300s.jpg 1.20x\" width=\"100%\"/>,\n",
       "  <img alt=\"\" class=\"offscreen__09f24__1VFco\" height=\"560\" src=\"https://s3-media0.fl.yelpcdn.com/assets/public/stars_v2.yji-52d3d7a328db670d4402843cbddeed89.png\" width=\"132\"/>],\n",
       " [<img alt=\"Flat Iron\" class=\"photo-box-img__09f24__3F3c5\" height=\"100%\" loading=\"auto\" src=\"https://s3-media0.fl.yelpcdn.com/bphoto/bDKwRFQ6_kNUj8mU7VjhjA/ls.jpg\" srcset=\"https://s3-media0.fl.yelpcdn.com/bphoto/bDKwRFQ6_kNUj8mU7VjhjA/258s.jpg 1.03x,https://s3-media0.fl.yelpcdn.com/bphoto/bDKwRFQ6_kNUj8mU7VjhjA/348s.jpg 1.39x,https://s3-media0.fl.yelpcdn.com/bphoto/bDKwRFQ6_kNUj8mU7VjhjA/300s.jpg 1.20x\" width=\"100%\"/>,\n",
       "  <img alt=\"\" class=\"offscreen__09f24__1VFco\" height=\"560\" src=\"https://s3-media0.fl.yelpcdn.com/assets/public/stars_v2.yji-52d3d7a328db670d4402843cbddeed89.png\" width=\"132\"/>],\n",
       " [<img alt=\"Mother Mash\" class=\"photo-box-img__09f24__3F3c5\" height=\"100%\" loading=\"auto\" src=\"https://s3-media0.fl.yelpcdn.com/bphoto/YRdJ5N93Jc3qOIxx_itIRA/ls.jpg\" srcset=\"https://s3-media0.fl.yelpcdn.com/bphoto/YRdJ5N93Jc3qOIxx_itIRA/258s.jpg 1.03x,https://s3-media0.fl.yelpcdn.com/bphoto/YRdJ5N93Jc3qOIxx_itIRA/348s.jpg 1.39x,https://s3-media0.fl.yelpcdn.com/bphoto/YRdJ5N93Jc3qOIxx_itIRA/300s.jpg 1.20x\" width=\"100%\"/>,\n",
       "  <img alt=\"\" class=\"offscreen__09f24__1VFco\" height=\"560\" src=\"https://s3-media0.fl.yelpcdn.com/assets/public/stars_v2.yji-52d3d7a328db670d4402843cbddeed89.png\" width=\"132\"/>],\n",
       " [<img alt=\"The Queens Arms\" class=\"photo-box-img__09f24__3F3c5\" height=\"100%\" loading=\"auto\" src=\"https://s3-media0.fl.yelpcdn.com/bphoto/-QF0e-bRLjskiUjWPD7Ihg/ls.jpg\" srcset=\"https://s3-media0.fl.yelpcdn.com/bphoto/-QF0e-bRLjskiUjWPD7Ihg/258s.jpg 1.03x,https://s3-media0.fl.yelpcdn.com/bphoto/-QF0e-bRLjskiUjWPD7Ihg/348s.jpg 1.39x,https://s3-media0.fl.yelpcdn.com/bphoto/-QF0e-bRLjskiUjWPD7Ihg/300s.jpg 1.20x\" width=\"100%\"/>,\n",
       "  <img alt=\"\" class=\"offscreen__09f24__1VFco\" height=\"560\" src=\"https://s3-media0.fl.yelpcdn.com/assets/public/stars_v2.yji-52d3d7a328db670d4402843cbddeed89.png\" width=\"132\"/>],\n",
       " [<img alt=\"Padella\" class=\"photo-box-img__09f24__3F3c5\" height=\"100%\" loading=\"auto\" src=\"https://s3-media0.fl.yelpcdn.com/bphoto/Z6ujE4hSjT6DrejptE9PQQ/ls.jpg\" srcset=\"https://s3-media0.fl.yelpcdn.com/bphoto/Z6ujE4hSjT6DrejptE9PQQ/258s.jpg 1.03x,https://s3-media0.fl.yelpcdn.com/bphoto/Z6ujE4hSjT6DrejptE9PQQ/348s.jpg 1.39x,https://s3-media0.fl.yelpcdn.com/bphoto/Z6ujE4hSjT6DrejptE9PQQ/300s.jpg 1.20x\" width=\"100%\"/>,\n",
       "  <img alt=\"\" class=\"offscreen__09f24__1VFco\" height=\"560\" src=\"https://s3-media0.fl.yelpcdn.com/assets/public/stars_v2.yji-52d3d7a328db670d4402843cbddeed89.png\" width=\"132\"/>]]"
      ]
     },
     "execution_count": 68,
     "metadata": {},
     "output_type": "execute_result"
    }
   ],
   "source": [
    "restaurant_imgs"
   ]
  },
  {
   "cell_type": "code",
   "execution_count": null,
   "metadata": {},
   "outputs": [],
   "source": []
  }
 ],
 "metadata": {
  "kernelspec": {
   "display_name": "Python 3",
   "language": "python",
   "name": "python3"
  },
  "language_info": {
   "codemirror_mode": {
    "name": "ipython",
    "version": 3
   },
   "file_extension": ".py",
   "mimetype": "text/x-python",
   "name": "python",
   "nbconvert_exporter": "python",
   "pygments_lexer": "ipython3",
   "version": "3.8.3"
  }
 },
 "nbformat": 4,
 "nbformat_minor": 4
}
